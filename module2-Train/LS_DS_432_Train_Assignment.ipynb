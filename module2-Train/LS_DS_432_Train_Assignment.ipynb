{
  "nbformat": 4,
  "nbformat_minor": 0,
  "metadata": {
    "colab": {
      "name": "LS_DS_432_Train_Assignment.ipynb",
      "provenance": [],
      "collapsed_sections": [],
      "include_colab_link": true
    },
    "kernelspec": {
      "display_name": "Python 3",
      "language": "python",
      "name": "python3"
    },
    "language_info": {
      "codemirror_mode": {
        "name": "ipython",
        "version": 3
      },
      "file_extension": ".py",
      "mimetype": "text/x-python",
      "name": "python",
      "nbconvert_exporter": "python",
      "pygments_lexer": "ipython3",
      "version": "3.7.3"
    },
    "nteract": {
      "version": "0.22.4"
    },
    "accelerator": "GPU"
  },
  "cells": [
    {
      "cell_type": "markdown",
      "metadata": {
        "id": "view-in-github",
        "colab_type": "text"
      },
      "source": [
        "<a href=\"https://colab.research.google.com/github/IvanCampos11/DS-Unit-4-Sprint-2-Neural-Networks/blob/main/module2-Train/LS_DS_432_Train_Assignment.ipynb\" target=\"_parent\"><img src=\"https://colab.research.google.com/assets/colab-badge.svg\" alt=\"Open In Colab\"/></a>"
      ]
    },
    {
      "cell_type": "markdown",
      "metadata": {
        "colab_type": "text",
        "id": "NGGrt9EYlCqY"
      },
      "source": [
        "<img align=\"left\" src=\"https://lever-client-logos.s3.amazonaws.com/864372b1-534c-480e-acd5-9711f850815c-1524247202159.png\" width=200>\n",
        "<br></br>\n",
        "<br></br>\n",
        "\n",
        "# Train Practice\n",
        "\n",
        "## *Data Science Unit 4 Sprint 2 Assignment 2*\n",
        "\n",
        "Continue to use TensorFlow Keras & a sample of the [Quickdraw dataset](https://github.com/googlecreativelab/quickdraw-dataset) to build a sketch classification model. The dataset has been sampled to only 10 classes and 10000 observations per class. Please build a baseline classification model then run a few experiments with different optimizers and learning rates. \n",
        "\n",
        "*Don't forgot to switch to GPU on Colab!*"
      ]
    },
    {
      "cell_type": "markdown",
      "metadata": {
        "id": "ptJ2b3wk62Ud",
        "colab_type": "text"
      },
      "source": [
        "### Write a function to load your data\n",
        "\n",
        "Wrap yesterday's preprocessing steps into a function that returns four items:\n",
        "* X_train\n",
        "* y_train\n",
        "* X_test\n",
        "* y_test\n",
        "\n",
        "Your function should accept a `path` to the data as a argument."
      ]
    },
    {
      "cell_type": "code",
      "metadata": {
        "id": "-WE5AvkiwXq5",
        "colab_type": "code",
        "colab": {}
      },
      "source": [
        "from sklearn.model_selection import train_test_split\n",
        "import pandas as pd\n",
        "import numpy as np\n",
        "from sklearn.utils import shuffle"
      ],
      "execution_count": 1,
      "outputs": []
    },
    {
      "cell_type": "code",
      "metadata": {
        "id": "nJsIsrvp7O3e",
        "colab_type": "code",
        "colab": {}
      },
      "source": [
        "def load_quickdraw10(path):\n",
        "  data = np.load(path)\n",
        "  X = data['arr_0']\n",
        "  y = data['arr_1']\n",
        "  X, y = shuffle(X, y)\n",
        "\n",
        "\n",
        "  X_train, X_test, y_train, y_test = train_test_split(X, y, test_size= 0.2)\n",
        "\n",
        "  return X_train, y_train, X_test, y_test"
      ],
      "execution_count": 2,
      "outputs": []
    },
    {
      "cell_type": "code",
      "metadata": {
        "id": "X96C_38Fyzip",
        "colab_type": "code",
        "colab": {}
      },
      "source": [
        "X_train, y_train, X_test, y_test = load_quickdraw10('quickdraw10.npz')"
      ],
      "execution_count": 4,
      "outputs": []
    },
    {
      "cell_type": "code",
      "metadata": {
        "id": "qRd5RtDR462Z",
        "colab_type": "code",
        "colab": {}
      },
      "source": [
        "X_train = X_train / 255.0\n",
        "X_test = X_test / 255.0\n",
        "\n",
        "X_train = X_train.reshape(80000, 784)\n",
        "X_test = X_test.reshape(20000, 784)"
      ],
      "execution_count": 5,
      "outputs": []
    },
    {
      "cell_type": "markdown",
      "metadata": {
        "id": "l-6PxI6H5__2",
        "colab_type": "text"
      },
      "source": [
        "### Write a Model Function\n",
        "Using your model from yesterday, write a function called `create_model` which returns a compiled TensorFlow Keras Sequential Model suitable for classifying the QuickDraw-10 dataset. Include parameters for the following: \n",
        "* Learning Rate\n",
        "* Optimizer"
      ]
    },
    {
      "cell_type": "code",
      "metadata": {
        "id": "SJu5uN90ykT9",
        "colab_type": "code",
        "colab": {}
      },
      "source": [
        "from tensorflow.keras import Sequential\n",
        "from tensorflow.keras.layers import Dense\n",
        "from tensorflow.keras.optimizers import SGD"
      ],
      "execution_count": 6,
      "outputs": []
    },
    {
      "cell_type": "code",
      "metadata": {
        "colab_type": "code",
        "id": "nEREYT-3wI1f",
        "colab": {}
      },
      "source": [
        "##### Your Code Here #####\n",
        "\n",
        "def create_model(lr=.01):\n",
        "  opt = SGD(learning_rate=lr)\n",
        "\n",
        "  model = Sequential(\n",
        "      [\n",
        "       Dense(32, activation='relu', input_dim=784),\n",
        "       Dense(32, activation='relu'),\n",
        "       Dense(10, activation='softmax')       \n",
        "      ]\n",
        ")\n",
        "  model.compile(optimizer=opt, loss='sparse_categorical_crossentropy',\n",
        "                metrics=['accuracy'])\n",
        "  return model"
      ],
      "execution_count": 7,
      "outputs": []
    },
    {
      "cell_type": "code",
      "metadata": {
        "id": "JGeSPSMJ1BvD",
        "colab_type": "code",
        "colab": {}
      },
      "source": [
        "quickdraw_model = create_model()"
      ],
      "execution_count": 8,
      "outputs": []
    },
    {
      "cell_type": "code",
      "metadata": {
        "id": "e0B4BB3_1mCe",
        "colab_type": "code",
        "colab": {
          "base_uri": "https://localhost:8080/",
          "height": 255
        },
        "outputId": "f6a06980-4d9f-4cea-f5bc-8f516d904fe0"
      },
      "source": [
        "quickdraw_model.summary()"
      ],
      "execution_count": 9,
      "outputs": [
        {
          "output_type": "stream",
          "text": [
            "Model: \"sequential\"\n",
            "_________________________________________________________________\n",
            "Layer (type)                 Output Shape              Param #   \n",
            "=================================================================\n",
            "dense (Dense)                (None, 32)                25120     \n",
            "_________________________________________________________________\n",
            "dense_1 (Dense)              (None, 32)                1056      \n",
            "_________________________________________________________________\n",
            "dense_2 (Dense)              (None, 10)                330       \n",
            "=================================================================\n",
            "Total params: 26,506\n",
            "Trainable params: 26,506\n",
            "Non-trainable params: 0\n",
            "_________________________________________________________________\n"
          ],
          "name": "stdout"
        }
      ]
    },
    {
      "cell_type": "markdown",
      "metadata": {
        "id": "f0pCkh8C7eGL",
        "colab_type": "text"
      },
      "source": [
        "### Experiment with Batch Size\n",
        "* Run 5 experiments with various batch sizes of your choice. \n",
        "* Visualize the results\n",
        "* Write up an analysis of the experiments and select the \"best\" performing model among your experiments. Make sure to compare against your model's performance yesterday. "
      ]
    },
    {
      "cell_type": "code",
      "metadata": {
        "id": "USXjs7Hk71Hy",
        "colab_type": "code",
        "colab": {
          "base_uri": "https://localhost:8080/",
          "height": 887
        },
        "outputId": "6326ff5d-e10a-43b1-941f-4864ceeb27c7"
      },
      "source": [
        "quickdraw_model_32 = create_model()\n",
        "\n",
        "bt_default = quickdraw_model_32.fit(X_train, y_train,\n",
        "                                epochs=25,\n",
        "                                batch_size=32,\n",
        "                                validation_data=(X_test, y_test))"
      ],
      "execution_count": 10,
      "outputs": [
        {
          "output_type": "stream",
          "text": [
            "Epoch 1/25\n",
            "2500/2500 [==============================] - 5s 2ms/step - loss: 1.1370 - accuracy: 0.6429 - val_loss: 0.8456 - val_accuracy: 0.7488\n",
            "Epoch 2/25\n",
            "2500/2500 [==============================] - 5s 2ms/step - loss: 0.7845 - accuracy: 0.7724 - val_loss: 0.7404 - val_accuracy: 0.7821\n",
            "Epoch 3/25\n",
            "2500/2500 [==============================] - 5s 2ms/step - loss: 0.7086 - accuracy: 0.7937 - val_loss: 0.6837 - val_accuracy: 0.8041\n",
            "Epoch 4/25\n",
            "2500/2500 [==============================] - 5s 2ms/step - loss: 0.6614 - accuracy: 0.8071 - val_loss: 0.6552 - val_accuracy: 0.8094\n",
            "Epoch 5/25\n",
            "2500/2500 [==============================] - 5s 2ms/step - loss: 0.6279 - accuracy: 0.8163 - val_loss: 0.6268 - val_accuracy: 0.8180\n",
            "Epoch 6/25\n",
            "2500/2500 [==============================] - 6s 2ms/step - loss: 0.6012 - accuracy: 0.8226 - val_loss: 0.6083 - val_accuracy: 0.8221\n",
            "Epoch 7/25\n",
            "2500/2500 [==============================] - 6s 2ms/step - loss: 0.5802 - accuracy: 0.8290 - val_loss: 0.5946 - val_accuracy: 0.8258\n",
            "Epoch 8/25\n",
            "2500/2500 [==============================] - 5s 2ms/step - loss: 0.5630 - accuracy: 0.8330 - val_loss: 0.5828 - val_accuracy: 0.8278\n",
            "Epoch 9/25\n",
            "2500/2500 [==============================] - 5s 2ms/step - loss: 0.5474 - accuracy: 0.8375 - val_loss: 0.5725 - val_accuracy: 0.8325\n",
            "Epoch 10/25\n",
            "2500/2500 [==============================] - 5s 2ms/step - loss: 0.5346 - accuracy: 0.8407 - val_loss: 0.5684 - val_accuracy: 0.8337\n",
            "Epoch 11/25\n",
            "2500/2500 [==============================] - 5s 2ms/step - loss: 0.5227 - accuracy: 0.8440 - val_loss: 0.5573 - val_accuracy: 0.8367\n",
            "Epoch 12/25\n",
            "2500/2500 [==============================] - 5s 2ms/step - loss: 0.5129 - accuracy: 0.8470 - val_loss: 0.5566 - val_accuracy: 0.8389\n",
            "Epoch 13/25\n",
            "2500/2500 [==============================] - 5s 2ms/step - loss: 0.5031 - accuracy: 0.8506 - val_loss: 0.5463 - val_accuracy: 0.8416\n",
            "Epoch 14/25\n",
            "2500/2500 [==============================] - 5s 2ms/step - loss: 0.4953 - accuracy: 0.8518 - val_loss: 0.5445 - val_accuracy: 0.8401\n",
            "Epoch 15/25\n",
            "2500/2500 [==============================] - 5s 2ms/step - loss: 0.4872 - accuracy: 0.8547 - val_loss: 0.5405 - val_accuracy: 0.8435\n",
            "Epoch 16/25\n",
            "2500/2500 [==============================] - 5s 2ms/step - loss: 0.4803 - accuracy: 0.8569 - val_loss: 0.5332 - val_accuracy: 0.8452\n",
            "Epoch 17/25\n",
            "2500/2500 [==============================] - 5s 2ms/step - loss: 0.4734 - accuracy: 0.8592 - val_loss: 0.5412 - val_accuracy: 0.8433\n",
            "Epoch 18/25\n",
            "2500/2500 [==============================] - 5s 2ms/step - loss: 0.4680 - accuracy: 0.8594 - val_loss: 0.5329 - val_accuracy: 0.8438\n",
            "Epoch 19/25\n",
            "2500/2500 [==============================] - 5s 2ms/step - loss: 0.4622 - accuracy: 0.8615 - val_loss: 0.5285 - val_accuracy: 0.8467\n",
            "Epoch 20/25\n",
            "2500/2500 [==============================] - 5s 2ms/step - loss: 0.4568 - accuracy: 0.8639 - val_loss: 0.5384 - val_accuracy: 0.8401\n",
            "Epoch 21/25\n",
            "2500/2500 [==============================] - 5s 2ms/step - loss: 0.4526 - accuracy: 0.8648 - val_loss: 0.5244 - val_accuracy: 0.8467\n",
            "Epoch 22/25\n",
            "2500/2500 [==============================] - 5s 2ms/step - loss: 0.4480 - accuracy: 0.8661 - val_loss: 0.5247 - val_accuracy: 0.8464\n",
            "Epoch 23/25\n",
            "2500/2500 [==============================] - 5s 2ms/step - loss: 0.4431 - accuracy: 0.8682 - val_loss: 0.5374 - val_accuracy: 0.8454\n",
            "Epoch 24/25\n",
            "2500/2500 [==============================] - 5s 2ms/step - loss: 0.4397 - accuracy: 0.8687 - val_loss: 0.5228 - val_accuracy: 0.8472\n",
            "Epoch 25/25\n",
            "2500/2500 [==============================] - 5s 2ms/step - loss: 0.4365 - accuracy: 0.8696 - val_loss: 0.5300 - val_accuracy: 0.8472\n"
          ],
          "name": "stdout"
        }
      ]
    },
    {
      "cell_type": "code",
      "metadata": {
        "id": "y681NdgB2_QH",
        "colab_type": "code",
        "colab": {
          "base_uri": "https://localhost:8080/",
          "height": 887
        },
        "outputId": "bb404fb4-d3e8-4801-fed2-93760acae4cc"
      },
      "source": [
        "quickdraw_model_8 = create_model()\n",
        "\n",
        "bt_8 = quickdraw_model_8.fit(X_train, y_train,\n",
        "                                epochs=25,\n",
        "                                batch_size=8,\n",
        "                                validation_data=(X_test, y_test))"
      ],
      "execution_count": 11,
      "outputs": [
        {
          "output_type": "stream",
          "text": [
            "Epoch 1/25\n",
            "10000/10000 [==============================] - 21s 2ms/step - loss: 0.8864 - accuracy: 0.7309 - val_loss: 0.6778 - val_accuracy: 0.7975\n",
            "Epoch 2/25\n",
            "10000/10000 [==============================] - 21s 2ms/step - loss: 0.6397 - accuracy: 0.8095 - val_loss: 0.6126 - val_accuracy: 0.8178\n",
            "Epoch 3/25\n",
            "10000/10000 [==============================] - 21s 2ms/step - loss: 0.5785 - accuracy: 0.8252 - val_loss: 0.5739 - val_accuracy: 0.8279\n",
            "Epoch 4/25\n",
            "10000/10000 [==============================] - 21s 2ms/step - loss: 0.5438 - accuracy: 0.8359 - val_loss: 0.5522 - val_accuracy: 0.8335\n",
            "Epoch 5/25\n",
            "10000/10000 [==============================] - 21s 2ms/step - loss: 0.5200 - accuracy: 0.8428 - val_loss: 0.5500 - val_accuracy: 0.8326\n",
            "Epoch 6/25\n",
            "10000/10000 [==============================] - 21s 2ms/step - loss: 0.4997 - accuracy: 0.8480 - val_loss: 0.5459 - val_accuracy: 0.8375\n",
            "Epoch 7/25\n",
            "10000/10000 [==============================] - 21s 2ms/step - loss: 0.4864 - accuracy: 0.8532 - val_loss: 0.5262 - val_accuracy: 0.8462\n",
            "Epoch 8/25\n",
            "10000/10000 [==============================] - 21s 2ms/step - loss: 0.4753 - accuracy: 0.8559 - val_loss: 0.5196 - val_accuracy: 0.8421\n",
            "Epoch 9/25\n",
            "10000/10000 [==============================] - 21s 2ms/step - loss: 0.4653 - accuracy: 0.8590 - val_loss: 0.5088 - val_accuracy: 0.8508\n",
            "Epoch 10/25\n",
            "10000/10000 [==============================] - 22s 2ms/step - loss: 0.4558 - accuracy: 0.8625 - val_loss: 0.5229 - val_accuracy: 0.8472\n",
            "Epoch 11/25\n",
            "10000/10000 [==============================] - 22s 2ms/step - loss: 0.4485 - accuracy: 0.8642 - val_loss: 0.5183 - val_accuracy: 0.8487\n",
            "Epoch 12/25\n",
            "10000/10000 [==============================] - 21s 2ms/step - loss: 0.4413 - accuracy: 0.8664 - val_loss: 0.5039 - val_accuracy: 0.8505\n",
            "Epoch 13/25\n",
            "10000/10000 [==============================] - 21s 2ms/step - loss: 0.4365 - accuracy: 0.8664 - val_loss: 0.5098 - val_accuracy: 0.8507\n",
            "Epoch 14/25\n",
            "10000/10000 [==============================] - 21s 2ms/step - loss: 0.4300 - accuracy: 0.8698 - val_loss: 0.5117 - val_accuracy: 0.8480\n",
            "Epoch 15/25\n",
            "10000/10000 [==============================] - 21s 2ms/step - loss: 0.4243 - accuracy: 0.8710 - val_loss: 0.5185 - val_accuracy: 0.8503\n",
            "Epoch 16/25\n",
            "10000/10000 [==============================] - 21s 2ms/step - loss: 0.4200 - accuracy: 0.8719 - val_loss: 0.5222 - val_accuracy: 0.8503\n",
            "Epoch 17/25\n",
            "10000/10000 [==============================] - 21s 2ms/step - loss: 0.4158 - accuracy: 0.8727 - val_loss: 0.5283 - val_accuracy: 0.8444\n",
            "Epoch 18/25\n",
            "10000/10000 [==============================] - 21s 2ms/step - loss: 0.4107 - accuracy: 0.8749 - val_loss: 0.5278 - val_accuracy: 0.8440\n",
            "Epoch 19/25\n",
            "10000/10000 [==============================] - 21s 2ms/step - loss: 0.4069 - accuracy: 0.8756 - val_loss: 0.5091 - val_accuracy: 0.8513\n",
            "Epoch 20/25\n",
            "10000/10000 [==============================] - 21s 2ms/step - loss: 0.4024 - accuracy: 0.8776 - val_loss: 0.5170 - val_accuracy: 0.8488\n",
            "Epoch 21/25\n",
            "10000/10000 [==============================] - 21s 2ms/step - loss: 0.3999 - accuracy: 0.8799 - val_loss: 0.5062 - val_accuracy: 0.8536\n",
            "Epoch 22/25\n",
            "10000/10000 [==============================] - 21s 2ms/step - loss: 0.3946 - accuracy: 0.8795 - val_loss: 0.5163 - val_accuracy: 0.8497\n",
            "Epoch 23/25\n",
            "10000/10000 [==============================] - 21s 2ms/step - loss: 0.3920 - accuracy: 0.8805 - val_loss: 0.5121 - val_accuracy: 0.8510\n",
            "Epoch 24/25\n",
            "10000/10000 [==============================] - 21s 2ms/step - loss: 0.3891 - accuracy: 0.8810 - val_loss: 0.5255 - val_accuracy: 0.8485\n",
            "Epoch 25/25\n",
            "10000/10000 [==============================] - 22s 2ms/step - loss: 0.3859 - accuracy: 0.8825 - val_loss: 0.5230 - val_accuracy: 0.8472\n"
          ],
          "name": "stdout"
        }
      ]
    },
    {
      "cell_type": "code",
      "metadata": {
        "id": "UIcYnOyH2_zv",
        "colab_type": "code",
        "colab": {
          "base_uri": "https://localhost:8080/",
          "height": 887
        },
        "outputId": "2a4f4d3b-d8e0-4a7d-ad24-6e44656c2195"
      },
      "source": [
        "quickdraw_model_16 = create_model()\n",
        "\n",
        "bt_16 = quickdraw_model_16.fit(X_train, y_train,\n",
        "                                epochs=25,\n",
        "                                batch_size=16,\n",
        "                                validation_data=(X_test, y_test))"
      ],
      "execution_count": 12,
      "outputs": [
        {
          "output_type": "stream",
          "text": [
            "Epoch 1/25\n",
            "5000/5000 [==============================] - 11s 2ms/step - loss: 0.9624 - accuracy: 0.7098 - val_loss: 0.7846 - val_accuracy: 0.7699\n",
            "Epoch 2/25\n",
            "5000/5000 [==============================] - 11s 2ms/step - loss: 0.7175 - accuracy: 0.7888 - val_loss: 0.6661 - val_accuracy: 0.8030\n",
            "Epoch 3/25\n",
            "5000/5000 [==============================] - 11s 2ms/step - loss: 0.6418 - accuracy: 0.8085 - val_loss: 0.6297 - val_accuracy: 0.8095\n",
            "Epoch 4/25\n",
            "5000/5000 [==============================] - 11s 2ms/step - loss: 0.5958 - accuracy: 0.8215 - val_loss: 0.5909 - val_accuracy: 0.8264\n",
            "Epoch 5/25\n",
            "5000/5000 [==============================] - 11s 2ms/step - loss: 0.5635 - accuracy: 0.8300 - val_loss: 0.5748 - val_accuracy: 0.8299\n",
            "Epoch 6/25\n",
            "5000/5000 [==============================] - 11s 2ms/step - loss: 0.5390 - accuracy: 0.8376 - val_loss: 0.5564 - val_accuracy: 0.8369\n",
            "Epoch 7/25\n",
            "5000/5000 [==============================] - 11s 2ms/step - loss: 0.5196 - accuracy: 0.8437 - val_loss: 0.5493 - val_accuracy: 0.8386\n",
            "Epoch 8/25\n",
            "5000/5000 [==============================] - 11s 2ms/step - loss: 0.5046 - accuracy: 0.8484 - val_loss: 0.5407 - val_accuracy: 0.8414\n",
            "Epoch 9/25\n",
            "5000/5000 [==============================] - 11s 2ms/step - loss: 0.4912 - accuracy: 0.8528 - val_loss: 0.5320 - val_accuracy: 0.8440\n",
            "Epoch 10/25\n",
            "5000/5000 [==============================] - 11s 2ms/step - loss: 0.4802 - accuracy: 0.8559 - val_loss: 0.5275 - val_accuracy: 0.8446\n",
            "Epoch 11/25\n",
            "5000/5000 [==============================] - 11s 2ms/step - loss: 0.4707 - accuracy: 0.8590 - val_loss: 0.5240 - val_accuracy: 0.8468\n",
            "Epoch 12/25\n",
            "5000/5000 [==============================] - 11s 2ms/step - loss: 0.4620 - accuracy: 0.8610 - val_loss: 0.5195 - val_accuracy: 0.8454\n",
            "Epoch 13/25\n",
            "5000/5000 [==============================] - 11s 2ms/step - loss: 0.4536 - accuracy: 0.8641 - val_loss: 0.5190 - val_accuracy: 0.8454\n",
            "Epoch 14/25\n",
            "5000/5000 [==============================] - 11s 2ms/step - loss: 0.4469 - accuracy: 0.8661 - val_loss: 0.5169 - val_accuracy: 0.8490\n",
            "Epoch 15/25\n",
            "5000/5000 [==============================] - 11s 2ms/step - loss: 0.4402 - accuracy: 0.8674 - val_loss: 0.5119 - val_accuracy: 0.8489\n",
            "Epoch 16/25\n",
            "5000/5000 [==============================] - 11s 2ms/step - loss: 0.4337 - accuracy: 0.8708 - val_loss: 0.5162 - val_accuracy: 0.8489\n",
            "Epoch 17/25\n",
            "5000/5000 [==============================] - 11s 2ms/step - loss: 0.4286 - accuracy: 0.8710 - val_loss: 0.5162 - val_accuracy: 0.8494\n",
            "Epoch 18/25\n",
            "5000/5000 [==============================] - 11s 2ms/step - loss: 0.4225 - accuracy: 0.8725 - val_loss: 0.5109 - val_accuracy: 0.8500\n",
            "Epoch 19/25\n",
            "5000/5000 [==============================] - 11s 2ms/step - loss: 0.4185 - accuracy: 0.8743 - val_loss: 0.5057 - val_accuracy: 0.8501\n",
            "Epoch 20/25\n",
            "5000/5000 [==============================] - 11s 2ms/step - loss: 0.4146 - accuracy: 0.8754 - val_loss: 0.5216 - val_accuracy: 0.8487\n",
            "Epoch 21/25\n",
            "5000/5000 [==============================] - 11s 2ms/step - loss: 0.4102 - accuracy: 0.8764 - val_loss: 0.5125 - val_accuracy: 0.8515\n",
            "Epoch 22/25\n",
            "5000/5000 [==============================] - 11s 2ms/step - loss: 0.4063 - accuracy: 0.8775 - val_loss: 0.5132 - val_accuracy: 0.8528\n",
            "Epoch 23/25\n",
            "5000/5000 [==============================] - 11s 2ms/step - loss: 0.4015 - accuracy: 0.8782 - val_loss: 0.5132 - val_accuracy: 0.8518\n",
            "Epoch 24/25\n",
            "5000/5000 [==============================] - 11s 2ms/step - loss: 0.3984 - accuracy: 0.8800 - val_loss: 0.5147 - val_accuracy: 0.8516\n",
            "Epoch 25/25\n",
            "5000/5000 [==============================] - 11s 2ms/step - loss: 0.3952 - accuracy: 0.8802 - val_loss: 0.5112 - val_accuracy: 0.8521\n"
          ],
          "name": "stdout"
        }
      ]
    },
    {
      "cell_type": "code",
      "metadata": {
        "id": "oQqDGMUe2_7y",
        "colab_type": "code",
        "colab": {
          "base_uri": "https://localhost:8080/",
          "height": 887
        },
        "outputId": "9886b802-1930-436c-e0a0-25efc72a9942"
      },
      "source": [
        "quickdraw_model_512 = create_model()\n",
        "\n",
        "bt_512 = quickdraw_model_512.fit(X_train, y_train,\n",
        "                                epochs=25,\n",
        "                                batch_size=512,\n",
        "                                validation_data=(X_test, y_test))"
      ],
      "execution_count": 13,
      "outputs": [
        {
          "output_type": "stream",
          "text": [
            "Epoch 1/25\n",
            "157/157 [==============================] - 1s 4ms/step - loss: 2.0907 - accuracy: 0.2497 - val_loss: 1.8614 - val_accuracy: 0.3455\n",
            "Epoch 2/25\n",
            "157/157 [==============================] - 1s 4ms/step - loss: 1.6922 - accuracy: 0.4282 - val_loss: 1.5179 - val_accuracy: 0.5321\n",
            "Epoch 3/25\n",
            "157/157 [==============================] - 1s 4ms/step - loss: 1.4200 - accuracy: 0.5663 - val_loss: 1.3059 - val_accuracy: 0.6055\n",
            "Epoch 4/25\n",
            "157/157 [==============================] - 1s 3ms/step - loss: 1.2528 - accuracy: 0.6186 - val_loss: 1.1762 - val_accuracy: 0.6428\n",
            "Epoch 5/25\n",
            "157/157 [==============================] - 1s 4ms/step - loss: 1.1454 - accuracy: 0.6551 - val_loss: 1.0907 - val_accuracy: 0.6750\n",
            "Epoch 6/25\n",
            "157/157 [==============================] - 1s 4ms/step - loss: 1.0714 - accuracy: 0.6813 - val_loss: 1.0298 - val_accuracy: 0.6959\n",
            "Epoch 7/25\n",
            "157/157 [==============================] - 1s 4ms/step - loss: 1.0182 - accuracy: 0.6988 - val_loss: 0.9869 - val_accuracy: 0.7078\n",
            "Epoch 8/25\n",
            "157/157 [==============================] - 1s 4ms/step - loss: 0.9790 - accuracy: 0.7107 - val_loss: 0.9547 - val_accuracy: 0.7176\n",
            "Epoch 9/25\n",
            "157/157 [==============================] - 1s 3ms/step - loss: 0.9487 - accuracy: 0.7202 - val_loss: 0.9295 - val_accuracy: 0.7255\n",
            "Epoch 10/25\n",
            "157/157 [==============================] - 1s 4ms/step - loss: 0.9250 - accuracy: 0.7276 - val_loss: 0.9090 - val_accuracy: 0.7321\n",
            "Epoch 11/25\n",
            "157/157 [==============================] - 1s 3ms/step - loss: 0.9054 - accuracy: 0.7341 - val_loss: 0.8913 - val_accuracy: 0.7403\n",
            "Epoch 12/25\n",
            "157/157 [==============================] - 1s 4ms/step - loss: 0.8887 - accuracy: 0.7395 - val_loss: 0.8783 - val_accuracy: 0.7432\n",
            "Epoch 13/25\n",
            "157/157 [==============================] - 1s 3ms/step - loss: 0.8744 - accuracy: 0.7441 - val_loss: 0.8643 - val_accuracy: 0.7491\n",
            "Epoch 14/25\n",
            "157/157 [==============================] - 1s 4ms/step - loss: 0.8618 - accuracy: 0.7479 - val_loss: 0.8539 - val_accuracy: 0.7525\n",
            "Epoch 15/25\n",
            "157/157 [==============================] - 1s 4ms/step - loss: 0.8507 - accuracy: 0.7515 - val_loss: 0.8432 - val_accuracy: 0.7553\n",
            "Epoch 16/25\n",
            "157/157 [==============================] - 1s 4ms/step - loss: 0.8405 - accuracy: 0.7548 - val_loss: 0.8345 - val_accuracy: 0.7556\n",
            "Epoch 17/25\n",
            "157/157 [==============================] - 1s 4ms/step - loss: 0.8313 - accuracy: 0.7578 - val_loss: 0.8261 - val_accuracy: 0.7612\n",
            "Epoch 18/25\n",
            "157/157 [==============================] - 1s 3ms/step - loss: 0.8230 - accuracy: 0.7603 - val_loss: 0.8179 - val_accuracy: 0.7621\n",
            "Epoch 19/25\n",
            "157/157 [==============================] - 1s 4ms/step - loss: 0.8149 - accuracy: 0.7631 - val_loss: 0.8106 - val_accuracy: 0.7655\n",
            "Epoch 20/25\n",
            "157/157 [==============================] - 1s 4ms/step - loss: 0.8076 - accuracy: 0.7657 - val_loss: 0.8047 - val_accuracy: 0.7674\n",
            "Epoch 21/25\n",
            "157/157 [==============================] - 1s 4ms/step - loss: 0.8007 - accuracy: 0.7680 - val_loss: 0.7977 - val_accuracy: 0.7691\n",
            "Epoch 22/25\n",
            "157/157 [==============================] - 1s 3ms/step - loss: 0.7940 - accuracy: 0.7703 - val_loss: 0.7921 - val_accuracy: 0.7710\n",
            "Epoch 23/25\n",
            "157/157 [==============================] - 1s 4ms/step - loss: 0.7875 - accuracy: 0.7725 - val_loss: 0.7863 - val_accuracy: 0.7717\n",
            "Epoch 24/25\n",
            "157/157 [==============================] - 1s 4ms/step - loss: 0.7814 - accuracy: 0.7745 - val_loss: 0.7808 - val_accuracy: 0.7727\n",
            "Epoch 25/25\n",
            "157/157 [==============================] - 1s 3ms/step - loss: 0.7755 - accuracy: 0.7759 - val_loss: 0.7770 - val_accuracy: 0.7750\n"
          ],
          "name": "stdout"
        }
      ]
    },
    {
      "cell_type": "code",
      "metadata": {
        "id": "JGh-sj3k3A7N",
        "colab_type": "code",
        "colab": {
          "base_uri": "https://localhost:8080/",
          "height": 887
        },
        "outputId": "451a4e4f-dff5-4d24-85cb-b4f28a6d9d48"
      },
      "source": [
        "quickdraw_model_64 = create_model()\n",
        "\n",
        "bt_64 = quickdraw_model_64.fit(X_train, y_train,\n",
        "                                epochs=25,\n",
        "                                batch_size=32,\n",
        "                                validation_data=(X_test, y_test))"
      ],
      "execution_count": 14,
      "outputs": [
        {
          "output_type": "stream",
          "text": [
            "Epoch 1/25\n",
            "2500/2500 [==============================] - 6s 2ms/step - loss: 1.1779 - accuracy: 0.6340 - val_loss: 0.8473 - val_accuracy: 0.7502\n",
            "Epoch 2/25\n",
            "2500/2500 [==============================] - 5s 2ms/step - loss: 0.7968 - accuracy: 0.7665 - val_loss: 0.7438 - val_accuracy: 0.7793\n",
            "Epoch 3/25\n",
            "2500/2500 [==============================] - 6s 2ms/step - loss: 0.7148 - accuracy: 0.7901 - val_loss: 0.6885 - val_accuracy: 0.8022\n",
            "Epoch 4/25\n",
            "2500/2500 [==============================] - 6s 2ms/step - loss: 0.6601 - accuracy: 0.8074 - val_loss: 0.6521 - val_accuracy: 0.8126\n",
            "Epoch 5/25\n",
            "2500/2500 [==============================] - 5s 2ms/step - loss: 0.6206 - accuracy: 0.8177 - val_loss: 0.6179 - val_accuracy: 0.8221\n",
            "Epoch 6/25\n",
            "2500/2500 [==============================] - 5s 2ms/step - loss: 0.5915 - accuracy: 0.8256 - val_loss: 0.5936 - val_accuracy: 0.8274\n",
            "Epoch 7/25\n",
            "2500/2500 [==============================] - 5s 2ms/step - loss: 0.5689 - accuracy: 0.8320 - val_loss: 0.5789 - val_accuracy: 0.8339\n",
            "Epoch 8/25\n",
            "2500/2500 [==============================] - 6s 2ms/step - loss: 0.5499 - accuracy: 0.8371 - val_loss: 0.5677 - val_accuracy: 0.8357\n",
            "Epoch 9/25\n",
            "2500/2500 [==============================] - 6s 2ms/step - loss: 0.5349 - accuracy: 0.8406 - val_loss: 0.5683 - val_accuracy: 0.8334\n",
            "Epoch 10/25\n",
            "2500/2500 [==============================] - 5s 2ms/step - loss: 0.5215 - accuracy: 0.8450 - val_loss: 0.5542 - val_accuracy: 0.8386\n",
            "Epoch 11/25\n",
            "2500/2500 [==============================] - 5s 2ms/step - loss: 0.5099 - accuracy: 0.8488 - val_loss: 0.5437 - val_accuracy: 0.8411\n",
            "Epoch 12/25\n",
            "2500/2500 [==============================] - 5s 2ms/step - loss: 0.4996 - accuracy: 0.8524 - val_loss: 0.5366 - val_accuracy: 0.8440\n",
            "Epoch 13/25\n",
            "2500/2500 [==============================] - 5s 2ms/step - loss: 0.4907 - accuracy: 0.8542 - val_loss: 0.5312 - val_accuracy: 0.8444\n",
            "Epoch 14/25\n",
            "2500/2500 [==============================] - 5s 2ms/step - loss: 0.4818 - accuracy: 0.8573 - val_loss: 0.5305 - val_accuracy: 0.8444\n",
            "Epoch 15/25\n",
            "2500/2500 [==============================] - 5s 2ms/step - loss: 0.4750 - accuracy: 0.8597 - val_loss: 0.5235 - val_accuracy: 0.8469\n",
            "Epoch 16/25\n",
            "2500/2500 [==============================] - 5s 2ms/step - loss: 0.4676 - accuracy: 0.8611 - val_loss: 0.5217 - val_accuracy: 0.8482\n",
            "Epoch 17/25\n",
            "2500/2500 [==============================] - 5s 2ms/step - loss: 0.4618 - accuracy: 0.8635 - val_loss: 0.5206 - val_accuracy: 0.8493\n",
            "Epoch 18/25\n",
            "2500/2500 [==============================] - 5s 2ms/step - loss: 0.4559 - accuracy: 0.8660 - val_loss: 0.5165 - val_accuracy: 0.8492\n",
            "Epoch 19/25\n",
            "2500/2500 [==============================] - 5s 2ms/step - loss: 0.4505 - accuracy: 0.8674 - val_loss: 0.5191 - val_accuracy: 0.8486\n",
            "Epoch 20/25\n",
            "2500/2500 [==============================] - 5s 2ms/step - loss: 0.4451 - accuracy: 0.8687 - val_loss: 0.5163 - val_accuracy: 0.8494\n",
            "Epoch 21/25\n",
            "2500/2500 [==============================] - 5s 2ms/step - loss: 0.4409 - accuracy: 0.8696 - val_loss: 0.5140 - val_accuracy: 0.8500\n",
            "Epoch 22/25\n",
            "2500/2500 [==============================] - 6s 2ms/step - loss: 0.4362 - accuracy: 0.8709 - val_loss: 0.5109 - val_accuracy: 0.8512\n",
            "Epoch 23/25\n",
            "2500/2500 [==============================] - 5s 2ms/step - loss: 0.4324 - accuracy: 0.8722 - val_loss: 0.5119 - val_accuracy: 0.8516\n",
            "Epoch 24/25\n",
            "2500/2500 [==============================] - 5s 2ms/step - loss: 0.4290 - accuracy: 0.8741 - val_loss: 0.5178 - val_accuracy: 0.8475\n",
            "Epoch 25/25\n",
            "2500/2500 [==============================] - 5s 2ms/step - loss: 0.4247 - accuracy: 0.8755 - val_loss: 0.5104 - val_accuracy: 0.8529\n"
          ],
          "name": "stdout"
        }
      ]
    },
    {
      "cell_type": "code",
      "metadata": {
        "id": "fiCcFy0sMv4L",
        "colab_type": "code",
        "colab": {
          "base_uri": "https://localhost:8080/",
          "height": 258
        },
        "outputId": "58ffa86c-012a-4cfd-f2e7-385ba89eacaf"
      },
      "source": [
        "import seaborn as sns\n",
        "import pandas as pd\n",
        "\n",
        "batch_sizes = []\n",
        "\n",
        "for exp, result in zip([bt_default, bt_8, bt_512, bt_64, bt_16], [\"32_\", \"8_\", \"512_\", \"64_\", \"16_\"]):\n",
        "\n",
        "  df = pd.DataFrame.from_dict(exp.history)\n",
        "  df['epoch'] = df.index.values\n",
        "  df['Batch Size'] = result\n",
        "\n",
        "  batch_sizes.append(df)\n",
        "\n",
        "df = pd.concat(batch_sizes)\n",
        "df['Batch Size'] = df['Batch Size'].astype('str')\n",
        "df.head()"
      ],
      "execution_count": 15,
      "outputs": [
        {
          "output_type": "stream",
          "text": [
            "/usr/local/lib/python3.6/dist-packages/statsmodels/tools/_testing.py:19: FutureWarning: pandas.util.testing is deprecated. Use the functions in the public API at pandas.testing instead.\n",
            "  import pandas.util.testing as tm\n"
          ],
          "name": "stderr"
        },
        {
          "output_type": "execute_result",
          "data": {
            "text/html": [
              "<div>\n",
              "<style scoped>\n",
              "    .dataframe tbody tr th:only-of-type {\n",
              "        vertical-align: middle;\n",
              "    }\n",
              "\n",
              "    .dataframe tbody tr th {\n",
              "        vertical-align: top;\n",
              "    }\n",
              "\n",
              "    .dataframe thead th {\n",
              "        text-align: right;\n",
              "    }\n",
              "</style>\n",
              "<table border=\"1\" class=\"dataframe\">\n",
              "  <thead>\n",
              "    <tr style=\"text-align: right;\">\n",
              "      <th></th>\n",
              "      <th>loss</th>\n",
              "      <th>accuracy</th>\n",
              "      <th>val_loss</th>\n",
              "      <th>val_accuracy</th>\n",
              "      <th>epoch</th>\n",
              "      <th>Batch Size</th>\n",
              "    </tr>\n",
              "  </thead>\n",
              "  <tbody>\n",
              "    <tr>\n",
              "      <th>0</th>\n",
              "      <td>1.137010</td>\n",
              "      <td>0.642937</td>\n",
              "      <td>0.845633</td>\n",
              "      <td>0.74880</td>\n",
              "      <td>0</td>\n",
              "      <td>32_</td>\n",
              "    </tr>\n",
              "    <tr>\n",
              "      <th>1</th>\n",
              "      <td>0.784526</td>\n",
              "      <td>0.772400</td>\n",
              "      <td>0.740449</td>\n",
              "      <td>0.78205</td>\n",
              "      <td>1</td>\n",
              "      <td>32_</td>\n",
              "    </tr>\n",
              "    <tr>\n",
              "      <th>2</th>\n",
              "      <td>0.708637</td>\n",
              "      <td>0.793662</td>\n",
              "      <td>0.683689</td>\n",
              "      <td>0.80405</td>\n",
              "      <td>2</td>\n",
              "      <td>32_</td>\n",
              "    </tr>\n",
              "    <tr>\n",
              "      <th>3</th>\n",
              "      <td>0.661405</td>\n",
              "      <td>0.807113</td>\n",
              "      <td>0.655222</td>\n",
              "      <td>0.80940</td>\n",
              "      <td>3</td>\n",
              "      <td>32_</td>\n",
              "    </tr>\n",
              "    <tr>\n",
              "      <th>4</th>\n",
              "      <td>0.627864</td>\n",
              "      <td>0.816312</td>\n",
              "      <td>0.626799</td>\n",
              "      <td>0.81800</td>\n",
              "      <td>4</td>\n",
              "      <td>32_</td>\n",
              "    </tr>\n",
              "  </tbody>\n",
              "</table>\n",
              "</div>"
            ],
            "text/plain": [
              "       loss  accuracy  val_loss  val_accuracy  epoch Batch Size\n",
              "0  1.137010  0.642937  0.845633       0.74880      0        32_\n",
              "1  0.784526  0.772400  0.740449       0.78205      1        32_\n",
              "2  0.708637  0.793662  0.683689       0.80405      2        32_\n",
              "3  0.661405  0.807113  0.655222       0.80940      3        32_\n",
              "4  0.627864  0.816312  0.626799       0.81800      4        32_"
            ]
          },
          "metadata": {
            "tags": []
          },
          "execution_count": 15
        }
      ]
    },
    {
      "cell_type": "code",
      "metadata": {
        "id": "wrOSrlknMwH-",
        "colab_type": "code",
        "colab": {
          "base_uri": "https://localhost:8080/",
          "height": 279
        },
        "outputId": "fb671bac-7070-4d54-c7c2-7ddeb88d6ab1"
      },
      "source": [
        "sns.lineplot(x='epoch', y='val_accuracy', hue='Batch Size', data=df);"
      ],
      "execution_count": 16,
      "outputs": [
        {
          "output_type": "display_data",
          "data": {
            "image/png": "[encoded data removed]",
            "text/plain": [
              "<Figure size 432x288 with 1 Axes>"
            ]
          },
          "metadata": {
            "tags": [],
            "needs_background": "light"
          }
        }
      ]
    },
    {
      "cell_type": "code",
      "metadata": {
        "id": "H3Vj0Lm3S2lh",
        "colab_type": "code",
        "colab": {
          "base_uri": "https://localhost:8080/",
          "height": 279
        },
        "outputId": "1004e524-47a9-4b67-ae93-b7f3b75fdf7b"
      },
      "source": [
        "sns.lineplot(x='epoch', y='val_loss', hue='Batch Size', data=df);"
      ],
      "execution_count": 17,
      "outputs": [
        {
          "output_type": "display_data",
          "data": {
            "image/png": "[encoded data removed]",
            "text/plain": [
              "<Figure size 432x288 with 1 Axes>"
            ]
          },
          "metadata": {
            "tags": [],
            "needs_background": "light"
          }
        }
      ]
    },
    {
      "cell_type": "markdown",
      "metadata": {
        "colab_type": "text",
        "id": "8b-r70o8p2Dm"
      },
      "source": [
        "### Experiment with Learning Rate\n",
        "* Run 5 experiments with various learning rate magnitudes: 1, .1, .01, .001, .0001.\n",
        "* Use the \"best\" batch size from the previous experiment\n",
        "* Visualize the results\n",
        "* Write up an analysis of the experiments and select the \"best\" performing model among your experiments. Make sure to compare against the previous experiments and your model's performance yesterday. "
      ]
    },
    {
      "cell_type": "code",
      "metadata": {
        "id": "_SA144xx8Luf",
        "colab_type": "code",
        "colab": {
          "base_uri": "https://localhost:8080/",
          "height": 887
        },
        "outputId": "bffff52d-3fbd-4d7a-d74e-d29c2eccddaa"
      },
      "source": [
        "lr_default = create_model().fit(X_train, y_train,\n",
        "                                epochs=25,\n",
        "                                validation_data=(X_test,y_test)\n",
        ")"
      ],
      "execution_count": 18,
      "outputs": [
        {
          "output_type": "stream",
          "text": [
            "Epoch 1/25\n",
            "2500/2500 [==============================] - 6s 2ms/step - loss: 1.1526 - accuracy: 0.6411 - val_loss: 0.8636 - val_accuracy: 0.7462\n",
            "Epoch 2/25\n",
            "2500/2500 [==============================] - 5s 2ms/step - loss: 0.8153 - accuracy: 0.7611 - val_loss: 0.7651 - val_accuracy: 0.7770\n",
            "Epoch 3/25\n",
            "2500/2500 [==============================] - 5s 2ms/step - loss: 0.7313 - accuracy: 0.7855 - val_loss: 0.7016 - val_accuracy: 0.7950\n",
            "Epoch 4/25\n",
            "2500/2500 [==============================] - 5s 2ms/step - loss: 0.6726 - accuracy: 0.8022 - val_loss: 0.6557 - val_accuracy: 0.8073\n",
            "Epoch 5/25\n",
            "2500/2500 [==============================] - 5s 2ms/step - loss: 0.6312 - accuracy: 0.8129 - val_loss: 0.6267 - val_accuracy: 0.8138\n",
            "Epoch 6/25\n",
            "2500/2500 [==============================] - 5s 2ms/step - loss: 0.6005 - accuracy: 0.8213 - val_loss: 0.6012 - val_accuracy: 0.8230\n",
            "Epoch 7/25\n",
            "2500/2500 [==============================] - 6s 2ms/step - loss: 0.5766 - accuracy: 0.8285 - val_loss: 0.5904 - val_accuracy: 0.8263\n",
            "Epoch 8/25\n",
            "2500/2500 [==============================] - 6s 2ms/step - loss: 0.5571 - accuracy: 0.8341 - val_loss: 0.5784 - val_accuracy: 0.8289\n",
            "Epoch 9/25\n",
            "2500/2500 [==============================] - 5s 2ms/step - loss: 0.5406 - accuracy: 0.8386 - val_loss: 0.5663 - val_accuracy: 0.8329\n",
            "Epoch 10/25\n",
            "2500/2500 [==============================] - 5s 2ms/step - loss: 0.5273 - accuracy: 0.8430 - val_loss: 0.5578 - val_accuracy: 0.8379\n",
            "Epoch 11/25\n",
            "2500/2500 [==============================] - 6s 2ms/step - loss: 0.5158 - accuracy: 0.8462 - val_loss: 0.5527 - val_accuracy: 0.8398\n",
            "Epoch 12/25\n",
            "2500/2500 [==============================] - 6s 2ms/step - loss: 0.5052 - accuracy: 0.8495 - val_loss: 0.5470 - val_accuracy: 0.8421\n",
            "Epoch 13/25\n",
            "2500/2500 [==============================] - 6s 2ms/step - loss: 0.4958 - accuracy: 0.8515 - val_loss: 0.5396 - val_accuracy: 0.8439\n",
            "Epoch 14/25\n",
            "2500/2500 [==============================] - 5s 2ms/step - loss: 0.4871 - accuracy: 0.8541 - val_loss: 0.5466 - val_accuracy: 0.8401\n",
            "Epoch 15/25\n",
            "2500/2500 [==============================] - 6s 2ms/step - loss: 0.4809 - accuracy: 0.8563 - val_loss: 0.5363 - val_accuracy: 0.8443\n",
            "Epoch 16/25\n",
            "2500/2500 [==============================] - 6s 2ms/step - loss: 0.4733 - accuracy: 0.8589 - val_loss: 0.5312 - val_accuracy: 0.8469\n",
            "Epoch 17/25\n",
            "2500/2500 [==============================] - 5s 2ms/step - loss: 0.4675 - accuracy: 0.8599 - val_loss: 0.5299 - val_accuracy: 0.8472\n",
            "Epoch 18/25\n",
            "2500/2500 [==============================] - 5s 2ms/step - loss: 0.4622 - accuracy: 0.8614 - val_loss: 0.5358 - val_accuracy: 0.8436\n",
            "Epoch 19/25\n",
            "2500/2500 [==============================] - 5s 2ms/step - loss: 0.4566 - accuracy: 0.8632 - val_loss: 0.5265 - val_accuracy: 0.8487\n",
            "Epoch 20/25\n",
            "2500/2500 [==============================] - 5s 2ms/step - loss: 0.4517 - accuracy: 0.8649 - val_loss: 0.5276 - val_accuracy: 0.8463\n",
            "Epoch 21/25\n",
            "2500/2500 [==============================] - 5s 2ms/step - loss: 0.4478 - accuracy: 0.8661 - val_loss: 0.5268 - val_accuracy: 0.8472\n",
            "Epoch 22/25\n",
            "2500/2500 [==============================] - 5s 2ms/step - loss: 0.4434 - accuracy: 0.8668 - val_loss: 0.5318 - val_accuracy: 0.8465\n",
            "Epoch 23/25\n",
            "2500/2500 [==============================] - 5s 2ms/step - loss: 0.4393 - accuracy: 0.8675 - val_loss: 0.5256 - val_accuracy: 0.8497\n",
            "Epoch 24/25\n",
            "2500/2500 [==============================] - 6s 2ms/step - loss: 0.4350 - accuracy: 0.8690 - val_loss: 0.5199 - val_accuracy: 0.8507\n",
            "Epoch 25/25\n",
            "2500/2500 [==============================] - 5s 2ms/step - loss: 0.4311 - accuracy: 0.8702 - val_loss: 0.5278 - val_accuracy: 0.8455\n"
          ],
          "name": "stdout"
        }
      ]
    },
    {
      "cell_type": "code",
      "metadata": {
        "id": "_nObF402TBsI",
        "colab_type": "code",
        "colab": {
          "base_uri": "https://localhost:8080/",
          "height": 887
        },
        "outputId": "31c3a03a-0e44-4e1a-8c7f-29ecfb44d4e8"
      },
      "source": [
        "lr_75 = create_model(lr=.75).fit(X_train, y_train,\n",
        "                                epochs=25,\n",
        "                                validation_data=(X_test,y_test)\n",
        ")"
      ],
      "execution_count": 19,
      "outputs": [
        {
          "output_type": "stream",
          "text": [
            "Epoch 1/25\n",
            "2500/2500 [==============================] - 6s 2ms/step - loss: 0.9543 - accuracy: 0.7036 - val_loss: 0.7744 - val_accuracy: 0.7631\n",
            "Epoch 2/25\n",
            "2500/2500 [==============================] - 6s 2ms/step - loss: 0.7869 - accuracy: 0.7674 - val_loss: 0.7975 - val_accuracy: 0.7664\n",
            "Epoch 3/25\n",
            "2500/2500 [==============================] - 5s 2ms/step - loss: 0.7532 - accuracy: 0.7771 - val_loss: 0.7501 - val_accuracy: 0.7754\n",
            "Epoch 4/25\n",
            "2500/2500 [==============================] - 5s 2ms/step - loss: 0.7337 - accuracy: 0.7831 - val_loss: 0.7524 - val_accuracy: 0.7883\n",
            "Epoch 5/25\n",
            "2500/2500 [==============================] - 5s 2ms/step - loss: 0.7358 - accuracy: 0.7841 - val_loss: 0.8465 - val_accuracy: 0.7644\n",
            "Epoch 6/25\n",
            "2500/2500 [==============================] - 5s 2ms/step - loss: 0.7668 - accuracy: 0.7753 - val_loss: 0.7854 - val_accuracy: 0.7726\n",
            "Epoch 7/25\n",
            "2500/2500 [==============================] - 5s 2ms/step - loss: 0.7236 - accuracy: 0.7877 - val_loss: 0.7548 - val_accuracy: 0.7862\n",
            "Epoch 8/25\n",
            "2500/2500 [==============================] - 5s 2ms/step - loss: 0.7193 - accuracy: 0.7900 - val_loss: 0.8244 - val_accuracy: 0.7918\n",
            "Epoch 9/25\n",
            "2500/2500 [==============================] - 6s 2ms/step - loss: 0.6986 - accuracy: 0.7936 - val_loss: 0.7073 - val_accuracy: 0.7911\n",
            "Epoch 10/25\n",
            "2500/2500 [==============================] - 6s 2ms/step - loss: 0.7348 - accuracy: 0.7843 - val_loss: 0.7905 - val_accuracy: 0.7751\n",
            "Epoch 11/25\n",
            "2500/2500 [==============================] - 5s 2ms/step - loss: 0.7715 - accuracy: 0.7786 - val_loss: 0.8162 - val_accuracy: 0.7648\n",
            "Epoch 12/25\n",
            "2500/2500 [==============================] - 5s 2ms/step - loss: 0.7936 - accuracy: 0.7755 - val_loss: 0.8830 - val_accuracy: 0.7560\n",
            "Epoch 13/25\n",
            "2500/2500 [==============================] - 5s 2ms/step - loss: 0.8329 - accuracy: 0.7622 - val_loss: 0.8337 - val_accuracy: 0.7771\n",
            "Epoch 14/25\n",
            "2500/2500 [==============================] - 5s 2ms/step - loss: 0.7982 - accuracy: 0.7757 - val_loss: 0.8515 - val_accuracy: 0.7028\n",
            "Epoch 15/25\n",
            "2500/2500 [==============================] - 6s 2ms/step - loss: 0.8424 - accuracy: 0.7582 - val_loss: 0.8290 - val_accuracy: 0.7613\n",
            "Epoch 16/25\n",
            "2500/2500 [==============================] - 6s 2ms/step - loss: 0.8075 - accuracy: 0.7752 - val_loss: 0.9093 - val_accuracy: 0.7809\n",
            "Epoch 17/25\n",
            "2500/2500 [==============================] - 6s 2ms/step - loss: 0.9224 - accuracy: 0.7392 - val_loss: 0.8779 - val_accuracy: 0.7469\n",
            "Epoch 18/25\n",
            "2500/2500 [==============================] - 5s 2ms/step - loss: 0.9852 - accuracy: 0.6993 - val_loss: 1.0512 - val_accuracy: 0.7051\n",
            "Epoch 19/25\n",
            "2500/2500 [==============================] - 5s 2ms/step - loss: 0.9634 - accuracy: 0.7261 - val_loss: 1.0097 - val_accuracy: 0.7357\n",
            "Epoch 20/25\n",
            "2500/2500 [==============================] - 5s 2ms/step - loss: 1.0543 - accuracy: 0.6675 - val_loss: 1.0714 - val_accuracy: 0.6630\n",
            "Epoch 21/25\n",
            "2500/2500 [==============================] - 5s 2ms/step - loss: 1.1265 - accuracy: 0.6314 - val_loss: 1.2354 - val_accuracy: 0.6051\n",
            "Epoch 22/25\n",
            "2500/2500 [==============================] - 5s 2ms/step - loss: 1.1507 - accuracy: 0.6118 - val_loss: 1.3955 - val_accuracy: 0.5616\n",
            "Epoch 23/25\n",
            "2500/2500 [==============================] - 5s 2ms/step - loss: 1.2014 - accuracy: 0.5868 - val_loss: 1.4226 - val_accuracy: 0.5173\n",
            "Epoch 24/25\n",
            "2500/2500 [==============================] - 5s 2ms/step - loss: 1.2684 - accuracy: 0.5596 - val_loss: 1.5671 - val_accuracy: 0.5558\n",
            "Epoch 25/25\n",
            "2500/2500 [==============================] - 6s 2ms/step - loss: 1.2998 - accuracy: 0.5543 - val_loss: 1.3992 - val_accuracy: 0.4825\n"
          ],
          "name": "stdout"
        }
      ]
    },
    {
      "cell_type": "code",
      "metadata": {
        "id": "GhCy-zisTB0s",
        "colab_type": "code",
        "colab": {
          "base_uri": "https://localhost:8080/",
          "height": 887
        },
        "outputId": "f82e55b1-3201-485a-8f0b-12eb4baba60e"
      },
      "source": [
        "lr_0001 = create_model(lr=.0001).fit(X_train, y_train,\n",
        "                                epochs=25,\n",
        "                                validation_data=(X_test,y_test)\n",
        ")"
      ],
      "execution_count": 20,
      "outputs": [
        {
          "output_type": "stream",
          "text": [
            "Epoch 1/25\n",
            "2500/2500 [==============================] - 6s 2ms/step - loss: 2.2980 - accuracy: 0.1146 - val_loss: 2.2737 - val_accuracy: 0.1245\n",
            "Epoch 2/25\n",
            "2500/2500 [==============================] - 6s 2ms/step - loss: 2.2553 - accuracy: 0.1327 - val_loss: 2.2357 - val_accuracy: 0.1393\n",
            "Epoch 3/25\n",
            "2500/2500 [==============================] - 5s 2ms/step - loss: 2.2191 - accuracy: 0.1496 - val_loss: 2.1990 - val_accuracy: 0.1572\n",
            "Epoch 4/25\n",
            "2500/2500 [==============================] - 5s 2ms/step - loss: 2.1820 - accuracy: 0.1695 - val_loss: 2.1602 - val_accuracy: 0.1812\n",
            "Epoch 5/25\n",
            "2500/2500 [==============================] - 6s 2ms/step - loss: 2.1420 - accuracy: 0.1939 - val_loss: 2.1177 - val_accuracy: 0.2104\n",
            "Epoch 6/25\n",
            "2500/2500 [==============================] - 6s 2ms/step - loss: 2.0977 - accuracy: 0.2239 - val_loss: 2.0707 - val_accuracy: 0.2438\n",
            "Epoch 7/25\n",
            "2500/2500 [==============================] - 5s 2ms/step - loss: 2.0489 - accuracy: 0.2588 - val_loss: 2.0189 - val_accuracy: 0.2754\n",
            "Epoch 8/25\n",
            "2500/2500 [==============================] - 5s 2ms/step - loss: 1.9954 - accuracy: 0.2953 - val_loss: 1.9629 - val_accuracy: 0.3099\n",
            "Epoch 9/25\n",
            "2500/2500 [==============================] - 5s 2ms/step - loss: 1.9383 - accuracy: 0.3296 - val_loss: 1.9037 - val_accuracy: 0.3408\n",
            "Epoch 10/25\n",
            "2500/2500 [==============================] - 5s 2ms/step - loss: 1.8787 - accuracy: 0.3595 - val_loss: 1.8430 - val_accuracy: 0.3659\n",
            "Epoch 11/25\n",
            "2500/2500 [==============================] - 5s 2ms/step - loss: 1.8182 - accuracy: 0.3834 - val_loss: 1.7821 - val_accuracy: 0.3868\n",
            "Epoch 12/25\n",
            "2500/2500 [==============================] - 5s 2ms/step - loss: 1.7584 - accuracy: 0.4057 - val_loss: 1.7227 - val_accuracy: 0.4090\n",
            "Epoch 13/25\n",
            "2500/2500 [==============================] - 6s 2ms/step - loss: 1.7007 - accuracy: 0.4285 - val_loss: 1.6659 - val_accuracy: 0.4347\n",
            "Epoch 14/25\n",
            "2500/2500 [==============================] - 5s 2ms/step - loss: 1.6461 - accuracy: 0.4606 - val_loss: 1.6125 - val_accuracy: 0.4758\n",
            "Epoch 15/25\n",
            "2500/2500 [==============================] - 5s 2ms/step - loss: 1.5952 - accuracy: 0.4953 - val_loss: 1.5630 - val_accuracy: 0.5089\n",
            "Epoch 16/25\n",
            "2500/2500 [==============================] - 5s 2ms/step - loss: 1.5483 - accuracy: 0.5217 - val_loss: 1.5175 - val_accuracy: 0.5310\n",
            "Epoch 17/25\n",
            "2500/2500 [==============================] - 5s 2ms/step - loss: 1.5053 - accuracy: 0.5397 - val_loss: 1.4759 - val_accuracy: 0.5475\n",
            "Epoch 18/25\n",
            "2500/2500 [==============================] - 5s 2ms/step - loss: 1.4660 - accuracy: 0.5531 - val_loss: 1.4380 - val_accuracy: 0.5598\n",
            "Epoch 19/25\n",
            "2500/2500 [==============================] - 5s 2ms/step - loss: 1.4301 - accuracy: 0.5641 - val_loss: 1.4033 - val_accuracy: 0.5705\n",
            "Epoch 20/25\n",
            "2500/2500 [==============================] - 6s 2ms/step - loss: 1.3972 - accuracy: 0.5740 - val_loss: 1.3715 - val_accuracy: 0.5815\n",
            "Epoch 21/25\n",
            "2500/2500 [==============================] - 6s 2ms/step - loss: 1.3670 - accuracy: 0.5835 - val_loss: 1.3422 - val_accuracy: 0.5915\n",
            "Epoch 22/25\n",
            "2500/2500 [==============================] - 5s 2ms/step - loss: 1.3392 - accuracy: 0.5919 - val_loss: 1.3152 - val_accuracy: 0.5997\n",
            "Epoch 23/25\n",
            "2500/2500 [==============================] - 6s 2ms/step - loss: 1.3134 - accuracy: 0.6005 - val_loss: 1.2902 - val_accuracy: 0.6075\n",
            "Epoch 24/25\n",
            "2500/2500 [==============================] - 5s 2ms/step - loss: 1.2894 - accuracy: 0.6069 - val_loss: 1.2670 - val_accuracy: 0.6151\n",
            "Epoch 25/25\n",
            "2500/2500 [==============================] - 5s 2ms/step - loss: 1.2671 - accuracy: 0.6143 - val_loss: 1.2454 - val_accuracy: 0.6230\n"
          ],
          "name": "stdout"
        }
      ]
    },
    {
      "cell_type": "code",
      "metadata": {
        "id": "GqfZBp2QTB7-",
        "colab_type": "code",
        "colab": {
          "base_uri": "https://localhost:8080/",
          "height": 887
        },
        "outputId": "4405e9fc-d51c-4596-edeb-4ee32c16e841"
      },
      "source": [
        "lr_1 = create_model(lr=1.0).fit(X_train, y_train,\n",
        "                                epochs=25,\n",
        "                                validation_data=(X_test,y_test)\n",
        ")"
      ],
      "execution_count": 21,
      "outputs": [
        {
          "output_type": "stream",
          "text": [
            "Epoch 1/25\n",
            "2500/2500 [==============================] - 6s 2ms/step - loss: 1.9996 - accuracy: 0.2071 - val_loss: 1.9744 - val_accuracy: 0.1896\n",
            "Epoch 2/25\n",
            "2500/2500 [==============================] - 5s 2ms/step - loss: 2.0590 - accuracy: 0.1862 - val_loss: 2.0577 - val_accuracy: 0.1622\n",
            "Epoch 3/25\n",
            "2500/2500 [==============================] - 5s 2ms/step - loss: 1.9933 - accuracy: 0.2133 - val_loss: 1.8624 - val_accuracy: 0.2401\n",
            "Epoch 4/25\n",
            "2500/2500 [==============================] - 5s 2ms/step - loss: 1.8906 - accuracy: 0.2403 - val_loss: 1.8851 - val_accuracy: 0.2398\n",
            "Epoch 5/25\n",
            "2500/2500 [==============================] - 5s 2ms/step - loss: 1.8741 - accuracy: 0.2433 - val_loss: 1.8981 - val_accuracy: 0.2356\n",
            "Epoch 6/25\n",
            "2500/2500 [==============================] - 5s 2ms/step - loss: 1.9575 - accuracy: 0.2014 - val_loss: 2.0717 - val_accuracy: 0.1764\n",
            "Epoch 7/25\n",
            "2500/2500 [==============================] - 5s 2ms/step - loss: 1.9571 - accuracy: 0.1875 - val_loss: 1.9585 - val_accuracy: 0.1876\n",
            "Epoch 8/25\n",
            "2500/2500 [==============================] - 5s 2ms/step - loss: 1.9547 - accuracy: 0.1850 - val_loss: 1.9197 - val_accuracy: 0.1903\n",
            "Epoch 9/25\n",
            "2500/2500 [==============================] - 5s 2ms/step - loss: 1.9478 - accuracy: 0.1856 - val_loss: 1.9349 - val_accuracy: 0.1877\n",
            "Epoch 10/25\n",
            "2500/2500 [==============================] - 5s 2ms/step - loss: 1.9438 - accuracy: 0.1864 - val_loss: 1.9777 - val_accuracy: 0.1801\n",
            "Epoch 11/25\n",
            "2500/2500 [==============================] - 5s 2ms/step - loss: 1.9414 - accuracy: 0.1862 - val_loss: 1.9226 - val_accuracy: 0.1965\n",
            "Epoch 12/25\n",
            "2500/2500 [==============================] - 5s 2ms/step - loss: 1.9441 - accuracy: 0.1866 - val_loss: 1.9332 - val_accuracy: 0.1811\n",
            "Epoch 13/25\n",
            "2500/2500 [==============================] - 5s 2ms/step - loss: 1.9420 - accuracy: 0.1866 - val_loss: 1.9543 - val_accuracy: 0.1829\n",
            "Epoch 14/25\n",
            "2500/2500 [==============================] - 5s 2ms/step - loss: 1.9479 - accuracy: 0.1867 - val_loss: 1.9158 - val_accuracy: 0.1919\n",
            "Epoch 15/25\n",
            "2500/2500 [==============================] - 6s 2ms/step - loss: 1.9366 - accuracy: 0.1879 - val_loss: 1.9432 - val_accuracy: 0.1734\n",
            "Epoch 16/25\n",
            "2500/2500 [==============================] - 6s 3ms/step - loss: 1.9352 - accuracy: 0.1878 - val_loss: 1.9205 - val_accuracy: 0.1892\n",
            "Epoch 17/25\n",
            "2500/2500 [==============================] - 5s 2ms/step - loss: 1.9491 - accuracy: 0.1853 - val_loss: 1.9363 - val_accuracy: 0.1903\n",
            "Epoch 18/25\n",
            "2500/2500 [==============================] - 5s 2ms/step - loss: 1.9456 - accuracy: 0.1849 - val_loss: 1.9710 - val_accuracy: 0.1895\n",
            "Epoch 19/25\n",
            "2500/2500 [==============================] - 5s 2ms/step - loss: 1.9946 - accuracy: 0.1829 - val_loss: 2.0333 - val_accuracy: 0.1809\n",
            "Epoch 20/25\n",
            "2500/2500 [==============================] - 5s 2ms/step - loss: 2.0018 - accuracy: 0.1827 - val_loss: 1.9423 - val_accuracy: 0.1901\n",
            "Epoch 21/25\n",
            "2500/2500 [==============================] - 5s 2ms/step - loss: 1.9565 - accuracy: 0.1843 - val_loss: 1.9456 - val_accuracy: 0.1900\n",
            "Epoch 22/25\n",
            "2500/2500 [==============================] - 5s 2ms/step - loss: 1.9623 - accuracy: 0.1866 - val_loss: 1.9293 - val_accuracy: 0.1916\n",
            "Epoch 23/25\n",
            "2500/2500 [==============================] - 5s 2ms/step - loss: 1.9438 - accuracy: 0.1889 - val_loss: 1.9294 - val_accuracy: 0.1881\n",
            "Epoch 24/25\n",
            "2500/2500 [==============================] - 6s 2ms/step - loss: 1.9517 - accuracy: 0.1860 - val_loss: 1.9297 - val_accuracy: 0.1837\n",
            "Epoch 25/25\n",
            "2500/2500 [==============================] - 6s 2ms/step - loss: 1.9635 - accuracy: 0.1843 - val_loss: 1.9648 - val_accuracy: 0.1888\n"
          ],
          "name": "stdout"
        }
      ]
    },
    {
      "cell_type": "code",
      "metadata": {
        "id": "hnFtX49WTCE3",
        "colab_type": "code",
        "colab": {
          "base_uri": "https://localhost:8080/",
          "height": 887
        },
        "outputId": "dcb55dee-31a0-4bb5-f56d-282374b792da"
      },
      "source": [
        "lr_001 = create_model(lr=.001).fit(X_train, y_train,\n",
        "                                epochs=25,\n",
        "                                validation_data=(X_test,y_test)\n",
        ")"
      ],
      "execution_count": 22,
      "outputs": [
        {
          "output_type": "stream",
          "text": [
            "Epoch 1/25\n",
            "2500/2500 [==============================] - 6s 2ms/step - loss: 2.1596 - accuracy: 0.2585 - val_loss: 1.9273 - val_accuracy: 0.3991\n",
            "Epoch 2/25\n",
            "2500/2500 [==============================] - 5s 2ms/step - loss: 1.6367 - accuracy: 0.4962 - val_loss: 1.3736 - val_accuracy: 0.5844\n",
            "Epoch 3/25\n",
            "2500/2500 [==============================] - 5s 2ms/step - loss: 1.2449 - accuracy: 0.6242 - val_loss: 1.1290 - val_accuracy: 0.6559\n",
            "Epoch 4/25\n",
            "2500/2500 [==============================] - 5s 2ms/step - loss: 1.0816 - accuracy: 0.6722 - val_loss: 1.0252 - val_accuracy: 0.6888\n",
            "Epoch 5/25\n",
            "2500/2500 [==============================] - 5s 2ms/step - loss: 1.0043 - accuracy: 0.6969 - val_loss: 0.9709 - val_accuracy: 0.7057\n",
            "Epoch 6/25\n",
            "2500/2500 [==============================] - 5s 2ms/step - loss: 0.9596 - accuracy: 0.7116 - val_loss: 0.9365 - val_accuracy: 0.7171\n",
            "Epoch 7/25\n",
            "2500/2500 [==============================] - 5s 2ms/step - loss: 0.9284 - accuracy: 0.7232 - val_loss: 0.9109 - val_accuracy: 0.7277\n",
            "Epoch 8/25\n",
            "2500/2500 [==============================] - 5s 2ms/step - loss: 0.9043 - accuracy: 0.7323 - val_loss: 0.8902 - val_accuracy: 0.7348\n",
            "Epoch 9/25\n",
            "2500/2500 [==============================] - 5s 2ms/step - loss: 0.8842 - accuracy: 0.7394 - val_loss: 0.8725 - val_accuracy: 0.7420\n",
            "Epoch 10/25\n",
            "2500/2500 [==============================] - 5s 2ms/step - loss: 0.8667 - accuracy: 0.7454 - val_loss: 0.8580 - val_accuracy: 0.7459\n",
            "Epoch 11/25\n",
            "2500/2500 [==============================] - 5s 2ms/step - loss: 0.8513 - accuracy: 0.7514 - val_loss: 0.8433 - val_accuracy: 0.7517\n",
            "Epoch 12/25\n",
            "2500/2500 [==============================] - 5s 2ms/step - loss: 0.8371 - accuracy: 0.7563 - val_loss: 0.8301 - val_accuracy: 0.7563\n",
            "Epoch 13/25\n",
            "2500/2500 [==============================] - 5s 2ms/step - loss: 0.8238 - accuracy: 0.7604 - val_loss: 0.8194 - val_accuracy: 0.7592\n",
            "Epoch 14/25\n",
            "2500/2500 [==============================] - 6s 2ms/step - loss: 0.8115 - accuracy: 0.7642 - val_loss: 0.8079 - val_accuracy: 0.7639\n",
            "Epoch 15/25\n",
            "2500/2500 [==============================] - 6s 2ms/step - loss: 0.8001 - accuracy: 0.7676 - val_loss: 0.7987 - val_accuracy: 0.7678\n",
            "Epoch 16/25\n",
            "2500/2500 [==============================] - 5s 2ms/step - loss: 0.7894 - accuracy: 0.7705 - val_loss: 0.7889 - val_accuracy: 0.7697\n",
            "Epoch 17/25\n",
            "2500/2500 [==============================] - 5s 2ms/step - loss: 0.7794 - accuracy: 0.7739 - val_loss: 0.7790 - val_accuracy: 0.7727\n",
            "Epoch 18/25\n",
            "2500/2500 [==============================] - 6s 2ms/step - loss: 0.7700 - accuracy: 0.7762 - val_loss: 0.7704 - val_accuracy: 0.7750\n",
            "Epoch 19/25\n",
            "2500/2500 [==============================] - 6s 2ms/step - loss: 0.7610 - accuracy: 0.7787 - val_loss: 0.7626 - val_accuracy: 0.7780\n",
            "Epoch 20/25\n",
            "2500/2500 [==============================] - 5s 2ms/step - loss: 0.7525 - accuracy: 0.7810 - val_loss: 0.7542 - val_accuracy: 0.7806\n",
            "Epoch 21/25\n",
            "2500/2500 [==============================] - 5s 2ms/step - loss: 0.7444 - accuracy: 0.7837 - val_loss: 0.7471 - val_accuracy: 0.7825\n",
            "Epoch 22/25\n",
            "2500/2500 [==============================] - 5s 2ms/step - loss: 0.7366 - accuracy: 0.7861 - val_loss: 0.7407 - val_accuracy: 0.7832\n",
            "Epoch 23/25\n",
            "2500/2500 [==============================] - 5s 2ms/step - loss: 0.7293 - accuracy: 0.7886 - val_loss: 0.7340 - val_accuracy: 0.7870\n",
            "Epoch 24/25\n",
            "2500/2500 [==============================] - 6s 2ms/step - loss: 0.7221 - accuracy: 0.7904 - val_loss: 0.7276 - val_accuracy: 0.7883\n",
            "Epoch 25/25\n",
            "2500/2500 [==============================] - 5s 2ms/step - loss: 0.7154 - accuracy: 0.7923 - val_loss: 0.7206 - val_accuracy: 0.7901\n"
          ],
          "name": "stdout"
        }
      ]
    },
    {
      "cell_type": "code",
      "metadata": {
        "id": "I05h9JMfXhc8",
        "colab_type": "code",
        "colab": {
          "base_uri": "https://localhost:8080/",
          "height": 204
        },
        "outputId": "73758307-8af8-40fc-ef02-d84a8314afeb"
      },
      "source": [
        "import seaborn as sns\n",
        "import pandas as pd\n",
        "\n",
        "batch_sizes = []\n",
        "\n",
        "for exp, result in zip([lr_default, lr_0001, lr_75, lr_1, lr_001], [\".01_\", \".0001_\", \".75_\", \"1.0_\", \".001_\"]):\n",
        "\n",
        "  df = pd.DataFrame.from_dict(exp.history)\n",
        "  df['epoch'] = df.index.values\n",
        "  df['Learning Rate'] = result\n",
        "\n",
        "  batch_sizes.append(df)\n",
        "\n",
        "df = pd.concat(batch_sizes)\n",
        "df['Learning Rate'] = df['Learning Rate'].astype('str')\n",
        "df.head()"
      ],
      "execution_count": 23,
      "outputs": [
        {
          "output_type": "execute_result",
          "data": {
            "text/html": [
              "<div>\n",
              "<style scoped>\n",
              "    .dataframe tbody tr th:only-of-type {\n",
              "        vertical-align: middle;\n",
              "    }\n",
              "\n",
              "    .dataframe tbody tr th {\n",
              "        vertical-align: top;\n",
              "    }\n",
              "\n",
              "    .dataframe thead th {\n",
              "        text-align: right;\n",
              "    }\n",
              "</style>\n",
              "<table border=\"1\" class=\"dataframe\">\n",
              "  <thead>\n",
              "    <tr style=\"text-align: right;\">\n",
              "      <th></th>\n",
              "      <th>loss</th>\n",
              "      <th>accuracy</th>\n",
              "      <th>val_loss</th>\n",
              "      <th>val_accuracy</th>\n",
              "      <th>epoch</th>\n",
              "      <th>Learning Rate</th>\n",
              "    </tr>\n",
              "  </thead>\n",
              "  <tbody>\n",
              "    <tr>\n",
              "      <th>0</th>\n",
              "      <td>1.152633</td>\n",
              "      <td>0.641150</td>\n",
              "      <td>0.863618</td>\n",
              "      <td>0.74615</td>\n",
              "      <td>0</td>\n",
              "      <td>.01_</td>\n",
              "    </tr>\n",
              "    <tr>\n",
              "      <th>1</th>\n",
              "      <td>0.815289</td>\n",
              "      <td>0.761125</td>\n",
              "      <td>0.765071</td>\n",
              "      <td>0.77700</td>\n",
              "      <td>1</td>\n",
              "      <td>.01_</td>\n",
              "    </tr>\n",
              "    <tr>\n",
              "      <th>2</th>\n",
              "      <td>0.731292</td>\n",
              "      <td>0.785550</td>\n",
              "      <td>0.701647</td>\n",
              "      <td>0.79495</td>\n",
              "      <td>2</td>\n",
              "      <td>.01_</td>\n",
              "    </tr>\n",
              "    <tr>\n",
              "      <th>3</th>\n",
              "      <td>0.672628</td>\n",
              "      <td>0.802163</td>\n",
              "      <td>0.655744</td>\n",
              "      <td>0.80725</td>\n",
              "      <td>3</td>\n",
              "      <td>.01_</td>\n",
              "    </tr>\n",
              "    <tr>\n",
              "      <th>4</th>\n",
              "      <td>0.631182</td>\n",
              "      <td>0.812900</td>\n",
              "      <td>0.626684</td>\n",
              "      <td>0.81385</td>\n",
              "      <td>4</td>\n",
              "      <td>.01_</td>\n",
              "    </tr>\n",
              "  </tbody>\n",
              "</table>\n",
              "</div>"
            ],
            "text/plain": [
              "       loss  accuracy  val_loss  val_accuracy  epoch Learning Rate\n",
              "0  1.152633  0.641150  0.863618       0.74615      0          .01_\n",
              "1  0.815289  0.761125  0.765071       0.77700      1          .01_\n",
              "2  0.731292  0.785550  0.701647       0.79495      2          .01_\n",
              "3  0.672628  0.802163  0.655744       0.80725      3          .01_\n",
              "4  0.631182  0.812900  0.626684       0.81385      4          .01_"
            ]
          },
          "metadata": {
            "tags": []
          },
          "execution_count": 23
        }
      ]
    },
    {
      "cell_type": "code",
      "metadata": {
        "id": "_UmPVvwsc9_Q",
        "colab_type": "code",
        "colab": {
          "base_uri": "https://localhost:8080/",
          "height": 279
        },
        "outputId": "28ee3e0b-49c1-4149-f5ff-f3b8ffca32f6"
      },
      "source": [
        "sns.lineplot(x='epoch', y='val_accuracy', hue='Learning Rate', data=df);"
      ],
      "execution_count": 24,
      "outputs": [
        {
          "output_type": "display_data",
          "data": {
            "image/png": "[encoded data removed]",
            "text/plain": [
              "<Figure size 432x288 with 1 Axes>"
            ]
          },
          "metadata": {
            "tags": [],
            "needs_background": "light"
          }
        }
      ]
    },
    {
      "cell_type": "code",
      "metadata": {
        "id": "HVXHWTu-c-UB",
        "colab_type": "code",
        "colab": {
          "base_uri": "https://localhost:8080/",
          "height": 279
        },
        "outputId": "dcbe4d38-2d01-4788-9bd8-226ecf2f409a"
      },
      "source": [
        "sns.lineplot(x='epoch', y='val_loss', hue='Learning Rate', data=df);"
      ],
      "execution_count": 25,
      "outputs": [
        {
          "output_type": "display_data",
          "data": {
            "image/png": "[encoded data removed]",
            "text/plain": [
              "<Figure size 432x288 with 1 Axes>"
            ]
          },
          "metadata": {
            "tags": [],
            "needs_background": "light"
          }
        }
      ]
    },
    {
      "cell_type": "markdown",
      "metadata": {
        "id": "gxMtSRhV9Q7I",
        "colab_type": "text"
      },
      "source": [
        "### Experiment with different Optimizers\n",
        "* Run 5 experiments with various optimizers available in TensorFlow. See list [here](https://www.tensorflow.org/api_docs/python/tf/keras/optimizers)\n",
        "* Visualize the results\n",
        "* Write up an analysis of the experiments and select the \"best\" performing model among your experiments. Make sure to compare against the previous experiments and your model's performance yesterday.\n",
        "* Repeat the experiment combining Learning Rate and different optimizers. Does the best performing model change? "
      ]
    },
    {
      "cell_type": "code",
      "metadata": {
        "id": "ujLuzdNA91ip",
        "colab_type": "code",
        "colab": {}
      },
      "source": [
        "def create_model(lr=.01, optimize='adam'):\n",
        "\n",
        "  model = Sequential(\n",
        "      [\n",
        "       Dense(32, activation='relu', input_dim=784),\n",
        "       Dense(32, activation='relu'),\n",
        "       Dense(10, activation='softmax')       \n",
        "      ]\n",
        ")\n",
        "  model.compile(optimizer=optimize, loss='sparse_categorical_crossentropy',\n",
        "                metrics=['accuracy'])\n",
        "  return model"
      ],
      "execution_count": 26,
      "outputs": []
    },
    {
      "cell_type": "code",
      "metadata": {
        "id": "g0z-CRwKhlZh",
        "colab_type": "code",
        "colab": {
          "base_uri": "https://localhost:8080/",
          "height": 887
        },
        "outputId": "c1996543-f1d8-4780-acce-ffff72886282"
      },
      "source": [
        "opt_1 = create_model().fit(X_train, y_train,\n",
        "                                epochs=25,\n",
        "                                validation_data=(X_test,y_test)\n",
        ")"
      ],
      "execution_count": 27,
      "outputs": [
        {
          "output_type": "stream",
          "text": [
            "Epoch 1/25\n",
            "2500/2500 [==============================] - 6s 2ms/step - loss: 0.7843 - accuracy: 0.7646 - val_loss: 0.6513 - val_accuracy: 0.8056\n",
            "Epoch 2/25\n",
            "2500/2500 [==============================] - 6s 2ms/step - loss: 0.5840 - accuracy: 0.8253 - val_loss: 0.5688 - val_accuracy: 0.8328\n",
            "Epoch 3/25\n",
            "2500/2500 [==============================] - 6s 2ms/step - loss: 0.5366 - accuracy: 0.8389 - val_loss: 0.5574 - val_accuracy: 0.8356\n",
            "Epoch 4/25\n",
            "2500/2500 [==============================] - 6s 2ms/step - loss: 0.5059 - accuracy: 0.8475 - val_loss: 0.5455 - val_accuracy: 0.8403\n",
            "Epoch 5/25\n",
            "2500/2500 [==============================] - 6s 2ms/step - loss: 0.4852 - accuracy: 0.8537 - val_loss: 0.5329 - val_accuracy: 0.8463\n",
            "Epoch 6/25\n",
            "2500/2500 [==============================] - 6s 2ms/step - loss: 0.4688 - accuracy: 0.8583 - val_loss: 0.5361 - val_accuracy: 0.8440\n",
            "Epoch 7/25\n",
            "2500/2500 [==============================] - 6s 2ms/step - loss: 0.4562 - accuracy: 0.8625 - val_loss: 0.5324 - val_accuracy: 0.8461\n",
            "Epoch 8/25\n",
            "2500/2500 [==============================] - 6s 2ms/step - loss: 0.4446 - accuracy: 0.8666 - val_loss: 0.5303 - val_accuracy: 0.8465\n",
            "Epoch 9/25\n",
            "2500/2500 [==============================] - 6s 2ms/step - loss: 0.4366 - accuracy: 0.8681 - val_loss: 0.5291 - val_accuracy: 0.8456\n",
            "Epoch 10/25\n",
            "2500/2500 [==============================] - 6s 2ms/step - loss: 0.4278 - accuracy: 0.8710 - val_loss: 0.5244 - val_accuracy: 0.8477\n",
            "Epoch 11/25\n",
            "2500/2500 [==============================] - 6s 2ms/step - loss: 0.4204 - accuracy: 0.8725 - val_loss: 0.5214 - val_accuracy: 0.8501\n",
            "Epoch 12/25\n",
            "2500/2500 [==============================] - 6s 2ms/step - loss: 0.4120 - accuracy: 0.8752 - val_loss: 0.5387 - val_accuracy: 0.8454\n",
            "Epoch 13/25\n",
            "2500/2500 [==============================] - 6s 2ms/step - loss: 0.4079 - accuracy: 0.8769 - val_loss: 0.5231 - val_accuracy: 0.8501\n",
            "Epoch 14/25\n",
            "2500/2500 [==============================] - 6s 2ms/step - loss: 0.4017 - accuracy: 0.8776 - val_loss: 0.5263 - val_accuracy: 0.8478\n",
            "Epoch 15/25\n",
            "2500/2500 [==============================] - 6s 2ms/step - loss: 0.3970 - accuracy: 0.8793 - val_loss: 0.5288 - val_accuracy: 0.8472\n",
            "Epoch 16/25\n",
            "2500/2500 [==============================] - 6s 2ms/step - loss: 0.3920 - accuracy: 0.8810 - val_loss: 0.5233 - val_accuracy: 0.8507\n",
            "Epoch 17/25\n",
            "2500/2500 [==============================] - 6s 2ms/step - loss: 0.3877 - accuracy: 0.8814 - val_loss: 0.5354 - val_accuracy: 0.8473\n",
            "Epoch 18/25\n",
            "2500/2500 [==============================] - 6s 2ms/step - loss: 0.3843 - accuracy: 0.8826 - val_loss: 0.5241 - val_accuracy: 0.8489\n",
            "Epoch 19/25\n",
            "2500/2500 [==============================] - 6s 2ms/step - loss: 0.3817 - accuracy: 0.8839 - val_loss: 0.5354 - val_accuracy: 0.8471\n",
            "Epoch 20/25\n",
            "2500/2500 [==============================] - 6s 2ms/step - loss: 0.3774 - accuracy: 0.8848 - val_loss: 0.5353 - val_accuracy: 0.8486\n",
            "Epoch 21/25\n",
            "2500/2500 [==============================] - 7s 3ms/step - loss: 0.3734 - accuracy: 0.8866 - val_loss: 0.5340 - val_accuracy: 0.8483\n",
            "Epoch 22/25\n",
            "2500/2500 [==============================] - 6s 2ms/step - loss: 0.3724 - accuracy: 0.8868 - val_loss: 0.5480 - val_accuracy: 0.8445\n",
            "Epoch 23/25\n",
            "2500/2500 [==============================] - 6s 2ms/step - loss: 0.3675 - accuracy: 0.8880 - val_loss: 0.5471 - val_accuracy: 0.8450\n",
            "Epoch 24/25\n",
            "2500/2500 [==============================] - 6s 2ms/step - loss: 0.3649 - accuracy: 0.8885 - val_loss: 0.5487 - val_accuracy: 0.8479\n",
            "Epoch 25/25\n",
            "2500/2500 [==============================] - 6s 2ms/step - loss: 0.3617 - accuracy: 0.8899 - val_loss: 0.5558 - val_accuracy: 0.8462\n"
          ],
          "name": "stdout"
        }
      ]
    },
    {
      "cell_type": "code",
      "metadata": {
        "id": "IpxriQpHhlha",
        "colab_type": "code",
        "colab": {
          "base_uri": "https://localhost:8080/",
          "height": 887
        },
        "outputId": "9371df14-b69f-4864-f4f7-d8081e000777"
      },
      "source": [
        "opt_2 = create_model(optimize='sgd').fit(X_train, y_train,\n",
        "                                epochs=25,\n",
        "                                validation_data=(X_test,y_test)\n",
        ")"
      ],
      "execution_count": 28,
      "outputs": [
        {
          "output_type": "stream",
          "text": [
            "Epoch 1/25\n",
            "2500/2500 [==============================] - 6s 2ms/step - loss: 1.1681 - accuracy: 0.6368 - val_loss: 0.8757 - val_accuracy: 0.7310\n",
            "Epoch 2/25\n",
            "2500/2500 [==============================] - 5s 2ms/step - loss: 0.8153 - accuracy: 0.7598 - val_loss: 0.7707 - val_accuracy: 0.7721\n",
            "Epoch 3/25\n",
            "2500/2500 [==============================] - 5s 2ms/step - loss: 0.7356 - accuracy: 0.7844 - val_loss: 0.7112 - val_accuracy: 0.7927\n",
            "Epoch 4/25\n",
            "2500/2500 [==============================] - 5s 2ms/step - loss: 0.6778 - accuracy: 0.8001 - val_loss: 0.6629 - val_accuracy: 0.8044\n",
            "Epoch 5/25\n",
            "2500/2500 [==============================] - 5s 2ms/step - loss: 0.6363 - accuracy: 0.8125 - val_loss: 0.6409 - val_accuracy: 0.8113\n",
            "Epoch 6/25\n",
            "2500/2500 [==============================] - 6s 2ms/step - loss: 0.6050 - accuracy: 0.8220 - val_loss: 0.6150 - val_accuracy: 0.8194\n",
            "Epoch 7/25\n",
            "2500/2500 [==============================] - 5s 2ms/step - loss: 0.5818 - accuracy: 0.8277 - val_loss: 0.5972 - val_accuracy: 0.8260\n",
            "Epoch 8/25\n",
            "2500/2500 [==============================] - 5s 2ms/step - loss: 0.5631 - accuracy: 0.8336 - val_loss: 0.5808 - val_accuracy: 0.8299\n",
            "Epoch 9/25\n",
            "2500/2500 [==============================] - 5s 2ms/step - loss: 0.5477 - accuracy: 0.8372 - val_loss: 0.5678 - val_accuracy: 0.8343\n",
            "Epoch 10/25\n",
            "2500/2500 [==============================] - 5s 2ms/step - loss: 0.5353 - accuracy: 0.8419 - val_loss: 0.5629 - val_accuracy: 0.8345\n",
            "Epoch 11/25\n",
            "2500/2500 [==============================] - 5s 2ms/step - loss: 0.5242 - accuracy: 0.8448 - val_loss: 0.5586 - val_accuracy: 0.8357\n",
            "Epoch 12/25\n",
            "2500/2500 [==============================] - 5s 2ms/step - loss: 0.5140 - accuracy: 0.8471 - val_loss: 0.5508 - val_accuracy: 0.8385\n",
            "Epoch 13/25\n",
            "2500/2500 [==============================] - 5s 2ms/step - loss: 0.5048 - accuracy: 0.8506 - val_loss: 0.5474 - val_accuracy: 0.8408\n",
            "Epoch 14/25\n",
            "2500/2500 [==============================] - 5s 2ms/step - loss: 0.4971 - accuracy: 0.8535 - val_loss: 0.5392 - val_accuracy: 0.8426\n",
            "Epoch 15/25\n",
            "2500/2500 [==============================] - 5s 2ms/step - loss: 0.4897 - accuracy: 0.8552 - val_loss: 0.5374 - val_accuracy: 0.8424\n",
            "Epoch 16/25\n",
            "2500/2500 [==============================] - 5s 2ms/step - loss: 0.4825 - accuracy: 0.8576 - val_loss: 0.5587 - val_accuracy: 0.8403\n",
            "Epoch 17/25\n",
            "2500/2500 [==============================] - 5s 2ms/step - loss: 0.4765 - accuracy: 0.8593 - val_loss: 0.5290 - val_accuracy: 0.8475\n",
            "Epoch 18/25\n",
            "2500/2500 [==============================] - 5s 2ms/step - loss: 0.4706 - accuracy: 0.8609 - val_loss: 0.5327 - val_accuracy: 0.8482\n",
            "Epoch 19/25\n",
            "2500/2500 [==============================] - 5s 2ms/step - loss: 0.4652 - accuracy: 0.8623 - val_loss: 0.5282 - val_accuracy: 0.8467\n",
            "Epoch 20/25\n",
            "2500/2500 [==============================] - 5s 2ms/step - loss: 0.4592 - accuracy: 0.8643 - val_loss: 0.5350 - val_accuracy: 0.8450\n",
            "Epoch 21/25\n",
            "2500/2500 [==============================] - 5s 2ms/step - loss: 0.4544 - accuracy: 0.8654 - val_loss: 0.5197 - val_accuracy: 0.8487\n",
            "Epoch 22/25\n",
            "2500/2500 [==============================] - 6s 2ms/step - loss: 0.4490 - accuracy: 0.8671 - val_loss: 0.5286 - val_accuracy: 0.8446\n",
            "Epoch 23/25\n",
            "2500/2500 [==============================] - 6s 2ms/step - loss: 0.4446 - accuracy: 0.8679 - val_loss: 0.5249 - val_accuracy: 0.8480\n",
            "Epoch 24/25\n",
            "2500/2500 [==============================] - 5s 2ms/step - loss: 0.4404 - accuracy: 0.8698 - val_loss: 0.5293 - val_accuracy: 0.8464\n",
            "Epoch 25/25\n",
            "2500/2500 [==============================] - 5s 2ms/step - loss: 0.4364 - accuracy: 0.8708 - val_loss: 0.5228 - val_accuracy: 0.8493\n"
          ],
          "name": "stdout"
        }
      ]
    },
    {
      "cell_type": "code",
      "metadata": {
        "id": "q2OijiXuhlqN",
        "colab_type": "code",
        "colab": {
          "base_uri": "https://localhost:8080/",
          "height": 887
        },
        "outputId": "848b6bff-17fa-4ed8-cc12-2ef1ae2ac14a"
      },
      "source": [
        "opt_3 = create_model(optimize='ftrl').fit(X_train, y_train,\n",
        "                                epochs=25,\n",
        "                                validation_data=(X_test,y_test)\n",
        ")"
      ],
      "execution_count": 29,
      "outputs": [
        {
          "output_type": "stream",
          "text": [
            "Epoch 1/25\n",
            "2500/2500 [==============================] - 6s 2ms/step - loss: 2.3026 - accuracy: 0.0990 - val_loss: 2.3026 - val_accuracy: 0.0997\n",
            "Epoch 2/25\n",
            "2500/2500 [==============================] - 6s 2ms/step - loss: 2.3026 - accuracy: 0.0997 - val_loss: 2.3026 - val_accuracy: 0.0997\n",
            "Epoch 3/25\n",
            "2500/2500 [==============================] - 6s 2ms/step - loss: 2.3026 - accuracy: 0.0994 - val_loss: 2.3026 - val_accuracy: 0.0997\n",
            "Epoch 4/25\n",
            "2500/2500 [==============================] - 6s 2ms/step - loss: 2.3026 - accuracy: 0.0993 - val_loss: 2.3026 - val_accuracy: 0.0997\n",
            "Epoch 5/25\n",
            "2500/2500 [==============================] - 6s 2ms/step - loss: 2.3026 - accuracy: 0.0995 - val_loss: 2.3026 - val_accuracy: 0.0984\n",
            "Epoch 6/25\n",
            "2500/2500 [==============================] - 6s 2ms/step - loss: 2.3026 - accuracy: 0.1004 - val_loss: 2.3026 - val_accuracy: 0.0984\n",
            "Epoch 7/25\n",
            "2500/2500 [==============================] - 6s 2ms/step - loss: 2.3026 - accuracy: 0.1001 - val_loss: 2.3026 - val_accuracy: 0.0984\n",
            "Epoch 8/25\n",
            "2500/2500 [==============================] - 6s 2ms/step - loss: 2.3026 - accuracy: 0.0999 - val_loss: 2.3026 - val_accuracy: 0.0984\n",
            "Epoch 9/25\n",
            "2500/2500 [==============================] - 6s 2ms/step - loss: 2.3026 - accuracy: 0.1002 - val_loss: 2.3026 - val_accuracy: 0.0984\n",
            "Epoch 10/25\n",
            "2500/2500 [==============================] - 6s 2ms/step - loss: 2.3026 - accuracy: 0.0998 - val_loss: 2.3026 - val_accuracy: 0.0984\n",
            "Epoch 11/25\n",
            "2500/2500 [==============================] - 6s 2ms/step - loss: 2.3026 - accuracy: 0.0994 - val_loss: 2.3026 - val_accuracy: 0.0984\n",
            "Epoch 12/25\n",
            "2500/2500 [==============================] - 6s 2ms/step - loss: 2.3026 - accuracy: 0.1004 - val_loss: 2.3026 - val_accuracy: 0.0984\n",
            "Epoch 13/25\n",
            "2500/2500 [==============================] - 6s 2ms/step - loss: 2.3026 - accuracy: 0.0999 - val_loss: 2.3026 - val_accuracy: 0.0984\n",
            "Epoch 14/25\n",
            "2500/2500 [==============================] - 6s 2ms/step - loss: 2.3026 - accuracy: 0.1004 - val_loss: 2.3026 - val_accuracy: 0.0984\n",
            "Epoch 15/25\n",
            "2500/2500 [==============================] - 6s 2ms/step - loss: 2.3026 - accuracy: 0.1000 - val_loss: 2.3026 - val_accuracy: 0.0984\n",
            "Epoch 16/25\n",
            "2500/2500 [==============================] - 6s 2ms/step - loss: 2.3026 - accuracy: 0.0993 - val_loss: 2.3026 - val_accuracy: 0.0984\n",
            "Epoch 17/25\n",
            "2500/2500 [==============================] - 6s 2ms/step - loss: 2.3026 - accuracy: 0.0998 - val_loss: 2.3026 - val_accuracy: 0.0984\n",
            "Epoch 18/25\n",
            "2500/2500 [==============================] - 6s 2ms/step - loss: 2.3026 - accuracy: 0.0998 - val_loss: 2.3026 - val_accuracy: 0.0984\n",
            "Epoch 19/25\n",
            "2500/2500 [==============================] - 6s 2ms/step - loss: 2.3026 - accuracy: 0.1001 - val_loss: 2.3026 - val_accuracy: 0.0984\n",
            "Epoch 20/25\n",
            "2500/2500 [==============================] - 6s 2ms/step - loss: 2.3026 - accuracy: 0.1002 - val_loss: 2.3026 - val_accuracy: 0.0984\n",
            "Epoch 21/25\n",
            "2500/2500 [==============================] - 6s 2ms/step - loss: 2.3026 - accuracy: 0.0997 - val_loss: 2.3026 - val_accuracy: 0.0984\n",
            "Epoch 22/25\n",
            "2500/2500 [==============================] - 6s 2ms/step - loss: 2.3026 - accuracy: 0.0997 - val_loss: 2.3026 - val_accuracy: 0.0984\n",
            "Epoch 23/25\n",
            "2500/2500 [==============================] - 6s 2ms/step - loss: 2.3026 - accuracy: 0.0991 - val_loss: 2.3026 - val_accuracy: 0.0984\n",
            "Epoch 24/25\n",
            "2500/2500 [==============================] - 6s 2ms/step - loss: 2.3026 - accuracy: 0.0995 - val_loss: 2.3026 - val_accuracy: 0.0984\n",
            "Epoch 25/25\n",
            "2500/2500 [==============================] - 6s 2ms/step - loss: 2.3026 - accuracy: 0.0996 - val_loss: 2.3026 - val_accuracy: 0.0984\n"
          ],
          "name": "stdout"
        }
      ]
    },
    {
      "cell_type": "code",
      "metadata": {
        "id": "AsSTG786hl0T",
        "colab_type": "code",
        "colab": {
          "base_uri": "https://localhost:8080/",
          "height": 887
        },
        "outputId": "c6444695-2bdf-43d2-9eb7-9ea8076e4cd2"
      },
      "source": [
        "opt_4 = create_model(optimize='adamax').fit(X_train, y_train,\n",
        "                                epochs=25,\n",
        "                                validation_data=(X_test,y_test)\n",
        ")"
      ],
      "execution_count": 30,
      "outputs": [
        {
          "output_type": "stream",
          "text": [
            "Epoch 1/25\n",
            "2500/2500 [==============================] - 7s 3ms/step - loss: 0.9323 - accuracy: 0.7221 - val_loss: 0.7339 - val_accuracy: 0.7883\n",
            "Epoch 2/25\n",
            "2500/2500 [==============================] - 6s 2ms/step - loss: 0.6930 - accuracy: 0.7974 - val_loss: 0.6574 - val_accuracy: 0.8098\n",
            "Epoch 3/25\n",
            "2500/2500 [==============================] - 6s 2ms/step - loss: 0.6306 - accuracy: 0.8152 - val_loss: 0.6193 - val_accuracy: 0.8191\n",
            "Epoch 4/25\n",
            "2500/2500 [==============================] - 6s 2ms/step - loss: 0.5929 - accuracy: 0.8249 - val_loss: 0.6040 - val_accuracy: 0.8242\n",
            "Epoch 5/25\n",
            "2500/2500 [==============================] - 6s 2ms/step - loss: 0.5672 - accuracy: 0.8327 - val_loss: 0.5897 - val_accuracy: 0.8312\n",
            "Epoch 6/25\n",
            "2500/2500 [==============================] - 6s 2ms/step - loss: 0.5472 - accuracy: 0.8376 - val_loss: 0.5722 - val_accuracy: 0.8337\n",
            "Epoch 7/25\n",
            "2500/2500 [==============================] - 6s 2ms/step - loss: 0.5290 - accuracy: 0.8433 - val_loss: 0.5620 - val_accuracy: 0.8349\n",
            "Epoch 8/25\n",
            "2500/2500 [==============================] - 6s 2ms/step - loss: 0.5150 - accuracy: 0.8475 - val_loss: 0.5537 - val_accuracy: 0.8387\n",
            "Epoch 9/25\n",
            "2500/2500 [==============================] - 6s 2ms/step - loss: 0.5035 - accuracy: 0.8504 - val_loss: 0.5501 - val_accuracy: 0.8393\n",
            "Epoch 10/25\n",
            "2500/2500 [==============================] - 6s 2ms/step - loss: 0.4932 - accuracy: 0.8538 - val_loss: 0.5453 - val_accuracy: 0.8418\n",
            "Epoch 11/25\n",
            "2500/2500 [==============================] - 6s 2ms/step - loss: 0.4840 - accuracy: 0.8561 - val_loss: 0.5360 - val_accuracy: 0.8447\n",
            "Epoch 12/25\n",
            "2500/2500 [==============================] - 6s 2ms/step - loss: 0.4760 - accuracy: 0.8591 - val_loss: 0.5384 - val_accuracy: 0.8439\n",
            "Epoch 13/25\n",
            "2500/2500 [==============================] - 6s 2ms/step - loss: 0.4698 - accuracy: 0.8612 - val_loss: 0.5366 - val_accuracy: 0.8444\n",
            "Epoch 14/25\n",
            "2500/2500 [==============================] - 6s 2ms/step - loss: 0.4635 - accuracy: 0.8625 - val_loss: 0.5347 - val_accuracy: 0.8453\n",
            "Epoch 15/25\n",
            "2500/2500 [==============================] - 6s 2ms/step - loss: 0.4572 - accuracy: 0.8648 - val_loss: 0.5378 - val_accuracy: 0.8446\n",
            "Epoch 16/25\n",
            "2500/2500 [==============================] - 6s 2ms/step - loss: 0.4518 - accuracy: 0.8660 - val_loss: 0.5296 - val_accuracy: 0.8474\n",
            "Epoch 17/25\n",
            "2500/2500 [==============================] - 6s 2ms/step - loss: 0.4472 - accuracy: 0.8676 - val_loss: 0.5261 - val_accuracy: 0.8490\n",
            "Epoch 18/25\n",
            "2500/2500 [==============================] - 6s 2ms/step - loss: 0.4422 - accuracy: 0.8691 - val_loss: 0.5330 - val_accuracy: 0.8456\n",
            "Epoch 19/25\n",
            "2500/2500 [==============================] - 6s 2ms/step - loss: 0.4378 - accuracy: 0.8698 - val_loss: 0.5333 - val_accuracy: 0.8456\n",
            "Epoch 20/25\n",
            "2500/2500 [==============================] - 6s 2ms/step - loss: 0.4336 - accuracy: 0.8711 - val_loss: 0.5319 - val_accuracy: 0.8469\n",
            "Epoch 21/25\n",
            "2500/2500 [==============================] - 6s 2ms/step - loss: 0.4301 - accuracy: 0.8725 - val_loss: 0.5304 - val_accuracy: 0.8472\n",
            "Epoch 22/25\n",
            "2500/2500 [==============================] - 6s 2ms/step - loss: 0.4274 - accuracy: 0.8726 - val_loss: 0.5282 - val_accuracy: 0.8490\n",
            "Epoch 23/25\n",
            "2500/2500 [==============================] - 6s 2ms/step - loss: 0.4231 - accuracy: 0.8741 - val_loss: 0.5298 - val_accuracy: 0.8494\n",
            "Epoch 24/25\n",
            "2500/2500 [==============================] - 6s 2ms/step - loss: 0.4197 - accuracy: 0.8753 - val_loss: 0.5303 - val_accuracy: 0.8464\n",
            "Epoch 25/25\n",
            "2500/2500 [==============================] - 6s 2ms/step - loss: 0.4169 - accuracy: 0.8759 - val_loss: 0.5226 - val_accuracy: 0.8505\n"
          ],
          "name": "stdout"
        }
      ]
    },
    {
      "cell_type": "code",
      "metadata": {
        "id": "6pbKo9cPhmSk",
        "colab_type": "code",
        "colab": {
          "base_uri": "https://localhost:8080/",
          "height": 887
        },
        "outputId": "6ff6d949-37eb-4c32-8ddf-f9cae04c5b28"
      },
      "source": [
        "opt_5 = create_model(optimize='adadelta').fit(X_train, y_train,\n",
        "                                epochs=25,\n",
        "                                validation_data=(X_test,y_test)\n",
        ")"
      ],
      "execution_count": 31,
      "outputs": [
        {
          "output_type": "stream",
          "text": [
            "Epoch 1/25\n",
            "2500/2500 [==============================] - 6s 2ms/step - loss: 2.3347 - accuracy: 0.1212 - val_loss: 2.3052 - val_accuracy: 0.1419\n",
            "Epoch 2/25\n",
            "2500/2500 [==============================] - 6s 2ms/step - loss: 2.2812 - accuracy: 0.1613 - val_loss: 2.2569 - val_accuracy: 0.1872\n",
            "Epoch 3/25\n",
            "2500/2500 [==============================] - 6s 2ms/step - loss: 2.2351 - accuracy: 0.2081 - val_loss: 2.2113 - val_accuracy: 0.2422\n",
            "Epoch 4/25\n",
            "2500/2500 [==============================] - 6s 2ms/step - loss: 2.1892 - accuracy: 0.2606 - val_loss: 2.1636 - val_accuracy: 0.2892\n",
            "Epoch 5/25\n",
            "2500/2500 [==============================] - 6s 2ms/step - loss: 2.1410 - accuracy: 0.3009 - val_loss: 2.1133 - val_accuracy: 0.3231\n",
            "Epoch 6/25\n",
            "2500/2500 [==============================] - 6s 2ms/step - loss: 2.0903 - accuracy: 0.3317 - val_loss: 2.0610 - val_accuracy: 0.3507\n",
            "Epoch 7/25\n",
            "2500/2500 [==============================] - 6s 2ms/step - loss: 2.0377 - accuracy: 0.3577 - val_loss: 2.0069 - val_accuracy: 0.3746\n",
            "Epoch 8/25\n",
            "2500/2500 [==============================] - 6s 2ms/step - loss: 1.9843 - accuracy: 0.3816 - val_loss: 1.9527 - val_accuracy: 0.3970\n",
            "Epoch 9/25\n",
            "2500/2500 [==============================] - 6s 2ms/step - loss: 1.9312 - accuracy: 0.4056 - val_loss: 1.8990 - val_accuracy: 0.4182\n",
            "Epoch 10/25\n",
            "2500/2500 [==============================] - 6s 2ms/step - loss: 1.8787 - accuracy: 0.4273 - val_loss: 1.8463 - val_accuracy: 0.4399\n",
            "Epoch 11/25\n",
            "2500/2500 [==============================] - 6s 2ms/step - loss: 1.8277 - accuracy: 0.4469 - val_loss: 1.7955 - val_accuracy: 0.4584\n",
            "Epoch 12/25\n",
            "2500/2500 [==============================] - 6s 2ms/step - loss: 1.7786 - accuracy: 0.4640 - val_loss: 1.7467 - val_accuracy: 0.4760\n",
            "Epoch 13/25\n",
            "2500/2500 [==============================] - 6s 2ms/step - loss: 1.7314 - accuracy: 0.4787 - val_loss: 1.7001 - val_accuracy: 0.4881\n",
            "Epoch 14/25\n",
            "2500/2500 [==============================] - 6s 2ms/step - loss: 1.6862 - accuracy: 0.4913 - val_loss: 1.6553 - val_accuracy: 0.4999\n",
            "Epoch 15/25\n",
            "2500/2500 [==============================] - 6s 2ms/step - loss: 1.6429 - accuracy: 0.5038 - val_loss: 1.6127 - val_accuracy: 0.5132\n",
            "Epoch 16/25\n",
            "2500/2500 [==============================] - 6s 2ms/step - loss: 1.6019 - accuracy: 0.5149 - val_loss: 1.5723 - val_accuracy: 0.5257\n",
            "Epoch 17/25\n",
            "2500/2500 [==============================] - 6s 2ms/step - loss: 1.5632 - accuracy: 0.5256 - val_loss: 1.5342 - val_accuracy: 0.5354\n",
            "Epoch 18/25\n",
            "2500/2500 [==============================] - 6s 2ms/step - loss: 1.5267 - accuracy: 0.5363 - val_loss: 1.4985 - val_accuracy: 0.5481\n",
            "Epoch 19/25\n",
            "2500/2500 [==============================] - 6s 2ms/step - loss: 1.4926 - accuracy: 0.5465 - val_loss: 1.4654 - val_accuracy: 0.5552\n",
            "Epoch 20/25\n",
            "2500/2500 [==============================] - 6s 2ms/step - loss: 1.4610 - accuracy: 0.5551 - val_loss: 1.4346 - val_accuracy: 0.5640\n",
            "Epoch 21/25\n",
            "2500/2500 [==============================] - 6s 2ms/step - loss: 1.4319 - accuracy: 0.5631 - val_loss: 1.4064 - val_accuracy: 0.5711\n",
            "Epoch 22/25\n",
            "2500/2500 [==============================] - 6s 2ms/step - loss: 1.4052 - accuracy: 0.5702 - val_loss: 1.3805 - val_accuracy: 0.5785\n",
            "Epoch 23/25\n",
            "2500/2500 [==============================] - 6s 2ms/step - loss: 1.3806 - accuracy: 0.5765 - val_loss: 1.3565 - val_accuracy: 0.5840\n",
            "Epoch 24/25\n",
            "2500/2500 [==============================] - 6s 2ms/step - loss: 1.3580 - accuracy: 0.5825 - val_loss: 1.3346 - val_accuracy: 0.5900\n",
            "Epoch 25/25\n",
            "2500/2500 [==============================] - 6s 2ms/step - loss: 1.3371 - accuracy: 0.5885 - val_loss: 1.3143 - val_accuracy: 0.5950\n"
          ],
          "name": "stdout"
        }
      ]
    },
    {
      "cell_type": "code",
      "metadata": {
        "id": "Lb4fg_kjhmQM",
        "colab_type": "code",
        "colab": {
          "base_uri": "https://localhost:8080/",
          "height": 204
        },
        "outputId": "5453233e-cf18-4a6d-c69b-81e062d8f09f"
      },
      "source": [
        "batch_sizes = []\n",
        "\n",
        "for exp, result in zip([opt_1, opt_2, opt_3, opt_4, opt_5], [\"opt_1_\", \"opt_2_\", \"opt_3_\", \"opt_4_\", \"opt_5_\"]):\n",
        "\n",
        "  df = pd.DataFrame.from_dict(exp.history)\n",
        "  df['epoch'] = df.index.values\n",
        "  df['Learning Rate'] = result\n",
        "\n",
        "  batch_sizes.append(df)\n",
        "\n",
        "df = pd.concat(batch_sizes)\n",
        "df['Learning Rate'] = df['Learning Rate'].astype('str')\n",
        "df.head()"
      ],
      "execution_count": 32,
      "outputs": [
        {
          "output_type": "execute_result",
          "data": {
            "text/html": [
              "<div>\n",
              "<style scoped>\n",
              "    .dataframe tbody tr th:only-of-type {\n",
              "        vertical-align: middle;\n",
              "    }\n",
              "\n",
              "    .dataframe tbody tr th {\n",
              "        vertical-align: top;\n",
              "    }\n",
              "\n",
              "    .dataframe thead th {\n",
              "        text-align: right;\n",
              "    }\n",
              "</style>\n",
              "<table border=\"1\" class=\"dataframe\">\n",
              "  <thead>\n",
              "    <tr style=\"text-align: right;\">\n",
              "      <th></th>\n",
              "      <th>loss</th>\n",
              "      <th>accuracy</th>\n",
              "      <th>val_loss</th>\n",
              "      <th>val_accuracy</th>\n",
              "      <th>epoch</th>\n",
              "      <th>Learning Rate</th>\n",
              "    </tr>\n",
              "  </thead>\n",
              "  <tbody>\n",
              "    <tr>\n",
              "      <th>0</th>\n",
              "      <td>0.784316</td>\n",
              "      <td>0.764650</td>\n",
              "      <td>0.651344</td>\n",
              "      <td>0.80560</td>\n",
              "      <td>0</td>\n",
              "      <td>opt_1_</td>\n",
              "    </tr>\n",
              "    <tr>\n",
              "      <th>1</th>\n",
              "      <td>0.583980</td>\n",
              "      <td>0.825275</td>\n",
              "      <td>0.568824</td>\n",
              "      <td>0.83285</td>\n",
              "      <td>1</td>\n",
              "      <td>opt_1_</td>\n",
              "    </tr>\n",
              "    <tr>\n",
              "      <th>2</th>\n",
              "      <td>0.536558</td>\n",
              "      <td>0.838888</td>\n",
              "      <td>0.557436</td>\n",
              "      <td>0.83555</td>\n",
              "      <td>2</td>\n",
              "      <td>opt_1_</td>\n",
              "    </tr>\n",
              "    <tr>\n",
              "      <th>3</th>\n",
              "      <td>0.505894</td>\n",
              "      <td>0.847475</td>\n",
              "      <td>0.545529</td>\n",
              "      <td>0.84030</td>\n",
              "      <td>3</td>\n",
              "      <td>opt_1_</td>\n",
              "    </tr>\n",
              "    <tr>\n",
              "      <th>4</th>\n",
              "      <td>0.485154</td>\n",
              "      <td>0.853737</td>\n",
              "      <td>0.532894</td>\n",
              "      <td>0.84630</td>\n",
              "      <td>4</td>\n",
              "      <td>opt_1_</td>\n",
              "    </tr>\n",
              "  </tbody>\n",
              "</table>\n",
              "</div>"
            ],
            "text/plain": [
              "       loss  accuracy  val_loss  val_accuracy  epoch Learning Rate\n",
              "0  0.784316  0.764650  0.651344       0.80560      0        opt_1_\n",
              "1  0.583980  0.825275  0.568824       0.83285      1        opt_1_\n",
              "2  0.536558  0.838888  0.557436       0.83555      2        opt_1_\n",
              "3  0.505894  0.847475  0.545529       0.84030      3        opt_1_\n",
              "4  0.485154  0.853737  0.532894       0.84630      4        opt_1_"
            ]
          },
          "metadata": {
            "tags": []
          },
          "execution_count": 32
        }
      ]
    },
    {
      "cell_type": "code",
      "metadata": {
        "id": "U-uBlFElA4VV",
        "colab_type": "code",
        "colab": {
          "base_uri": "https://localhost:8080/",
          "height": 204
        },
        "outputId": "7d0f41e9-2ee2-4c2a-9bea-f62ea75dbf4d"
      },
      "source": [
        " batch_sizes = []\n",
        "\n",
        "for exp, result in zip([opt_1, opt_2, opt_3, opt_4, opt_5], [\"opt_1_\", \"opt_2_\", \"opt_3_\", \"opt_4_\", \"opt_5_\"]):\n",
        " \n",
        "  df = pd.DataFrame.from_dict(exp.history)\n",
        "  df['epoch'] = df.index.values\n",
        "  df['Batch Size'] = result\n",
        "\n",
        "  batch_sizes.append(df)\n",
        "\n",
        "df = pd.concat(batch_sizes)\n",
        "df['Batch Size'] = df['Batch Size'].astype('str')\n",
        "df.head()"
      ],
      "execution_count": 35,
      "outputs": [
        {
          "output_type": "execute_result",
          "data": {
            "text/html": [
              "<div>\n",
              "<style scoped>\n",
              "    .dataframe tbody tr th:only-of-type {\n",
              "        vertical-align: middle;\n",
              "    }\n",
              "\n",
              "    .dataframe tbody tr th {\n",
              "        vertical-align: top;\n",
              "    }\n",
              "\n",
              "    .dataframe thead th {\n",
              "        text-align: right;\n",
              "    }\n",
              "</style>\n",
              "<table border=\"1\" class=\"dataframe\">\n",
              "  <thead>\n",
              "    <tr style=\"text-align: right;\">\n",
              "      <th></th>\n",
              "      <th>loss</th>\n",
              "      <th>accuracy</th>\n",
              "      <th>val_loss</th>\n",
              "      <th>val_accuracy</th>\n",
              "      <th>epoch</th>\n",
              "      <th>Batch Size</th>\n",
              "    </tr>\n",
              "  </thead>\n",
              "  <tbody>\n",
              "    <tr>\n",
              "      <th>0</th>\n",
              "      <td>0.784316</td>\n",
              "      <td>0.764650</td>\n",
              "      <td>0.651344</td>\n",
              "      <td>0.80560</td>\n",
              "      <td>0</td>\n",
              "      <td>opt_1_</td>\n",
              "    </tr>\n",
              "    <tr>\n",
              "      <th>1</th>\n",
              "      <td>0.583980</td>\n",
              "      <td>0.825275</td>\n",
              "      <td>0.568824</td>\n",
              "      <td>0.83285</td>\n",
              "      <td>1</td>\n",
              "      <td>opt_1_</td>\n",
              "    </tr>\n",
              "    <tr>\n",
              "      <th>2</th>\n",
              "      <td>0.536558</td>\n",
              "      <td>0.838888</td>\n",
              "      <td>0.557436</td>\n",
              "      <td>0.83555</td>\n",
              "      <td>2</td>\n",
              "      <td>opt_1_</td>\n",
              "    </tr>\n",
              "    <tr>\n",
              "      <th>3</th>\n",
              "      <td>0.505894</td>\n",
              "      <td>0.847475</td>\n",
              "      <td>0.545529</td>\n",
              "      <td>0.84030</td>\n",
              "      <td>3</td>\n",
              "      <td>opt_1_</td>\n",
              "    </tr>\n",
              "    <tr>\n",
              "      <th>4</th>\n",
              "      <td>0.485154</td>\n",
              "      <td>0.853737</td>\n",
              "      <td>0.532894</td>\n",
              "      <td>0.84630</td>\n",
              "      <td>4</td>\n",
              "      <td>opt_1_</td>\n",
              "    </tr>\n",
              "  </tbody>\n",
              "</table>\n",
              "</div>"
            ],
            "text/plain": [
              "       loss  accuracy  val_loss  val_accuracy  epoch Batch Size\n",
              "0  0.784316  0.764650  0.651344       0.80560      0     opt_1_\n",
              "1  0.583980  0.825275  0.568824       0.83285      1     opt_1_\n",
              "2  0.536558  0.838888  0.557436       0.83555      2     opt_1_\n",
              "3  0.505894  0.847475  0.545529       0.84030      3     opt_1_\n",
              "4  0.485154  0.853737  0.532894       0.84630      4     opt_1_"
            ]
          },
          "metadata": {
            "tags": []
          },
          "execution_count": 35
        }
      ]
    },
    {
      "cell_type": "code",
      "metadata": {
        "id": "HkDQ0L4smqaR",
        "colab_type": "code",
        "colab": {
          "base_uri": "https://localhost:8080/",
          "height": 279
        },
        "outputId": "e7bcd98a-9ed5-4849-f8c4-7dca29b9ad9a"
      },
      "source": [
        "sns.lineplot(x='epoch', y='val_accuracy', hue='Learning Rate', data=df);"
      ],
      "execution_count": 33,
      "outputs": [
        {
          "output_type": "display_data",
          "data": {
            "image/png": "[encoded data removed]",
            "text/plain": [
              "<Figure size 432x288 with 1 Axes>"
            ]
          },
          "metadata": {
            "tags": [],
            "needs_background": "light"
          }
        }
      ]
    },
    {
      "cell_type": "code",
      "metadata": {
        "id": "WVYxl2Kkmqdz",
        "colab_type": "code",
        "colab": {
          "base_uri": "https://localhost:8080/",
          "height": 279
        },
        "outputId": "b1103c88-3382-40f2-ecce-d17e8970f77a"
      },
      "source": [
        "sns.lineplot(x='epoch', y='val_loss', hue='Learning Rate', data=df);"
      ],
      "execution_count": 34,
      "outputs": [
        {
          "output_type": "display_data",
          "data": {
            "image/png": "[encoded data removed]",
            "text/plain": [
              "<Figure size 432x288 with 1 Axes>"
            ]
          },
          "metadata": {
            "tags": [],
            "needs_background": "light"
          }
        }
      ]
    },
    {
      "cell_type": "code",
      "metadata": {
        "id": "TlcBBZHtBK7T",
        "colab_type": "code",
        "colab": {
          "base_uri": "https://localhost:8080/",
          "height": 279
        },
        "outputId": "1576e41e-8052-425f-e636-b5e1c79c32ba"
      },
      "source": [
        "sns.lineplot(x='epoch', y='val_accuracy', hue='Batch Size', data=df);"
      ],
      "execution_count": 36,
      "outputs": [
        {
          "output_type": "display_data",
          "data": {
            "image/png": "[encoded data removed]",
            "text/plain": [
              "<Figure size 432x288 with 1 Axes>"
            ]
          },
          "metadata": {
            "tags": [],
            "needs_background": "light"
          }
        }
      ]
    },
    {
      "cell_type": "code",
      "metadata": {
        "id": "GssvT98SBK4r",
        "colab_type": "code",
        "colab": {
          "base_uri": "https://localhost:8080/",
          "height": 279
        },
        "outputId": "42d8ab3c-760e-407a-968b-ebcb6a89a1ca"
      },
      "source": [
        "sns.lineplot(x='epoch', y='val_loss', hue='Batch Size', data=df);"
      ],
      "execution_count": 37,
      "outputs": [
        {
          "output_type": "display_data",
          "data": {
            "image/png": "[encoded data removed]",
            "text/plain": [
              "<Figure size 432x288 with 1 Axes>"
            ]
          },
          "metadata": {
            "tags": [],
            "needs_background": "light"
          }
        }
      ]
    },
    {
      "cell_type": "markdown",
      "metadata": {
        "id": "ydAqeY9S8uHA",
        "colab_type": "text"
      },
      "source": [
        "### Additional Written Tasks\n",
        "\n",
        "1. Describe the process of backpropagation in your own words: \n",
        "```\n",
        "BackPropagation is a way of calculating the loss of the model from the true values but it's also based on each individual weights giving a more acurate reading and making so that it gradually improves the loss at each iteration.\n",
        "```\n",
        "\n"
      ]
    },
    {
      "cell_type": "markdown",
      "metadata": {
        "colab_type": "text",
        "id": "FwlRJSfBlCvy"
      },
      "source": [
        "## Stretch Goals: \n",
        "\n",
        "- Implement GridSearch on anyone of the experiments\n",
        "- On the learning rate experiments, implement [EarlyStopping](https://www.tensorflow.org/api_docs/python/tf/keras/callbacks/EarlyStopping)\n",
        "- Review material on the math behind gradient descent: \n",
        "\n",
        "  - Gradient Descent\n",
        "    - Gradient Descent, Step-by-Step  by StatQuest w/ Josh Starmer. This will help you understand the gradient descent based optimization that happens underneath the hood of neural networks. It uses a non-neural network example, which I believe is a gentler introduction. You will hear me refer to this technique as \"vanilla\" gradient descent. \n",
        "    - Stochastic Gradient Descent, Clearly Explained!!! by StatQuest w/ Josh Starmer. This builds on the techniques in the previous video.  This technique is the one that is actually implemented inside modern 'nets. \n",
        "These are great resources to help you understand tomorrow's material at a deeper level. I highly recommend watching these ahead of tomorrow.\n",
        "\n",
        "  - Background Math\n",
        "    - Dot products and duality by 3Blue1Brown. Explains the core linear algebra operation happening in today's perceptron.\n",
        "The paradox of the derivative by 3Blue1Brown. Does a great job explaining a derivative. \n",
        "    - Visualizing the chain rule and product rule by 3Blue1Brown. Explains the black magic that happens within Stochastic Gradient Descent. \n",
        "These math resources are very much optional. They can be very heady, but I encourage you to explore. Your understanding of neural networks will greatly increase if you understand this math background.\n",
        "\n",
        "\n"
      ]
    }
  ]
}