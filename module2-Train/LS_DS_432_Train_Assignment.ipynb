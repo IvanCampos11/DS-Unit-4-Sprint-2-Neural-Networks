{
  "nbformat": 4,
  "nbformat_minor": 0,
  "metadata": {
    "colab": {
      "name": "LS_DS_432_Train_Assignment.ipynb",
      "provenance": [],
      "collapsed_sections": [],
      "include_colab_link": true
    },
    "kernelspec": {
      "display_name": "Python 3",
      "language": "python",
      "name": "python3"
    },
    "language_info": {
      "codemirror_mode": {
        "name": "ipython",
        "version": 3
      },
      "file_extension": ".py",
      "mimetype": "text/x-python",
      "name": "python",
      "nbconvert_exporter": "python",
      "pygments_lexer": "ipython3",
      "version": "3.7.3"
    },
    "nteract": {
      "version": "0.22.4"
    },
    "accelerator": "GPU"
  },
  "cells": [
    {
      "cell_type": "markdown",
      "metadata": {
        "id": "view-in-github",
        "colab_type": "text"
      },
      "source": [
        "<a href=\"https://colab.research.google.com/github/IvanCampos11/DS-Unit-4-Sprint-2-Neural-Networks/blob/main/module2-Train/LS_DS_432_Train_Assignment.ipynb\" target=\"_parent\"><img src=\"https://colab.research.google.com/assets/colab-badge.svg\" alt=\"Open In Colab\"/></a>"
      ]
    },
    {
      "cell_type": "markdown",
      "metadata": {
        "colab_type": "text",
        "id": "NGGrt9EYlCqY"
      },
      "source": [
        "<img align=\"left\" src=\"https://lever-client-logos.s3.amazonaws.com/864372b1-534c-480e-acd5-9711f850815c-1524247202159.png\" width=200>\n",
        "<br></br>\n",
        "<br></br>\n",
        "\n",
        "# Train Practice\n",
        "\n",
        "## *Data Science Unit 4 Sprint 2 Assignment 2*\n",
        "\n",
        "Continue to use TensorFlow Keras & a sample of the [Quickdraw dataset](https://github.com/googlecreativelab/quickdraw-dataset) to build a sketch classification model. The dataset has been sampled to only 10 classes and 10000 observations per class. Please build a baseline classification model then run a few experiments with different optimizers and learning rates. \n",
        "\n",
        "*Don't forgot to switch to GPU on Colab!*"
      ]
    },
    {
      "cell_type": "markdown",
      "metadata": {
        "id": "ptJ2b3wk62Ud",
        "colab_type": "text"
      },
      "source": [
        "### Write a function to load your data\n",
        "\n",
        "Wrap yesterday's preprocessing steps into a function that returns four items:\n",
        "* X_train\n",
        "* y_train\n",
        "* X_test\n",
        "* y_test\n",
        "\n",
        "Your function should accept a `path` to the data as a argument."
      ]
    },
    {
      "cell_type": "code",
      "metadata": {
        "id": "-WE5AvkiwXq5",
        "colab_type": "code",
        "colab": {}
      },
      "source": [
        "from sklearn.model_selection import train_test_split\n",
        "import pandas as pd\n",
        "import numpy as np\n",
        "from sklearn.utils import shuffle"
      ],
      "execution_count": 10,
      "outputs": []
    },
    {
      "cell_type": "code",
      "metadata": {
        "id": "nJsIsrvp7O3e",
        "colab_type": "code",
        "colab": {}
      },
      "source": [
        "def load_quickdraw10(path):\n",
        "  data = np.load(path)\n",
        "  X = data['arr_0']\n",
        "  y = data['arr_1']\n",
        "  X, y = shuffle(X, y)\n",
        "\n",
        "\n",
        "  X_train, X_test, y_train, y_test = train_test_split(X, y, test_size= 0.2)\n",
        "\n",
        "  return X_train, y_train, X_test, y_test"
      ],
      "execution_count": 11,
      "outputs": []
    },
    {
      "cell_type": "code",
      "metadata": {
        "id": "X96C_38Fyzip",
        "colab_type": "code",
        "colab": {}
      },
      "source": [
        "X_train, y_train, X_test, y_test = load_quickdraw10('quickdraw10.npz')"
      ],
      "execution_count": 12,
      "outputs": []
    },
    {
      "cell_type": "markdown",
      "metadata": {
        "id": "l-6PxI6H5__2",
        "colab_type": "text"
      },
      "source": [
        "### Write a Model Function\n",
        "Using your model from yesterday, write a function called `create_model` which returns a compiled TensorFlow Keras Sequential Model suitable for classifying the QuickDraw-10 dataset. Include parameters for the following: \n",
        "* Learning Rate\n",
        "* Optimizer"
      ]
    },
    {
      "cell_type": "code",
      "metadata": {
        "id": "SJu5uN90ykT9",
        "colab_type": "code",
        "colab": {}
      },
      "source": [
        "from tensorflow.keras import Sequential\n",
        "from tensorflow.keras.layers import Dense\n",
        "from tensorflow.keras.optimizers import SGD"
      ],
      "execution_count": 13,
      "outputs": []
    },
    {
      "cell_type": "code",
      "metadata": {
        "colab_type": "code",
        "id": "nEREYT-3wI1f",
        "colab": {}
      },
      "source": [
        "##### Your Code Here #####\n",
        "\n",
        "def create_model(lr=.01):\n",
        "  opt = SGD(learning_rate=lr)\n",
        "\n",
        "  model = Sequential(\n",
        "      [\n",
        "       Dense(32, activation='relu', input_dim=784),\n",
        "       Dense(32, activation='relu'),\n",
        "       Dense(10, activation='softmax')       \n",
        "      ]\n",
        ")\n",
        "  model.compile(optimizer=opt, loss='sparse_categorical_crossentropy',\n",
        "                metrics=['accuracy'])\n",
        "  return model"
      ],
      "execution_count": 14,
      "outputs": []
    },
    {
      "cell_type": "code",
      "metadata": {
        "id": "JGeSPSMJ1BvD",
        "colab_type": "code",
        "colab": {}
      },
      "source": [
        "quickdraw_model = create_model()"
      ],
      "execution_count": 15,
      "outputs": []
    },
    {
      "cell_type": "code",
      "metadata": {
        "id": "e0B4BB3_1mCe",
        "colab_type": "code",
        "colab": {
          "base_uri": "https://localhost:8080/",
          "height": 255
        },
        "outputId": "29388fa0-144f-4cb0-f7ec-0d0b8d473633"
      },
      "source": [
        "quickdraw_model.summary()"
      ],
      "execution_count": 16,
      "outputs": [
        {
          "output_type": "stream",
          "text": [
            "Model: \"sequential_4\"\n",
            "_________________________________________________________________\n",
            "Layer (type)                 Output Shape              Param #   \n",
            "=================================================================\n",
            "dense_12 (Dense)             (None, 32)                25120     \n",
            "_________________________________________________________________\n",
            "dense_13 (Dense)             (None, 32)                1056      \n",
            "_________________________________________________________________\n",
            "dense_14 (Dense)             (None, 10)                330       \n",
            "=================================================================\n",
            "Total params: 26,506\n",
            "Trainable params: 26,506\n",
            "Non-trainable params: 0\n",
            "_________________________________________________________________\n"
          ],
          "name": "stdout"
        }
      ]
    },
    {
      "cell_type": "markdown",
      "metadata": {
        "id": "f0pCkh8C7eGL",
        "colab_type": "text"
      },
      "source": [
        "### Experiment with Batch Size\n",
        "* Run 5 experiments with various batch sizes of your choice. \n",
        "* Visualize the results\n",
        "* Write up an analysis of the experiments and select the \"best\" performing model among your experiments. Make sure to compare against your model's performance yesterday. "
      ]
    },
    {
      "cell_type": "code",
      "metadata": {
        "id": "USXjs7Hk71Hy",
        "colab_type": "code",
        "colab": {
          "base_uri": "https://localhost:8080/",
          "height": 867
        },
        "outputId": "10c74c1f-5a99-4155-f491-f1c3c38ec3ba"
      },
      "source": [
        "quickdraw_model_32 = create_model()\n",
        "\n",
        "bt_default = quickdraw_model_32.fit(X_train, y_train,\n",
        "                                epochs=25,\n",
        "                                batch_size=32,\n",
        "                                validation_data=(X_test, y_test))"
      ],
      "execution_count": 17,
      "outputs": [
        {
          "output_type": "stream",
          "text": [
            "Epoch 1/25\n",
            "2500/2500 [==============================] - 5s 2ms/step - loss: 28.9007 - accuracy: 0.0988 - val_loss: 2.3332 - val_accuracy: 0.1000\n",
            "Epoch 2/25\n",
            "2500/2500 [==============================] - 5s 2ms/step - loss: 2.3146 - accuracy: 0.1007 - val_loss: 2.3222 - val_accuracy: 0.0966\n",
            "Epoch 3/25\n",
            "2500/2500 [==============================] - 5s 2ms/step - loss: 2.3026 - accuracy: 0.0984 - val_loss: 2.3221 - val_accuracy: 0.0985\n",
            "Epoch 4/25\n",
            "2500/2500 [==============================] - 5s 2ms/step - loss: 2.3026 - accuracy: 0.0997 - val_loss: 2.3221 - val_accuracy: 0.0966\n",
            "Epoch 5/25\n",
            "2500/2500 [==============================] - 5s 2ms/step - loss: 2.3026 - accuracy: 0.0995 - val_loss: 2.3220 - val_accuracy: 0.0985\n",
            "Epoch 6/25\n",
            "2500/2500 [==============================] - 5s 2ms/step - loss: 2.3026 - accuracy: 0.0991 - val_loss: 2.3220 - val_accuracy: 0.1009\n",
            "Epoch 7/25\n",
            "2500/2500 [==============================] - 6s 2ms/step - loss: 2.3026 - accuracy: 0.0987 - val_loss: 2.3221 - val_accuracy: 0.0984\n",
            "Epoch 8/25\n",
            "2500/2500 [==============================] - 5s 2ms/step - loss: 2.3026 - accuracy: 0.0994 - val_loss: 2.3221 - val_accuracy: 0.0984\n",
            "Epoch 9/25\n",
            "2500/2500 [==============================] - 5s 2ms/step - loss: 2.3026 - accuracy: 0.0984 - val_loss: 2.3220 - val_accuracy: 0.0966\n",
            "Epoch 10/25\n",
            "2500/2500 [==============================] - 5s 2ms/step - loss: 2.3026 - accuracy: 0.0997 - val_loss: 2.3220 - val_accuracy: 0.0983\n",
            "Epoch 11/25\n",
            "2500/2500 [==============================] - 5s 2ms/step - loss: 2.3026 - accuracy: 0.0994 - val_loss: 2.3222 - val_accuracy: 0.0985\n",
            "Epoch 12/25\n",
            "2500/2500 [==============================] - 5s 2ms/step - loss: 2.3026 - accuracy: 0.0988 - val_loss: 2.3221 - val_accuracy: 0.0966\n",
            "Epoch 13/25\n",
            "2500/2500 [==============================] - 5s 2ms/step - loss: 2.3026 - accuracy: 0.1001 - val_loss: 2.3222 - val_accuracy: 0.0985\n",
            "Epoch 14/25\n",
            "2500/2500 [==============================] - 5s 2ms/step - loss: 2.3026 - accuracy: 0.0990 - val_loss: 2.3220 - val_accuracy: 0.0983\n",
            "Epoch 15/25\n",
            "2500/2500 [==============================] - 5s 2ms/step - loss: 2.3026 - accuracy: 0.0986 - val_loss: 2.3221 - val_accuracy: 0.0984\n",
            "Epoch 16/25\n",
            "2500/2500 [==============================] - 5s 2ms/step - loss: 2.3026 - accuracy: 0.0993 - val_loss: 2.3220 - val_accuracy: 0.0985\n",
            "Epoch 17/25\n",
            "2500/2500 [==============================] - 5s 2ms/step - loss: 2.3026 - accuracy: 0.0993 - val_loss: 2.3220 - val_accuracy: 0.0983\n",
            "Epoch 18/25\n",
            "2500/2500 [==============================] - 5s 2ms/step - loss: 2.3026 - accuracy: 0.0991 - val_loss: 2.3220 - val_accuracy: 0.1009\n",
            "Epoch 19/25\n",
            "2500/2500 [==============================] - 5s 2ms/step - loss: 2.3026 - accuracy: 0.1002 - val_loss: 2.3221 - val_accuracy: 0.0984\n",
            "Epoch 20/25\n",
            "2500/2500 [==============================] - 5s 2ms/step - loss: 2.3026 - accuracy: 0.1001 - val_loss: 2.3221 - val_accuracy: 0.0966\n",
            "Epoch 21/25\n",
            "2500/2500 [==============================] - 5s 2ms/step - loss: 2.3026 - accuracy: 0.0987 - val_loss: 2.3221 - val_accuracy: 0.0966\n",
            "Epoch 22/25\n",
            "2500/2500 [==============================] - 5s 2ms/step - loss: 2.3026 - accuracy: 0.0989 - val_loss: 2.3220 - val_accuracy: 0.0985\n",
            "Epoch 23/25\n",
            "2500/2500 [==============================] - 5s 2ms/step - loss: 2.3026 - accuracy: 0.0989 - val_loss: 2.3219 - val_accuracy: 0.1000\n",
            "Epoch 24/25\n",
            "2500/2500 [==============================] - 5s 2ms/step - loss: 2.3026 - accuracy: 0.0983 - val_loss: 2.3220 - val_accuracy: 0.0966\n",
            "Epoch 25/25\n",
            "2500/2500 [==============================] - 5s 2ms/step - loss: 2.3026 - accuracy: 0.0986 - val_loss: 2.3221 - val_accuracy: 0.1000\n"
          ],
          "name": "stdout"
        }
      ]
    },
    {
      "cell_type": "code",
      "metadata": {
        "id": "y681NdgB2_QH",
        "colab_type": "code",
        "colab": {
          "base_uri": "https://localhost:8080/",
          "height": 867
        },
        "outputId": "9a611548-0ea4-437f-bbc0-fc17ae5f770d"
      },
      "source": [
        "quickdraw_model_8 = create_model()\n",
        "\n",
        "bt_8 = quickdraw_model_8.fit(X_train, y_train,\n",
        "                                epochs=25,\n",
        "                                batch_size=8,\n",
        "                                validation_data=(X_test, y_test))"
      ],
      "execution_count": 23,
      "outputs": [
        {
          "output_type": "stream",
          "text": [
            "Epoch 1/25\n",
            "10000/10000 [==============================] - 20s 2ms/step - loss: 12.9347 - accuracy: 0.0979 - val_loss: 2.3265 - val_accuracy: 0.1001\n",
            "Epoch 2/25\n",
            "10000/10000 [==============================] - 21s 2ms/step - loss: 2.6564 - accuracy: 0.0987 - val_loss: 2.3269 - val_accuracy: 0.0983\n",
            "Epoch 3/25\n",
            "10000/10000 [==============================] - 22s 2ms/step - loss: 2.3029 - accuracy: 0.0996 - val_loss: 2.3266 - val_accuracy: 0.0966\n",
            "Epoch 4/25\n",
            "10000/10000 [==============================] - 20s 2ms/step - loss: 2.3029 - accuracy: 0.1002 - val_loss: 2.3267 - val_accuracy: 0.0984\n",
            "Epoch 5/25\n",
            "10000/10000 [==============================] - 20s 2ms/step - loss: 2.3028 - accuracy: 0.1011 - val_loss: 2.3265 - val_accuracy: 0.1000\n",
            "Epoch 6/25\n",
            "10000/10000 [==============================] - 21s 2ms/step - loss: 2.3029 - accuracy: 0.0988 - val_loss: 2.3265 - val_accuracy: 0.0984\n",
            "Epoch 7/25\n",
            "10000/10000 [==============================] - 20s 2ms/step - loss: 2.3028 - accuracy: 0.1011 - val_loss: 2.3266 - val_accuracy: 0.1008\n",
            "Epoch 8/25\n",
            "10000/10000 [==============================] - 20s 2ms/step - loss: 2.3029 - accuracy: 0.1001 - val_loss: 2.3267 - val_accuracy: 0.0983\n",
            "Epoch 9/25\n",
            "10000/10000 [==============================] - 20s 2ms/step - loss: 2.3029 - accuracy: 0.1000 - val_loss: 2.3266 - val_accuracy: 0.1000\n",
            "Epoch 10/25\n",
            "10000/10000 [==============================] - 21s 2ms/step - loss: 2.3029 - accuracy: 0.0988 - val_loss: 2.3263 - val_accuracy: 0.1015\n",
            "Epoch 11/25\n",
            "10000/10000 [==============================] - 20s 2ms/step - loss: 2.3029 - accuracy: 0.0992 - val_loss: 2.3270 - val_accuracy: 0.0966\n",
            "Epoch 12/25\n",
            "10000/10000 [==============================] - 21s 2ms/step - loss: 2.3029 - accuracy: 0.1003 - val_loss: 2.3266 - val_accuracy: 0.1008\n",
            "Epoch 13/25\n",
            "10000/10000 [==============================] - 21s 2ms/step - loss: 2.3029 - accuracy: 0.0987 - val_loss: 2.3263 - val_accuracy: 0.1001\n",
            "Epoch 14/25\n",
            "10000/10000 [==============================] - 20s 2ms/step - loss: 2.3028 - accuracy: 0.0980 - val_loss: 2.3264 - val_accuracy: 0.1000\n",
            "Epoch 15/25\n",
            "10000/10000 [==============================] - 20s 2ms/step - loss: 2.3029 - accuracy: 0.1002 - val_loss: 2.3266 - val_accuracy: 0.0984\n",
            "Epoch 16/25\n",
            "10000/10000 [==============================] - 20s 2ms/step - loss: 2.3029 - accuracy: 0.1004 - val_loss: 2.3263 - val_accuracy: 0.1008\n",
            "Epoch 17/25\n",
            "10000/10000 [==============================] - 20s 2ms/step - loss: 2.3029 - accuracy: 0.1003 - val_loss: 2.3266 - val_accuracy: 0.0966\n",
            "Epoch 18/25\n",
            "10000/10000 [==============================] - 22s 2ms/step - loss: 2.3029 - accuracy: 0.0987 - val_loss: 2.3264 - val_accuracy: 0.1015\n",
            "Epoch 19/25\n",
            "10000/10000 [==============================] - 20s 2ms/step - loss: 2.3029 - accuracy: 0.0983 - val_loss: 2.3266 - val_accuracy: 0.0983\n",
            "Epoch 20/25\n",
            "10000/10000 [==============================] - 21s 2ms/step - loss: 2.3029 - accuracy: 0.0989 - val_loss: 2.3266 - val_accuracy: 0.0966\n",
            "Epoch 21/25\n",
            "10000/10000 [==============================] - 21s 2ms/step - loss: 2.3029 - accuracy: 0.1006 - val_loss: 2.3265 - val_accuracy: 0.0984\n",
            "Epoch 22/25\n",
            "10000/10000 [==============================] - 21s 2ms/step - loss: 2.3029 - accuracy: 0.1001 - val_loss: 2.3267 - val_accuracy: 0.0984\n",
            "Epoch 23/25\n",
            "10000/10000 [==============================] - 20s 2ms/step - loss: 2.3028 - accuracy: 0.1020 - val_loss: 2.3263 - val_accuracy: 0.1001\n",
            "Epoch 24/25\n",
            "10000/10000 [==============================] - 20s 2ms/step - loss: 2.3029 - accuracy: 0.0981 - val_loss: 2.3268 - val_accuracy: 0.0966\n",
            "Epoch 25/25\n",
            "10000/10000 [==============================] - 20s 2ms/step - loss: 2.3028 - accuracy: 0.1003 - val_loss: 2.3266 - val_accuracy: 0.1015\n"
          ],
          "name": "stdout"
        }
      ]
    },
    {
      "cell_type": "code",
      "metadata": {
        "id": "UIcYnOyH2_zv",
        "colab_type": "code",
        "colab": {
          "base_uri": "https://localhost:8080/",
          "height": 867
        },
        "outputId": "6be64c1a-af8e-4a87-b8cb-9f4d27e3ae27"
      },
      "source": [
        "quickdraw_model_16 = create_model()\n",
        "\n",
        "bt_16 = quickdraw_model_16.fit(X_train, y_train,\n",
        "                                epochs=25,\n",
        "                                batch_size=16,\n",
        "                                validation_data=(X_test, y_test))"
      ],
      "execution_count": 24,
      "outputs": [
        {
          "output_type": "stream",
          "text": [
            "Epoch 1/25\n",
            "5000/5000 [==============================] - 11s 2ms/step - loss: 3.0887 - accuracy: 0.0975 - val_loss: 2.3065 - val_accuracy: 0.0983\n",
            "Epoch 2/25\n",
            "5000/5000 [==============================] - 10s 2ms/step - loss: 2.3042 - accuracy: 0.0994 - val_loss: 2.3053 - val_accuracy: 0.0984\n",
            "Epoch 3/25\n",
            "5000/5000 [==============================] - 10s 2ms/step - loss: 2.3027 - accuracy: 0.0979 - val_loss: 2.3054 - val_accuracy: 0.0966\n",
            "Epoch 4/25\n",
            "5000/5000 [==============================] - 11s 2ms/step - loss: 2.3027 - accuracy: 0.0986 - val_loss: 2.3054 - val_accuracy: 0.0984\n",
            "Epoch 5/25\n",
            "5000/5000 [==============================] - 10s 2ms/step - loss: 2.3027 - accuracy: 0.0998 - val_loss: 2.3050 - val_accuracy: 0.1015\n",
            "Epoch 6/25\n",
            "5000/5000 [==============================] - 10s 2ms/step - loss: 2.3027 - accuracy: 0.0997 - val_loss: 2.3051 - val_accuracy: 0.1001\n",
            "Epoch 7/25\n",
            "5000/5000 [==============================] - 10s 2ms/step - loss: 2.3026 - accuracy: 0.0997 - val_loss: 2.3050 - val_accuracy: 0.0985\n",
            "Epoch 8/25\n",
            "5000/5000 [==============================] - 10s 2ms/step - loss: 2.3026 - accuracy: 0.0991 - val_loss: 2.3051 - val_accuracy: 0.1001\n",
            "Epoch 9/25\n",
            "5000/5000 [==============================] - 10s 2ms/step - loss: 2.3026 - accuracy: 0.0991 - val_loss: 2.3051 - val_accuracy: 0.0984\n",
            "Epoch 10/25\n",
            "5000/5000 [==============================] - 10s 2ms/step - loss: 2.3026 - accuracy: 0.1017 - val_loss: 2.3052 - val_accuracy: 0.1001\n",
            "Epoch 11/25\n",
            "5000/5000 [==============================] - 11s 2ms/step - loss: 2.3027 - accuracy: 0.0971 - val_loss: 2.3052 - val_accuracy: 0.1009\n",
            "Epoch 12/25\n",
            "5000/5000 [==============================] - 11s 2ms/step - loss: 2.3026 - accuracy: 0.0996 - val_loss: 2.3055 - val_accuracy: 0.0966\n",
            "Epoch 13/25\n",
            "5000/5000 [==============================] - 11s 2ms/step - loss: 2.3026 - accuracy: 0.0997 - val_loss: 2.3051 - val_accuracy: 0.0984\n",
            "Epoch 14/25\n",
            "5000/5000 [==============================] - 10s 2ms/step - loss: 2.3027 - accuracy: 0.1008 - val_loss: 2.3052 - val_accuracy: 0.0984\n",
            "Epoch 15/25\n",
            "5000/5000 [==============================] - 11s 2ms/step - loss: 2.3026 - accuracy: 0.0999 - val_loss: 2.3052 - val_accuracy: 0.1001\n",
            "Epoch 16/25\n",
            "5000/5000 [==============================] - 12s 2ms/step - loss: 2.3026 - accuracy: 0.1001 - val_loss: 2.3052 - val_accuracy: 0.1009\n",
            "Epoch 17/25\n",
            "5000/5000 [==============================] - 11s 2ms/step - loss: 2.3026 - accuracy: 0.0992 - val_loss: 2.3052 - val_accuracy: 0.1001\n",
            "Epoch 18/25\n",
            "5000/5000 [==============================] - 10s 2ms/step - loss: 2.3026 - accuracy: 0.0983 - val_loss: 2.3054 - val_accuracy: 0.0984\n",
            "Epoch 19/25\n",
            "5000/5000 [==============================] - 10s 2ms/step - loss: 2.3026 - accuracy: 0.0991 - val_loss: 2.3049 - val_accuracy: 0.1044\n",
            "Epoch 20/25\n",
            "5000/5000 [==============================] - 10s 2ms/step - loss: 2.3026 - accuracy: 0.0984 - val_loss: 2.3053 - val_accuracy: 0.1001\n",
            "Epoch 21/25\n",
            "5000/5000 [==============================] - 10s 2ms/step - loss: 2.3027 - accuracy: 0.0992 - val_loss: 2.3052 - val_accuracy: 0.0984\n",
            "Epoch 22/25\n",
            "5000/5000 [==============================] - 10s 2ms/step - loss: 2.3026 - accuracy: 0.0995 - val_loss: 2.3052 - val_accuracy: 0.0966\n",
            "Epoch 23/25\n",
            "5000/5000 [==============================] - 11s 2ms/step - loss: 2.3026 - accuracy: 0.0991 - val_loss: 2.3053 - val_accuracy: 0.0966\n",
            "Epoch 24/25\n",
            "5000/5000 [==============================] - 10s 2ms/step - loss: 2.3026 - accuracy: 0.1003 - val_loss: 2.3055 - val_accuracy: 0.0966\n",
            "Epoch 25/25\n",
            "5000/5000 [==============================] - 10s 2ms/step - loss: 2.3027 - accuracy: 0.0987 - val_loss: 2.3053 - val_accuracy: 0.0985\n"
          ],
          "name": "stdout"
        }
      ]
    },
    {
      "cell_type": "code",
      "metadata": {
        "id": "oQqDGMUe2_7y",
        "colab_type": "code",
        "colab": {
          "base_uri": "https://localhost:8080/",
          "height": 867
        },
        "outputId": "2010412a-1fd7-49d5-c5bd-377555392779"
      },
      "source": [
        "quickdraw_model_512 = create_model()\n",
        "\n",
        "bt_512 = quickdraw_model_512.fit(X_train, y_train,\n",
        "                                epochs=25,\n",
        "                                batch_size=512,\n",
        "                                validation_data=(X_test, y_test))"
      ],
      "execution_count": 25,
      "outputs": [
        {
          "output_type": "stream",
          "text": [
            "Epoch 1/25\n",
            "157/157 [==============================] - 1s 4ms/step - loss: 45.4643 - accuracy: 0.1001 - val_loss: 2.3053 - val_accuracy: 0.0966\n",
            "Epoch 2/25\n",
            "157/157 [==============================] - 0s 3ms/step - loss: 2.3045 - accuracy: 0.1009 - val_loss: 2.3053 - val_accuracy: 0.0966\n",
            "Epoch 3/25\n",
            "157/157 [==============================] - 0s 3ms/step - loss: 2.3032 - accuracy: 0.1009 - val_loss: 2.3053 - val_accuracy: 0.0966\n",
            "Epoch 4/25\n",
            "157/157 [==============================] - 0s 3ms/step - loss: 2.3034 - accuracy: 0.1009 - val_loss: 2.3053 - val_accuracy: 0.0966\n",
            "Epoch 5/25\n",
            "157/157 [==============================] - 0s 3ms/step - loss: 2.3033 - accuracy: 0.1009 - val_loss: 2.3053 - val_accuracy: 0.0966\n",
            "Epoch 6/25\n",
            "157/157 [==============================] - 0s 3ms/step - loss: 2.3031 - accuracy: 0.1009 - val_loss: 2.3054 - val_accuracy: 0.0966\n",
            "Epoch 7/25\n",
            "157/157 [==============================] - 0s 3ms/step - loss: 2.3029 - accuracy: 0.1009 - val_loss: 2.3054 - val_accuracy: 0.0966\n",
            "Epoch 8/25\n",
            "157/157 [==============================] - 0s 3ms/step - loss: 2.3029 - accuracy: 0.1009 - val_loss: 2.3054 - val_accuracy: 0.0966\n",
            "Epoch 9/25\n",
            "157/157 [==============================] - 0s 3ms/step - loss: 2.3028 - accuracy: 0.1009 - val_loss: 2.3054 - val_accuracy: 0.0966\n",
            "Epoch 10/25\n",
            "157/157 [==============================] - 0s 3ms/step - loss: 2.3027 - accuracy: 0.1009 - val_loss: 2.3054 - val_accuracy: 0.0966\n",
            "Epoch 11/25\n",
            "157/157 [==============================] - 0s 3ms/step - loss: 2.3028 - accuracy: 0.1009 - val_loss: 2.3054 - val_accuracy: 0.0966\n",
            "Epoch 12/25\n",
            "157/157 [==============================] - 0s 3ms/step - loss: 2.3027 - accuracy: 0.1009 - val_loss: 2.3054 - val_accuracy: 0.0966\n",
            "Epoch 13/25\n",
            "157/157 [==============================] - 0s 3ms/step - loss: 2.3027 - accuracy: 0.1009 - val_loss: 2.3054 - val_accuracy: 0.0966\n",
            "Epoch 14/25\n",
            "157/157 [==============================] - 0s 3ms/step - loss: 2.3027 - accuracy: 0.1009 - val_loss: 2.3054 - val_accuracy: 0.0966\n",
            "Epoch 15/25\n",
            "157/157 [==============================] - 0s 3ms/step - loss: 2.3027 - accuracy: 0.1009 - val_loss: 2.3054 - val_accuracy: 0.0966\n",
            "Epoch 16/25\n",
            "157/157 [==============================] - 0s 3ms/step - loss: 2.3027 - accuracy: 0.1009 - val_loss: 2.3054 - val_accuracy: 0.0966\n",
            "Epoch 17/25\n",
            "157/157 [==============================] - 0s 3ms/step - loss: 2.3027 - accuracy: 0.1009 - val_loss: 2.3054 - val_accuracy: 0.0966\n",
            "Epoch 18/25\n",
            "157/157 [==============================] - 0s 3ms/step - loss: 2.3027 - accuracy: 0.1009 - val_loss: 2.3054 - val_accuracy: 0.0966\n",
            "Epoch 19/25\n",
            "157/157 [==============================] - 0s 3ms/step - loss: 2.3026 - accuracy: 0.1009 - val_loss: 2.3054 - val_accuracy: 0.0966\n",
            "Epoch 20/25\n",
            "157/157 [==============================] - 1s 3ms/step - loss: 2.3026 - accuracy: 0.1009 - val_loss: 2.3054 - val_accuracy: 0.0966\n",
            "Epoch 21/25\n",
            "157/157 [==============================] - 0s 3ms/step - loss: 2.3026 - accuracy: 0.1009 - val_loss: 2.3054 - val_accuracy: 0.0966\n",
            "Epoch 22/25\n",
            "157/157 [==============================] - 1s 3ms/step - loss: 2.3026 - accuracy: 0.1004 - val_loss: 2.3054 - val_accuracy: 0.0966\n",
            "Epoch 23/25\n",
            "157/157 [==============================] - 0s 3ms/step - loss: 2.3026 - accuracy: 0.1009 - val_loss: 2.3054 - val_accuracy: 0.0966\n",
            "Epoch 24/25\n",
            "157/157 [==============================] - 0s 3ms/step - loss: 2.3026 - accuracy: 0.1009 - val_loss: 2.3054 - val_accuracy: 0.0966\n",
            "Epoch 25/25\n",
            "157/157 [==============================] - 0s 3ms/step - loss: 2.3026 - accuracy: 0.1000 - val_loss: 2.3054 - val_accuracy: 0.0966\n"
          ],
          "name": "stdout"
        }
      ]
    },
    {
      "cell_type": "code",
      "metadata": {
        "id": "JGh-sj3k3A7N",
        "colab_type": "code",
        "colab": {
          "base_uri": "https://localhost:8080/",
          "height": 867
        },
        "outputId": "02057d8d-1671-44f9-8847-ece3902f5388"
      },
      "source": [
        "quickdraw_model_64 = create_model()\n",
        "\n",
        "bt_64 = quickdraw_model_64.fit(X_train, y_train,\n",
        "                                epochs=25,\n",
        "                                batch_size=32,\n",
        "                                validation_data=(X_test, y_test))"
      ],
      "execution_count": 26,
      "outputs": [
        {
          "output_type": "stream",
          "text": [
            "Epoch 1/25\n",
            "2500/2500 [==============================] - 5s 2ms/step - loss: 14.9168 - accuracy: 0.1013 - val_loss: 2.3410 - val_accuracy: 0.1009\n",
            "Epoch 2/25\n",
            "2500/2500 [==============================] - 5s 2ms/step - loss: 2.3028 - accuracy: 0.0969 - val_loss: 2.3441 - val_accuracy: 0.0984\n",
            "Epoch 3/25\n",
            "2500/2500 [==============================] - 5s 2ms/step - loss: 2.3027 - accuracy: 0.0995 - val_loss: 2.3449 - val_accuracy: 0.1001\n",
            "Epoch 4/25\n",
            "2500/2500 [==============================] - 5s 2ms/step - loss: 2.3026 - accuracy: 0.0989 - val_loss: 2.3471 - val_accuracy: 0.0983\n",
            "Epoch 5/25\n",
            "2500/2500 [==============================] - 5s 2ms/step - loss: 2.3026 - accuracy: 0.0986 - val_loss: 2.3474 - val_accuracy: 0.0984\n",
            "Epoch 6/25\n",
            "2500/2500 [==============================] - 5s 2ms/step - loss: 2.3026 - accuracy: 0.0989 - val_loss: 2.3475 - val_accuracy: 0.0985\n",
            "Epoch 7/25\n",
            "2500/2500 [==============================] - 5s 2ms/step - loss: 2.3026 - accuracy: 0.1008 - val_loss: 2.3477 - val_accuracy: 0.0966\n",
            "Epoch 8/25\n",
            "2500/2500 [==============================] - 5s 2ms/step - loss: 2.3026 - accuracy: 0.1008 - val_loss: 2.3476 - val_accuracy: 0.1001\n",
            "Epoch 9/25\n",
            "2500/2500 [==============================] - 5s 2ms/step - loss: 2.3026 - accuracy: 0.1000 - val_loss: 2.3478 - val_accuracy: 0.0983\n",
            "Epoch 10/25\n",
            "2500/2500 [==============================] - 5s 2ms/step - loss: 2.3026 - accuracy: 0.1008 - val_loss: 2.3478 - val_accuracy: 0.0966\n",
            "Epoch 11/25\n",
            "2500/2500 [==============================] - 5s 2ms/step - loss: 2.3026 - accuracy: 0.0993 - val_loss: 2.3479 - val_accuracy: 0.1015\n",
            "Epoch 12/25\n",
            "2500/2500 [==============================] - 5s 2ms/step - loss: 2.3026 - accuracy: 0.1003 - val_loss: 2.3480 - val_accuracy: 0.0985\n",
            "Epoch 13/25\n",
            "2500/2500 [==============================] - 5s 2ms/step - loss: 2.3026 - accuracy: 0.0998 - val_loss: 2.3480 - val_accuracy: 0.0985\n",
            "Epoch 14/25\n",
            "2500/2500 [==============================] - 5s 2ms/step - loss: 2.3026 - accuracy: 0.1000 - val_loss: 2.3480 - val_accuracy: 0.0983\n",
            "Epoch 15/25\n",
            "2500/2500 [==============================] - 5s 2ms/step - loss: 2.3026 - accuracy: 0.0998 - val_loss: 2.3481 - val_accuracy: 0.0984\n",
            "Epoch 16/25\n",
            "2500/2500 [==============================] - 5s 2ms/step - loss: 2.3026 - accuracy: 0.0979 - val_loss: 2.3481 - val_accuracy: 0.0985\n",
            "Epoch 17/25\n",
            "2500/2500 [==============================] - 5s 2ms/step - loss: 2.3026 - accuracy: 0.1002 - val_loss: 2.3483 - val_accuracy: 0.0966\n",
            "Epoch 18/25\n",
            "2500/2500 [==============================] - 5s 2ms/step - loss: 2.3026 - accuracy: 0.1008 - val_loss: 2.3483 - val_accuracy: 0.0966\n",
            "Epoch 19/25\n",
            "2500/2500 [==============================] - 5s 2ms/step - loss: 2.3026 - accuracy: 0.0994 - val_loss: 2.3484 - val_accuracy: 0.0966\n",
            "Epoch 20/25\n",
            "2500/2500 [==============================] - 5s 2ms/step - loss: 2.3026 - accuracy: 0.1016 - val_loss: 2.3483 - val_accuracy: 0.0984\n",
            "Epoch 21/25\n",
            "2500/2500 [==============================] - 5s 2ms/step - loss: 2.3026 - accuracy: 0.0998 - val_loss: 2.3484 - val_accuracy: 0.0966\n",
            "Epoch 22/25\n",
            "2500/2500 [==============================] - 5s 2ms/step - loss: 2.3026 - accuracy: 0.0998 - val_loss: 2.3484 - val_accuracy: 0.1015\n",
            "Epoch 23/25\n",
            "2500/2500 [==============================] - 5s 2ms/step - loss: 2.3026 - accuracy: 0.0977 - val_loss: 2.3485 - val_accuracy: 0.0984\n",
            "Epoch 24/25\n",
            "2500/2500 [==============================] - 5s 2ms/step - loss: 2.3026 - accuracy: 0.0996 - val_loss: 2.3484 - val_accuracy: 0.0966\n",
            "Epoch 25/25\n",
            "2500/2500 [==============================] - 5s 2ms/step - loss: 2.3026 - accuracy: 0.1004 - val_loss: 2.3484 - val_accuracy: 0.1001\n"
          ],
          "name": "stdout"
        }
      ]
    },
    {
      "cell_type": "code",
      "metadata": {
        "id": "fiCcFy0sMv4L",
        "colab_type": "code",
        "colab": {
          "base_uri": "https://localhost:8080/",
          "height": 204
        },
        "outputId": "bd3269ca-fcda-494e-85e6-d258b88b2037"
      },
      "source": [
        "import seaborn as sns\n",
        "import pandas as pd\n",
        "\n",
        "batch_sizes = []\n",
        "\n",
        "for exp, result in zip([bt_default, bt_8, bt_512, bt_64, bt_16], [\"32_\", \"8_\", \"512_\", \"64_\", \"16_\"]):\n",
        "\n",
        "  df = pd.DataFrame.from_dict(exp.history)\n",
        "  df['epoch'] = df.index.values\n",
        "  df['Batch Size'] = result\n",
        "\n",
        "  batch_sizes.append(df)\n",
        "\n",
        "df = pd.concat(batch_sizes)\n",
        "df['Batch Size'] = df['Batch Size'].astype('str')\n",
        "df.head()"
      ],
      "execution_count": 27,
      "outputs": [
        {
          "output_type": "execute_result",
          "data": {
            "text/html": [
              "<div>\n",
              "<style scoped>\n",
              "    .dataframe tbody tr th:only-of-type {\n",
              "        vertical-align: middle;\n",
              "    }\n",
              "\n",
              "    .dataframe tbody tr th {\n",
              "        vertical-align: top;\n",
              "    }\n",
              "\n",
              "    .dataframe thead th {\n",
              "        text-align: right;\n",
              "    }\n",
              "</style>\n",
              "<table border=\"1\" class=\"dataframe\">\n",
              "  <thead>\n",
              "    <tr style=\"text-align: right;\">\n",
              "      <th></th>\n",
              "      <th>loss</th>\n",
              "      <th>accuracy</th>\n",
              "      <th>val_loss</th>\n",
              "      <th>val_accuracy</th>\n",
              "      <th>epoch</th>\n",
              "      <th>Batch Size</th>\n",
              "    </tr>\n",
              "  </thead>\n",
              "  <tbody>\n",
              "    <tr>\n",
              "      <th>0</th>\n",
              "      <td>11.698858</td>\n",
              "      <td>0.100600</td>\n",
              "      <td>2.306777</td>\n",
              "      <td>0.09835</td>\n",
              "      <td>0</td>\n",
              "      <td>32_</td>\n",
              "    </tr>\n",
              "    <tr>\n",
              "      <th>1</th>\n",
              "      <td>2.346596</td>\n",
              "      <td>0.100150</td>\n",
              "      <td>2.306756</td>\n",
              "      <td>0.09835</td>\n",
              "      <td>1</td>\n",
              "      <td>32_</td>\n",
              "    </tr>\n",
              "    <tr>\n",
              "      <th>2</th>\n",
              "      <td>2.302738</td>\n",
              "      <td>0.100000</td>\n",
              "      <td>2.306798</td>\n",
              "      <td>0.10000</td>\n",
              "      <td>2</td>\n",
              "      <td>32_</td>\n",
              "    </tr>\n",
              "    <tr>\n",
              "      <th>3</th>\n",
              "      <td>2.302564</td>\n",
              "      <td>0.100138</td>\n",
              "      <td>2.306722</td>\n",
              "      <td>0.09660</td>\n",
              "      <td>3</td>\n",
              "      <td>32_</td>\n",
              "    </tr>\n",
              "    <tr>\n",
              "      <th>4</th>\n",
              "      <td>2.302556</td>\n",
              "      <td>0.098937</td>\n",
              "      <td>2.306662</td>\n",
              "      <td>0.09660</td>\n",
              "      <td>4</td>\n",
              "      <td>32_</td>\n",
              "    </tr>\n",
              "  </tbody>\n",
              "</table>\n",
              "</div>"
            ],
            "text/plain": [
              "        loss  accuracy  val_loss  val_accuracy  epoch Batch Size\n",
              "0  11.698858  0.100600  2.306777       0.09835      0        32_\n",
              "1   2.346596  0.100150  2.306756       0.09835      1        32_\n",
              "2   2.302738  0.100000  2.306798       0.10000      2        32_\n",
              "3   2.302564  0.100138  2.306722       0.09660      3        32_\n",
              "4   2.302556  0.098937  2.306662       0.09660      4        32_"
            ]
          },
          "metadata": {
            "tags": []
          },
          "execution_count": 27
        }
      ]
    },
    {
      "cell_type": "code",
      "metadata": {
        "id": "wrOSrlknMwH-",
        "colab_type": "code",
        "colab": {
          "base_uri": "https://localhost:8080/",
          "height": 279
        },
        "outputId": "5006f115-8111-464e-8d13-c12ed0f4f4cf"
      },
      "source": [
        "sns.lineplot(x='epoch', y='val_accuracy', hue='Batch Size', data=df);"
      ],
      "execution_count": 28,
      "outputs": [
        {
          "output_type": "display_data",
          "data": {
            "image/png": "[encoded data removed]",
            "text/plain": [
              "<Figure size 432x288 with 1 Axes>"
            ]
          },
          "metadata": {
            "tags": [],
            "needs_background": "light"
          }
        }
      ]
    },
    {
      "cell_type": "code",
      "metadata": {
        "id": "H3Vj0Lm3S2lh",
        "colab_type": "code",
        "colab": {
          "base_uri": "https://localhost:8080/",
          "height": 280
        },
        "outputId": "1061240a-d011-4c03-a224-1a35dcaba690"
      },
      "source": [
        "sns.lineplot(x='epoch', y='val_loss', hue='Batch Size', data=df);"
      ],
      "execution_count": 29,
      "outputs": [
        {
          "output_type": "display_data",
          "data": {
            "image/png": "[encoded data removed]",
            "text/plain": [
              "<Figure size 432x288 with 1 Axes>"
            ]
          },
          "metadata": {
            "tags": [],
            "needs_background": "light"
          }
        }
      ]
    },
    {
      "cell_type": "markdown",
      "metadata": {
        "colab_type": "text",
        "id": "8b-r70o8p2Dm"
      },
      "source": [
        "### Experiment with Learning Rate\n",
        "* Run 5 experiments with various learning rate magnitudes: 1, .1, .01, .001, .0001.\n",
        "* Use the \"best\" batch size from the previous experiment\n",
        "* Visualize the results\n",
        "* Write up an analysis of the experiments and select the \"best\" performing model among your experiments. Make sure to compare against the previous experiments and your model's performance yesterday. "
      ]
    },
    {
      "cell_type": "code",
      "metadata": {
        "id": "_SA144xx8Luf",
        "colab_type": "code",
        "colab": {
          "base_uri": "https://localhost:8080/",
          "height": 867
        },
        "outputId": "453fface-ad80-4440-b528-6157aeb05a30"
      },
      "source": [
        "lr_default = create_model().fit(X_train, y_train,\n",
        "                                epochs=25,\n",
        "                                validation_data=(X_test,y_test)\n",
        ")"
      ],
      "execution_count": 30,
      "outputs": [
        {
          "output_type": "stream",
          "text": [
            "Epoch 1/25\n",
            "2500/2500 [==============================] - 5s 2ms/step - loss: 4.6246 - accuracy: 0.0999 - val_loss: 2.3088 - val_accuracy: 0.0966\n",
            "Epoch 2/25\n",
            "2500/2500 [==============================] - 5s 2ms/step - loss: 2.3029 - accuracy: 0.1006 - val_loss: 2.3080 - val_accuracy: 0.0983\n",
            "Epoch 3/25\n",
            "2500/2500 [==============================] - 5s 2ms/step - loss: 2.3026 - accuracy: 0.0971 - val_loss: 2.3081 - val_accuracy: 0.0966\n",
            "Epoch 4/25\n",
            "2500/2500 [==============================] - 5s 2ms/step - loss: 2.3026 - accuracy: 0.0983 - val_loss: 2.3081 - val_accuracy: 0.0966\n",
            "Epoch 5/25\n",
            "2500/2500 [==============================] - 5s 2ms/step - loss: 2.3026 - accuracy: 0.0989 - val_loss: 2.3081 - val_accuracy: 0.0966\n",
            "Epoch 6/25\n",
            "2500/2500 [==============================] - 5s 2ms/step - loss: 2.3026 - accuracy: 0.0995 - val_loss: 2.3082 - val_accuracy: 0.0985\n",
            "Epoch 7/25\n",
            "2500/2500 [==============================] - 5s 2ms/step - loss: 2.3026 - accuracy: 0.0989 - val_loss: 2.3082 - val_accuracy: 0.0966\n",
            "Epoch 8/25\n",
            "2500/2500 [==============================] - 5s 2ms/step - loss: 2.3026 - accuracy: 0.0977 - val_loss: 2.3083 - val_accuracy: 0.0966\n",
            "Epoch 9/25\n",
            "2500/2500 [==============================] - 5s 2ms/step - loss: 2.3026 - accuracy: 0.0992 - val_loss: 2.3082 - val_accuracy: 0.0984\n",
            "Epoch 10/25\n",
            "2500/2500 [==============================] - 5s 2ms/step - loss: 2.3026 - accuracy: 0.1008 - val_loss: 2.3081 - val_accuracy: 0.0983\n",
            "Epoch 11/25\n",
            "2500/2500 [==============================] - 5s 2ms/step - loss: 2.3026 - accuracy: 0.0989 - val_loss: 2.3082 - val_accuracy: 0.0984\n",
            "Epoch 12/25\n",
            "2500/2500 [==============================] - 5s 2ms/step - loss: 2.3026 - accuracy: 0.0992 - val_loss: 2.3082 - val_accuracy: 0.0966\n",
            "Epoch 13/25\n",
            "2500/2500 [==============================] - 5s 2ms/step - loss: 2.3026 - accuracy: 0.0985 - val_loss: 2.3081 - val_accuracy: 0.1001\n",
            "Epoch 14/25\n",
            "2500/2500 [==============================] - 5s 2ms/step - loss: 2.3026 - accuracy: 0.1006 - val_loss: 2.3082 - val_accuracy: 0.0983\n",
            "Epoch 15/25\n",
            "2500/2500 [==============================] - 5s 2ms/step - loss: 2.3026 - accuracy: 0.0984 - val_loss: 2.3082 - val_accuracy: 0.0985\n",
            "Epoch 16/25\n",
            "2500/2500 [==============================] - 6s 2ms/step - loss: 2.3026 - accuracy: 0.0989 - val_loss: 2.3081 - val_accuracy: 0.0966\n",
            "Epoch 17/25\n",
            "2500/2500 [==============================] - 5s 2ms/step - loss: 2.3026 - accuracy: 0.0987 - val_loss: 2.3081 - val_accuracy: 0.0985\n",
            "Epoch 18/25\n",
            "2500/2500 [==============================] - 5s 2ms/step - loss: 2.3026 - accuracy: 0.0985 - val_loss: 2.3081 - val_accuracy: 0.0966\n",
            "Epoch 19/25\n",
            "2500/2500 [==============================] - 5s 2ms/step - loss: 2.3026 - accuracy: 0.0986 - val_loss: 2.3083 - val_accuracy: 0.0984\n",
            "Epoch 20/25\n",
            "2500/2500 [==============================] - 5s 2ms/step - loss: 2.3026 - accuracy: 0.0988 - val_loss: 2.3083 - val_accuracy: 0.0984\n",
            "Epoch 21/25\n",
            "2500/2500 [==============================] - 5s 2ms/step - loss: 2.3026 - accuracy: 0.0994 - val_loss: 2.3082 - val_accuracy: 0.0984\n",
            "Epoch 22/25\n",
            "2500/2500 [==============================] - 5s 2ms/step - loss: 2.3026 - accuracy: 0.0992 - val_loss: 2.3081 - val_accuracy: 0.0984\n",
            "Epoch 23/25\n",
            "2500/2500 [==============================] - 5s 2ms/step - loss: 2.3026 - accuracy: 0.0989 - val_loss: 2.3082 - val_accuracy: 0.0984\n",
            "Epoch 24/25\n",
            "2500/2500 [==============================] - 5s 2ms/step - loss: 2.3026 - accuracy: 0.1004 - val_loss: 2.3081 - val_accuracy: 0.0985\n",
            "Epoch 25/25\n",
            "2500/2500 [==============================] - 5s 2ms/step - loss: 2.3026 - accuracy: 0.1006 - val_loss: 2.3081 - val_accuracy: 0.1009\n"
          ],
          "name": "stdout"
        }
      ]
    },
    {
      "cell_type": "code",
      "metadata": {
        "id": "_nObF402TBsI",
        "colab_type": "code",
        "colab": {
          "base_uri": "https://localhost:8080/",
          "height": 867
        },
        "outputId": "d9b3e245-3a1b-4825-89b9-b9f77fe124c9"
      },
      "source": [
        "lr_75 = create_model(lr=.75).fit(X_train, y_train,\n",
        "                                epochs=25,\n",
        "                                validation_data=(X_test,y_test)\n",
        ")"
      ],
      "execution_count": 31,
      "outputs": [
        {
          "output_type": "stream",
          "text": [
            "Epoch 1/25\n",
            "2500/2500 [==============================] - 5s 2ms/step - loss: 46572297485549568.0000 - accuracy: 0.1005 - val_loss: 2.3092 - val_accuracy: 0.0984\n",
            "Epoch 2/25\n",
            "2500/2500 [==============================] - 5s 2ms/step - loss: 2.3081 - accuracy: 0.1026 - val_loss: 2.3082 - val_accuracy: 0.1001\n",
            "Epoch 3/25\n",
            "2500/2500 [==============================] - 5s 2ms/step - loss: 2.3079 - accuracy: 0.0998 - val_loss: 2.3114 - val_accuracy: 0.0984\n",
            "Epoch 4/25\n",
            "2500/2500 [==============================] - 5s 2ms/step - loss: 2.3081 - accuracy: 0.0989 - val_loss: 2.3124 - val_accuracy: 0.1044\n",
            "Epoch 5/25\n",
            "2500/2500 [==============================] - 5s 2ms/step - loss: 2.3079 - accuracy: 0.1016 - val_loss: 2.3062 - val_accuracy: 0.0983\n",
            "Epoch 6/25\n",
            "2500/2500 [==============================] - 5s 2ms/step - loss: 2.3080 - accuracy: 0.0998 - val_loss: 2.3065 - val_accuracy: 0.0966\n",
            "Epoch 7/25\n",
            "2500/2500 [==============================] - 5s 2ms/step - loss: 2.3080 - accuracy: 0.1011 - val_loss: 2.3062 - val_accuracy: 0.0966\n",
            "Epoch 8/25\n",
            "2500/2500 [==============================] - 5s 2ms/step - loss: 2.3082 - accuracy: 0.1004 - val_loss: 2.3098 - val_accuracy: 0.0966\n",
            "Epoch 9/25\n",
            "2500/2500 [==============================] - 5s 2ms/step - loss: 2.3081 - accuracy: 0.0989 - val_loss: 2.3044 - val_accuracy: 0.1008\n",
            "Epoch 10/25\n",
            "2500/2500 [==============================] - 5s 2ms/step - loss: 2.3084 - accuracy: 0.0992 - val_loss: 2.3130 - val_accuracy: 0.0984\n",
            "Epoch 11/25\n",
            "2500/2500 [==============================] - 5s 2ms/step - loss: 2.3080 - accuracy: 0.1004 - val_loss: 2.3064 - val_accuracy: 0.0966\n",
            "Epoch 12/25\n",
            "2500/2500 [==============================] - 5s 2ms/step - loss: 2.3079 - accuracy: 0.1001 - val_loss: 2.3137 - val_accuracy: 0.1015\n",
            "Epoch 13/25\n",
            "2500/2500 [==============================] - 5s 2ms/step - loss: 2.3079 - accuracy: 0.0995 - val_loss: 2.3057 - val_accuracy: 0.1008\n",
            "Epoch 14/25\n",
            "2500/2500 [==============================] - 5s 2ms/step - loss: 2.3080 - accuracy: 0.0998 - val_loss: 2.3053 - val_accuracy: 0.1018\n",
            "Epoch 15/25\n",
            "2500/2500 [==============================] - 5s 2ms/step - loss: 2.3084 - accuracy: 0.1005 - val_loss: 2.3085 - val_accuracy: 0.0966\n",
            "Epoch 16/25\n",
            "2500/2500 [==============================] - 5s 2ms/step - loss: 2.3079 - accuracy: 0.1013 - val_loss: 2.3068 - val_accuracy: 0.1018\n",
            "Epoch 17/25\n",
            "2500/2500 [==============================] - 5s 2ms/step - loss: 2.3081 - accuracy: 0.1001 - val_loss: 2.3055 - val_accuracy: 0.0984\n",
            "Epoch 18/25\n",
            "2500/2500 [==============================] - 5s 2ms/step - loss: 2.3081 - accuracy: 0.1008 - val_loss: 2.3101 - val_accuracy: 0.1018\n",
            "Epoch 19/25\n",
            "2500/2500 [==============================] - 5s 2ms/step - loss: 2.3083 - accuracy: 0.1009 - val_loss: 2.3080 - val_accuracy: 0.1044\n",
            "Epoch 20/25\n",
            "2500/2500 [==============================] - 5s 2ms/step - loss: 2.3077 - accuracy: 0.1020 - val_loss: 2.3146 - val_accuracy: 0.0983\n",
            "Epoch 21/25\n",
            "2500/2500 [==============================] - 5s 2ms/step - loss: 2.3081 - accuracy: 0.1002 - val_loss: 2.3100 - val_accuracy: 0.1008\n",
            "Epoch 22/25\n",
            "2500/2500 [==============================] - 5s 2ms/step - loss: 2.3082 - accuracy: 0.1001 - val_loss: 2.3073 - val_accuracy: 0.1044\n",
            "Epoch 23/25\n",
            "2500/2500 [==============================] - 5s 2ms/step - loss: 2.3078 - accuracy: 0.0981 - val_loss: 2.3088 - val_accuracy: 0.0984\n",
            "Epoch 24/25\n",
            "2500/2500 [==============================] - 5s 2ms/step - loss: 2.3082 - accuracy: 0.0984 - val_loss: 2.3058 - val_accuracy: 0.1015\n",
            "Epoch 25/25\n",
            "2500/2500 [==============================] - 5s 2ms/step - loss: 2.3080 - accuracy: 0.0988 - val_loss: 2.3088 - val_accuracy: 0.0983\n"
          ],
          "name": "stdout"
        }
      ]
    },
    {
      "cell_type": "code",
      "metadata": {
        "id": "GhCy-zisTB0s",
        "colab_type": "code",
        "colab": {
          "base_uri": "https://localhost:8080/",
          "height": 867
        },
        "outputId": "3a03f68d-9b67-4a9c-dd34-fe8886ccf270"
      },
      "source": [
        "lr_0001 = create_model(lr=.0001).fit(X_train, y_train,\n",
        "                                epochs=25,\n",
        "                                validation_data=(X_test,y_test)\n",
        ")"
      ],
      "execution_count": 32,
      "outputs": [
        {
          "output_type": "stream",
          "text": [
            "Epoch 1/25\n",
            "2500/2500 [==============================] - 5s 2ms/step - loss: 3.6906 - accuracy: 0.2084 - val_loss: 2.1551 - val_accuracy: 0.2277\n",
            "Epoch 2/25\n",
            "2500/2500 [==============================] - 5s 2ms/step - loss: 2.0929 - accuracy: 0.2462 - val_loss: 2.0338 - val_accuracy: 0.2589\n",
            "Epoch 3/25\n",
            "2500/2500 [==============================] - 5s 2ms/step - loss: 1.9872 - accuracy: 0.2814 - val_loss: 1.9537 - val_accuracy: 0.3047\n",
            "Epoch 4/25\n",
            "2500/2500 [==============================] - 5s 2ms/step - loss: 1.9140 - accuracy: 0.3144 - val_loss: 1.8971 - val_accuracy: 0.3264\n",
            "Epoch 5/25\n",
            "2500/2500 [==============================] - 5s 2ms/step - loss: 1.8568 - accuracy: 0.3339 - val_loss: 1.8500 - val_accuracy: 0.3430\n",
            "Epoch 6/25\n",
            "2500/2500 [==============================] - 5s 2ms/step - loss: 1.8094 - accuracy: 0.3514 - val_loss: 1.8103 - val_accuracy: 0.3602\n",
            "Epoch 7/25\n",
            "2500/2500 [==============================] - 5s 2ms/step - loss: 1.7665 - accuracy: 0.3695 - val_loss: 1.7736 - val_accuracy: 0.3779\n",
            "Epoch 8/25\n",
            "2500/2500 [==============================] - 5s 2ms/step - loss: 1.7286 - accuracy: 0.3815 - val_loss: 1.7428 - val_accuracy: 0.3862\n",
            "Epoch 9/25\n",
            "2500/2500 [==============================] - 5s 2ms/step - loss: 1.6981 - accuracy: 0.3883 - val_loss: 1.7172 - val_accuracy: 0.3909\n",
            "Epoch 10/25\n",
            "2500/2500 [==============================] - 5s 2ms/step - loss: 1.6715 - accuracy: 0.3925 - val_loss: 1.6954 - val_accuracy: 0.3974\n",
            "Epoch 11/25\n",
            "2500/2500 [==============================] - 5s 2ms/step - loss: 1.6462 - accuracy: 0.3982 - val_loss: 1.6747 - val_accuracy: 0.3990\n",
            "Epoch 12/25\n",
            "2500/2500 [==============================] - 5s 2ms/step - loss: 1.6206 - accuracy: 0.4263 - val_loss: 1.6537 - val_accuracy: 0.4362\n",
            "Epoch 13/25\n",
            "2500/2500 [==============================] - 5s 2ms/step - loss: 1.5959 - accuracy: 0.4421 - val_loss: 1.6306 - val_accuracy: 0.4381\n",
            "Epoch 14/25\n",
            "2500/2500 [==============================] - 5s 2ms/step - loss: 1.5730 - accuracy: 0.4498 - val_loss: 1.6123 - val_accuracy: 0.4552\n",
            "Epoch 15/25\n",
            "2500/2500 [==============================] - 5s 2ms/step - loss: 1.5516 - accuracy: 0.4594 - val_loss: 1.6021 - val_accuracy: 0.4672\n",
            "Epoch 16/25\n",
            "2500/2500 [==============================] - 5s 2ms/step - loss: 1.5324 - accuracy: 0.4670 - val_loss: 1.5768 - val_accuracy: 0.4749\n",
            "Epoch 17/25\n",
            "2500/2500 [==============================] - 5s 2ms/step - loss: 1.5143 - accuracy: 0.4732 - val_loss: 1.5603 - val_accuracy: 0.4789\n",
            "Epoch 18/25\n",
            "2500/2500 [==============================] - 5s 2ms/step - loss: 1.4981 - accuracy: 0.4797 - val_loss: 1.5510 - val_accuracy: 0.4692\n",
            "Epoch 19/25\n",
            "2500/2500 [==============================] - 5s 2ms/step - loss: 1.4824 - accuracy: 0.4855 - val_loss: 1.5280 - val_accuracy: 0.4913\n",
            "Epoch 20/25\n",
            "2500/2500 [==============================] - 5s 2ms/step - loss: 1.4678 - accuracy: 0.4860 - val_loss: 1.5135 - val_accuracy: 0.4872\n",
            "Epoch 21/25\n",
            "2500/2500 [==============================] - 5s 2ms/step - loss: 1.4536 - accuracy: 0.4897 - val_loss: 1.5007 - val_accuracy: 0.4916\n",
            "Epoch 22/25\n",
            "2500/2500 [==============================] - 5s 2ms/step - loss: 1.4395 - accuracy: 0.4946 - val_loss: 1.4869 - val_accuracy: 0.4954\n",
            "Epoch 23/25\n",
            "2500/2500 [==============================] - 5s 2ms/step - loss: 1.4257 - accuracy: 0.4986 - val_loss: 1.4822 - val_accuracy: 0.4800\n",
            "Epoch 24/25\n",
            "2500/2500 [==============================] - 5s 2ms/step - loss: 1.4129 - accuracy: 0.5030 - val_loss: 1.4613 - val_accuracy: 0.5106\n",
            "Epoch 25/25\n",
            "2500/2500 [==============================] - 5s 2ms/step - loss: 1.3992 - accuracy: 0.5085 - val_loss: 1.4473 - val_accuracy: 0.5131\n"
          ],
          "name": "stdout"
        }
      ]
    },
    {
      "cell_type": "code",
      "metadata": {
        "id": "GqfZBp2QTB7-",
        "colab_type": "code",
        "colab": {
          "base_uri": "https://localhost:8080/",
          "height": 867
        },
        "outputId": "54782601-2a4c-4914-e541-4fc24fed6472"
      },
      "source": [
        "lr_default = create_model(lr=1.0).fit(X_train, y_train,\n",
        "                                epochs=25,\n",
        "                                validation_data=(X_test,y_test)\n",
        ")"
      ],
      "execution_count": 33,
      "outputs": [
        {
          "output_type": "stream",
          "text": [
            "Epoch 1/25\n",
            "2500/2500 [==============================] - 5s 2ms/step - loss: 128860620324864.0000 - accuracy: 0.1011 - val_loss: 2.3112 - val_accuracy: 0.1000\n",
            "Epoch 2/25\n",
            "2500/2500 [==============================] - 5s 2ms/step - loss: 2.3100 - accuracy: 0.1009 - val_loss: 2.3084 - val_accuracy: 0.1015\n",
            "Epoch 3/25\n",
            "2500/2500 [==============================] - 6s 2ms/step - loss: 2.3103 - accuracy: 0.0997 - val_loss: 2.3048 - val_accuracy: 0.1000\n",
            "Epoch 4/25\n",
            "2500/2500 [==============================] - 6s 2ms/step - loss: 2.3098 - accuracy: 0.1005 - val_loss: 2.3090 - val_accuracy: 0.1008\n",
            "Epoch 5/25\n",
            "2500/2500 [==============================] - 5s 2ms/step - loss: 2.3103 - accuracy: 0.0997 - val_loss: 2.3047 - val_accuracy: 0.0984\n",
            "Epoch 6/25\n",
            "2500/2500 [==============================] - 5s 2ms/step - loss: 2.3099 - accuracy: 0.1014 - val_loss: 2.3045 - val_accuracy: 0.1018\n",
            "Epoch 7/25\n",
            "2500/2500 [==============================] - 5s 2ms/step - loss: 2.3097 - accuracy: 0.1018 - val_loss: 2.3050 - val_accuracy: 0.1018\n",
            "Epoch 8/25\n",
            "2500/2500 [==============================] - 5s 2ms/step - loss: 2.3100 - accuracy: 0.1004 - val_loss: 2.3089 - val_accuracy: 0.0966\n",
            "Epoch 9/25\n",
            "2500/2500 [==============================] - 5s 2ms/step - loss: 2.3099 - accuracy: 0.0986 - val_loss: 2.3075 - val_accuracy: 0.0966\n",
            "Epoch 10/25\n",
            "2500/2500 [==============================] - 5s 2ms/step - loss: 2.3101 - accuracy: 0.1013 - val_loss: 2.3101 - val_accuracy: 0.0983\n",
            "Epoch 11/25\n",
            "2500/2500 [==============================] - 5s 2ms/step - loss: 2.3099 - accuracy: 0.1009 - val_loss: 2.3163 - val_accuracy: 0.1000\n",
            "Epoch 12/25\n",
            "2500/2500 [==============================] - 5s 2ms/step - loss: 2.3101 - accuracy: 0.1017 - val_loss: 2.3120 - val_accuracy: 0.0966\n",
            "Epoch 13/25\n",
            "2500/2500 [==============================] - 5s 2ms/step - loss: 2.3103 - accuracy: 0.1004 - val_loss: 2.3108 - val_accuracy: 0.1015\n",
            "Epoch 14/25\n",
            "2500/2500 [==============================] - 5s 2ms/step - loss: 2.3100 - accuracy: 0.0993 - val_loss: 2.3056 - val_accuracy: 0.1000\n",
            "Epoch 15/25\n",
            "2500/2500 [==============================] - 5s 2ms/step - loss: 2.3097 - accuracy: 0.0994 - val_loss: 2.3058 - val_accuracy: 0.1018\n",
            "Epoch 16/25\n",
            "2500/2500 [==============================] - 5s 2ms/step - loss: 2.3099 - accuracy: 0.1009 - val_loss: 2.3107 - val_accuracy: 0.1044\n",
            "Epoch 17/25\n",
            "2500/2500 [==============================] - 5s 2ms/step - loss: 2.3101 - accuracy: 0.1003 - val_loss: 2.3073 - val_accuracy: 0.0966\n",
            "Epoch 18/25\n",
            "2500/2500 [==============================] - 5s 2ms/step - loss: 2.3097 - accuracy: 0.0997 - val_loss: 2.3073 - val_accuracy: 0.1015\n",
            "Epoch 19/25\n",
            "2500/2500 [==============================] - 5s 2ms/step - loss: 2.3104 - accuracy: 0.0983 - val_loss: 2.3058 - val_accuracy: 0.1015\n",
            "Epoch 20/25\n",
            "2500/2500 [==============================] - 5s 2ms/step - loss: 2.3102 - accuracy: 0.0995 - val_loss: 2.3089 - val_accuracy: 0.0984\n",
            "Epoch 21/25\n",
            "2500/2500 [==============================] - 5s 2ms/step - loss: 2.3101 - accuracy: 0.0993 - val_loss: 2.3071 - val_accuracy: 0.1001\n",
            "Epoch 22/25\n",
            "2500/2500 [==============================] - 5s 2ms/step - loss: 2.3103 - accuracy: 0.1000 - val_loss: 2.3051 - val_accuracy: 0.1015\n",
            "Epoch 23/25\n",
            "2500/2500 [==============================] - 5s 2ms/step - loss: 2.3108 - accuracy: 0.0990 - val_loss: 2.3089 - val_accuracy: 0.0983\n",
            "Epoch 24/25\n",
            "2500/2500 [==============================] - 5s 2ms/step - loss: 2.3100 - accuracy: 0.0991 - val_loss: 2.3059 - val_accuracy: 0.1018\n",
            "Epoch 25/25\n",
            "2500/2500 [==============================] - 5s 2ms/step - loss: 2.3097 - accuracy: 0.1004 - val_loss: 2.3164 - val_accuracy: 0.0966\n"
          ],
          "name": "stdout"
        }
      ]
    },
    {
      "cell_type": "code",
      "metadata": {
        "id": "hnFtX49WTCE3",
        "colab_type": "code",
        "colab": {
          "base_uri": "https://localhost:8080/",
          "height": 867
        },
        "outputId": "380bce71-7556-4826-911c-48909f700da4"
      },
      "source": [
        "lr_default = create_model(lr=.001).fit(X_train, y_train,\n",
        "                                epochs=25,\n",
        "                                validation_data=(X_test,y_test)\n",
        ")"
      ],
      "execution_count": 34,
      "outputs": [
        {
          "output_type": "stream",
          "text": [
            "Epoch 1/25\n",
            "2500/2500 [==============================] - 5s 2ms/step - loss: 2.0962 - accuracy: 0.3295 - val_loss: 1.6891 - val_accuracy: 0.4185\n",
            "Epoch 2/25\n",
            "2500/2500 [==============================] - 5s 2ms/step - loss: 1.6101 - accuracy: 0.4436 - val_loss: 1.5418 - val_accuracy: 0.4660\n",
            "Epoch 3/25\n",
            "2500/2500 [==============================] - 5s 2ms/step - loss: 1.4691 - accuracy: 0.4877 - val_loss: 1.4402 - val_accuracy: 0.4963\n",
            "Epoch 4/25\n",
            "2500/2500 [==============================] - 5s 2ms/step - loss: 1.3512 - accuracy: 0.5330 - val_loss: 1.3435 - val_accuracy: 0.5275\n",
            "Epoch 5/25\n",
            "2500/2500 [==============================] - 5s 2ms/step - loss: 1.2776 - accuracy: 0.5627 - val_loss: 1.2694 - val_accuracy: 0.5807\n",
            "Epoch 6/25\n",
            "2500/2500 [==============================] - 5s 2ms/step - loss: 1.2182 - accuracy: 0.5903 - val_loss: 1.2259 - val_accuracy: 0.6029\n",
            "Epoch 7/25\n",
            "2500/2500 [==============================] - 5s 2ms/step - loss: 1.1680 - accuracy: 0.6100 - val_loss: 1.1883 - val_accuracy: 0.5953\n",
            "Epoch 8/25\n",
            "2500/2500 [==============================] - 5s 2ms/step - loss: 1.1281 - accuracy: 0.6287 - val_loss: 1.1361 - val_accuracy: 0.6414\n",
            "Epoch 9/25\n",
            "2500/2500 [==============================] - 5s 2ms/step - loss: 1.0865 - accuracy: 0.6476 - val_loss: 1.1062 - val_accuracy: 0.6278\n",
            "Epoch 10/25\n",
            "2500/2500 [==============================] - 5s 2ms/step - loss: 1.0488 - accuracy: 0.6626 - val_loss: 1.0872 - val_accuracy: 0.6563\n",
            "Epoch 11/25\n",
            "2500/2500 [==============================] - 5s 2ms/step - loss: 1.0217 - accuracy: 0.6723 - val_loss: 1.0754 - val_accuracy: 0.6401\n",
            "Epoch 12/25\n",
            "2500/2500 [==============================] - 5s 2ms/step - loss: 1.0000 - accuracy: 0.6774 - val_loss: 1.0272 - val_accuracy: 0.6823\n",
            "Epoch 13/25\n",
            "2500/2500 [==============================] - 5s 2ms/step - loss: 0.9839 - accuracy: 0.6833 - val_loss: 1.0140 - val_accuracy: 0.6824\n",
            "Epoch 14/25\n",
            "2500/2500 [==============================] - 5s 2ms/step - loss: 0.9671 - accuracy: 0.6881 - val_loss: 1.0311 - val_accuracy: 0.6812\n",
            "Epoch 15/25\n",
            "2500/2500 [==============================] - 6s 2ms/step - loss: 0.9563 - accuracy: 0.6929 - val_loss: 1.0002 - val_accuracy: 0.6837\n",
            "Epoch 16/25\n",
            "2500/2500 [==============================] - 5s 2ms/step - loss: 0.9453 - accuracy: 0.6966 - val_loss: 0.9912 - val_accuracy: 0.6883\n",
            "Epoch 17/25\n",
            "2500/2500 [==============================] - 5s 2ms/step - loss: 0.9367 - accuracy: 0.6992 - val_loss: 0.9825 - val_accuracy: 0.6920\n",
            "Epoch 18/25\n",
            "2500/2500 [==============================] - 5s 2ms/step - loss: 0.9262 - accuracy: 0.7013 - val_loss: 0.9663 - val_accuracy: 0.6932\n",
            "Epoch 19/25\n",
            "2500/2500 [==============================] - 5s 2ms/step - loss: 0.9192 - accuracy: 0.7035 - val_loss: 0.9747 - val_accuracy: 0.6921\n",
            "Epoch 20/25\n",
            "2500/2500 [==============================] - 5s 2ms/step - loss: 0.9112 - accuracy: 0.7059 - val_loss: 0.9573 - val_accuracy: 0.6948\n",
            "Epoch 21/25\n",
            "2500/2500 [==============================] - 5s 2ms/step - loss: 0.9037 - accuracy: 0.7091 - val_loss: 0.9595 - val_accuracy: 0.6947\n",
            "Epoch 22/25\n",
            "2500/2500 [==============================] - 5s 2ms/step - loss: 0.8986 - accuracy: 0.7088 - val_loss: 0.9686 - val_accuracy: 0.7036\n",
            "Epoch 23/25\n",
            "2500/2500 [==============================] - 5s 2ms/step - loss: 0.8911 - accuracy: 0.7139 - val_loss: 0.9570 - val_accuracy: 0.6988\n",
            "Epoch 24/25\n",
            "2500/2500 [==============================] - 5s 2ms/step - loss: 0.8889 - accuracy: 0.7159 - val_loss: 0.9481 - val_accuracy: 0.7064\n",
            "Epoch 25/25\n",
            "2500/2500 [==============================] - 5s 2ms/step - loss: 0.8789 - accuracy: 0.7198 - val_loss: 0.9468 - val_accuracy: 0.7120\n"
          ],
          "name": "stdout"
        }
      ]
    },
    {
      "cell_type": "code",
      "metadata": {
        "id": "I05h9JMfXhc8",
        "colab_type": "code",
        "colab": {}
      },
      "source": [
        "import seaborn as sns\n",
        "import pandas as pd\n",
        "\n",
        "batch_sizes = []\n",
        "\n",
        "for exp, result in zip([lr_default, lr_0001, lr_75, lr], [\".01_\", \".0001_\", \".75_\"]):\n",
        "\n",
        "  df = pd.DataFrame.from_dict(exp.history)\n",
        "  df['epoch'] = df.index.values\n",
        "  df['Learning Rate'] = result\n",
        "\n",
        "  batch_sizes.append(df)\n",
        "\n",
        "df = pd.concat(batch_sizes)\n",
        "df['Learning Rate'] = df['Learning Rate'].astype('str')\n",
        "df.head()"
      ],
      "execution_count": null,
      "outputs": []
    },
    {
      "cell_type": "markdown",
      "metadata": {
        "id": "gxMtSRhV9Q7I",
        "colab_type": "text"
      },
      "source": [
        "### Experiment with different Optimizers\n",
        "* Run 5 experiments with various optimizers available in TensorFlow. See list [here](https://www.tensorflow.org/api_docs/python/tf/keras/optimizers)\n",
        "* Visualize the results\n",
        "* Write up an analysis of the experiments and select the \"best\" performing model among your experiments. Make sure to compare against the previous experiments and your model's performance yesterday.\n",
        "* Repeat the experiment combining Learning Rate and different optimizers. Does the best performing model change? "
      ]
    },
    {
      "cell_type": "code",
      "metadata": {
        "id": "ujLuzdNA91ip",
        "colab_type": "code",
        "colab": {}
      },
      "source": [
        ""
      ],
      "execution_count": 34,
      "outputs": []
    },
    {
      "cell_type": "markdown",
      "metadata": {
        "id": "ydAqeY9S8uHA",
        "colab_type": "text"
      },
      "source": [
        "### Additional Written Tasks\n",
        "\n",
        "1. Describe the process of backpropagation in your own words: \n",
        "```\n",
        "Your answer goes here.\n",
        "```\n",
        "\n"
      ]
    },
    {
      "cell_type": "markdown",
      "metadata": {
        "colab_type": "text",
        "id": "FwlRJSfBlCvy"
      },
      "source": [
        "## Stretch Goals: \n",
        "\n",
        "- Implement GridSearch on anyone of the experiments\n",
        "- On the learning rate experiments, implement [EarlyStopping](https://www.tensorflow.org/api_docs/python/tf/keras/callbacks/EarlyStopping)\n",
        "- Review material on the math behind gradient descent: \n",
        "\n",
        "  - Gradient Descent\n",
        "    - Gradient Descent, Step-by-Step  by StatQuest w/ Josh Starmer. This will help you understand the gradient descent based optimization that happens underneath the hood of neural networks. It uses a non-neural network example, which I believe is a gentler introduction. You will hear me refer to this technique as \"vanilla\" gradient descent. \n",
        "    - Stochastic Gradient Descent, Clearly Explained!!! by StatQuest w/ Josh Starmer. This builds on the techniques in the previous video.  This technique is the one that is actually implemented inside modern 'nets. \n",
        "These are great resources to help you understand tomorrow's material at a deeper level. I highly recommend watching these ahead of tomorrow.\n",
        "\n",
        "  - Background Math\n",
        "    - Dot products and duality by 3Blue1Brown. Explains the core linear algebra operation happening in today's perceptron.\n",
        "The paradox of the derivative by 3Blue1Brown. Does a great job explaining a derivative. \n",
        "    - Visualizing the chain rule and product rule by 3Blue1Brown. Explains the black magic that happens within Stochastic Gradient Descent. \n",
        "These math resources are very much optional. They can be very heady, but I encourage you to explore. Your understanding of neural networks will greatly increase if you understand this math background.\n",
        "\n",
        "\n"
      ]
    }
  ]
}