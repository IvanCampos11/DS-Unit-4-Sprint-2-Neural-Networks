{
  "nbformat": 4,
  "nbformat_minor": 0,
  "metadata": {
    "colab": {
      "name": "LS_DS_432_Train_Assignment.ipynb",
      "provenance": [],
      "collapsed_sections": [],
      "include_colab_link": true
    },
    "kernelspec": {
      "display_name": "Python 3",
      "language": "python",
      "name": "python3"
    },
    "language_info": {
      "codemirror_mode": {
        "name": "ipython",
        "version": 3
      },
      "file_extension": ".py",
      "mimetype": "text/x-python",
      "name": "python",
      "nbconvert_exporter": "python",
      "pygments_lexer": "ipython3",
      "version": "3.7.3"
    },
    "nteract": {
      "version": "0.22.4"
    },
    "accelerator": "GPU"
  },
  "cells": [
    {
      "cell_type": "markdown",
      "metadata": {
        "id": "view-in-github",
        "colab_type": "text"
      },
      "source": [
        "<a href=\"https://colab.research.google.com/github/IvanCampos11/DS-Unit-4-Sprint-2-Neural-Networks/blob/main/module2-Train/LS_DS_432_Train_Assignment.ipynb\" target=\"_parent\"><img src=\"https://colab.research.google.com/assets/colab-badge.svg\" alt=\"Open In Colab\"/></a>"
      ]
    },
    {
      "cell_type": "markdown",
      "metadata": {
        "colab_type": "text",
        "id": "NGGrt9EYlCqY"
      },
      "source": [
        "<img align=\"left\" src=\"https://lever-client-logos.s3.amazonaws.com/864372b1-534c-480e-acd5-9711f850815c-1524247202159.png\" width=200>\n",
        "<br></br>\n",
        "<br></br>\n",
        "\n",
        "# Train Practice\n",
        "\n",
        "## *Data Science Unit 4 Sprint 2 Assignment 2*\n",
        "\n",
        "Continue to use TensorFlow Keras & a sample of the [Quickdraw dataset](https://github.com/googlecreativelab/quickdraw-dataset) to build a sketch classification model. The dataset has been sampled to only 10 classes and 10000 observations per class. Please build a baseline classification model then run a few experiments with different optimizers and learning rates. \n",
        "\n",
        "*Don't forgot to switch to GPU on Colab!*"
      ]
    },
    {
      "cell_type": "markdown",
      "metadata": {
        "id": "ptJ2b3wk62Ud",
        "colab_type": "text"
      },
      "source": [
        "### Write a function to load your data\n",
        "\n",
        "Wrap yesterday's preprocessing steps into a function that returns four items:\n",
        "* X_train\n",
        "* y_train\n",
        "* X_test\n",
        "* y_test\n",
        "\n",
        "Your function should accept a `path` to the data as a argument."
      ]
    },
    {
      "cell_type": "code",
      "metadata": {
        "id": "-WE5AvkiwXq5",
        "colab_type": "code",
        "colab": {}
      },
      "source": [
        "from sklearn.model_selection import train_test_split\n",
        "import pandas as pd\n",
        "import numpy as np\n",
        "from sklearn.utils import shuffle"
      ],
      "execution_count": null,
      "outputs": []
    },
    {
      "cell_type": "code",
      "metadata": {
        "id": "nJsIsrvp7O3e",
        "colab_type": "code",
        "colab": {}
      },
      "source": [
        "def load_quickdraw10(path):\n",
        "  data = np.load(path)\n",
        "  X = data['arr_0']\n",
        "  y = data['arr_1']\n",
        "  X, y = shuffle(X, y)\n",
        "\n",
        "\n",
        "  X_train, X_test, y_train, y_test = train_test_split(X, y, test_size= 0.2)\n",
        "\n",
        "  return X_train, y_train, X_test, y_test"
      ],
      "execution_count": null,
      "outputs": []
    },
    {
      "cell_type": "code",
      "metadata": {
        "id": "X96C_38Fyzip",
        "colab_type": "code",
        "colab": {}
      },
      "source": [
        "X_train, y_train, X_test, y_test = load_quickdraw10('quickdraw10.npz')"
      ],
      "execution_count": null,
      "outputs": []
    },
    {
      "cell_type": "markdown",
      "metadata": {
        "id": "l-6PxI6H5__2",
        "colab_type": "text"
      },
      "source": [
        "### Write a Model Function\n",
        "Using your model from yesterday, write a function called `create_model` which returns a compiled TensorFlow Keras Sequential Model suitable for classifying the QuickDraw-10 dataset. Include parameters for the following: \n",
        "* Learning Rate\n",
        "* Optimizer"
      ]
    },
    {
      "cell_type": "code",
      "metadata": {
        "id": "SJu5uN90ykT9",
        "colab_type": "code",
        "colab": {}
      },
      "source": [
        "from tensorflow.keras import Sequential\n",
        "from tensorflow.keras.layers import Dense\n",
        "from tensorflow.keras.optimizers import SGD"
      ],
      "execution_count": null,
      "outputs": []
    },
    {
      "cell_type": "code",
      "metadata": {
        "colab_type": "code",
        "id": "nEREYT-3wI1f",
        "colab": {}
      },
      "source": [
        "##### Your Code Here #####\n",
        "\n",
        "def create_model(lr=.01):\n",
        "  opt = SGD(learning_rate=lr)\n",
        "\n",
        "  model = Sequential(\n",
        "      [\n",
        "       Dense(32, activation='relu', input_dim=784),\n",
        "       Dense(32, activation='relu'),\n",
        "       Dense(10, activation='softmax')       \n",
        "      ]\n",
        ")\n",
        "  model.compile(optimizer=opt, loss='sparse_categorical_crossentropy',\n",
        "                metrics=['accuracy'])\n",
        "  return model"
      ],
      "execution_count": null,
      "outputs": []
    },
    {
      "cell_type": "code",
      "metadata": {
        "id": "JGeSPSMJ1BvD",
        "colab_type": "code",
        "colab": {}
      },
      "source": [
        "quickdraw_model = create_model()"
      ],
      "execution_count": null,
      "outputs": []
    },
    {
      "cell_type": "code",
      "metadata": {
        "id": "e0B4BB3_1mCe",
        "colab_type": "code",
        "colab": {
          "base_uri": "https://localhost:8080/",
          "height": 255
        },
        "outputId": "29388fa0-144f-4cb0-f7ec-0d0b8d473633"
      },
      "source": [
        "quickdraw_model.summary()"
      ],
      "execution_count": null,
      "outputs": [
        {
          "output_type": "stream",
          "text": [
            "Model: \"sequential_4\"\n",
            "_________________________________________________________________\n",
            "Layer (type)                 Output Shape              Param #   \n",
            "=================================================================\n",
            "dense_12 (Dense)             (None, 32)                25120     \n",
            "_________________________________________________________________\n",
            "dense_13 (Dense)             (None, 32)                1056      \n",
            "_________________________________________________________________\n",
            "dense_14 (Dense)             (None, 10)                330       \n",
            "=================================================================\n",
            "Total params: 26,506\n",
            "Trainable params: 26,506\n",
            "Non-trainable params: 0\n",
            "_________________________________________________________________\n"
          ],
          "name": "stdout"
        }
      ]
    },
    {
      "cell_type": "markdown",
      "metadata": {
        "id": "f0pCkh8C7eGL",
        "colab_type": "text"
      },
      "source": [
        "### Experiment with Batch Size\n",
        "* Run 5 experiments with various batch sizes of your choice. \n",
        "* Visualize the results\n",
        "* Write up an analysis of the experiments and select the \"best\" performing model among your experiments. Make sure to compare against your model's performance yesterday. "
      ]
    },
    {
      "cell_type": "code",
      "metadata": {
        "id": "USXjs7Hk71Hy",
        "colab_type": "code",
        "colab": {
          "base_uri": "https://localhost:8080/",
          "height": 867
        },
        "outputId": "10c74c1f-5a99-4155-f491-f1c3c38ec3ba"
      },
      "source": [
        "quickdraw_model_32 = create_model()\n",
        "\n",
        "bt_default = quickdraw_model_32.fit(X_train, y_train,\n",
        "                                epochs=25,\n",
        "                                batch_size=32,\n",
        "                                validation_data=(X_test, y_test))"
      ],
      "execution_count": null,
      "outputs": [
        {
          "output_type": "stream",
          "text": [
            "Epoch 1/25\n",
            "2500/2500 [==============================] - 5s 2ms/step - loss: 28.9007 - accuracy: 0.0988 - val_loss: 2.3332 - val_accuracy: 0.1000\n",
            "Epoch 2/25\n",
            "2500/2500 [==============================] - 5s 2ms/step - loss: 2.3146 - accuracy: 0.1007 - val_loss: 2.3222 - val_accuracy: 0.0966\n",
            "Epoch 3/25\n",
            "2500/2500 [==============================] - 5s 2ms/step - loss: 2.3026 - accuracy: 0.0984 - val_loss: 2.3221 - val_accuracy: 0.0985\n",
            "Epoch 4/25\n",
            "2500/2500 [==============================] - 5s 2ms/step - loss: 2.3026 - accuracy: 0.0997 - val_loss: 2.3221 - val_accuracy: 0.0966\n",
            "Epoch 5/25\n",
            "2500/2500 [==============================] - 5s 2ms/step - loss: 2.3026 - accuracy: 0.0995 - val_loss: 2.3220 - val_accuracy: 0.0985\n",
            "Epoch 6/25\n",
            "2500/2500 [==============================] - 5s 2ms/step - loss: 2.3026 - accuracy: 0.0991 - val_loss: 2.3220 - val_accuracy: 0.1009\n",
            "Epoch 7/25\n",
            "2500/2500 [==============================] - 6s 2ms/step - loss: 2.3026 - accuracy: 0.0987 - val_loss: 2.3221 - val_accuracy: 0.0984\n",
            "Epoch 8/25\n",
            "2500/2500 [==============================] - 5s 2ms/step - loss: 2.3026 - accuracy: 0.0994 - val_loss: 2.3221 - val_accuracy: 0.0984\n",
            "Epoch 9/25\n",
            "2500/2500 [==============================] - 5s 2ms/step - loss: 2.3026 - accuracy: 0.0984 - val_loss: 2.3220 - val_accuracy: 0.0966\n",
            "Epoch 10/25\n",
            "2500/2500 [==============================] - 5s 2ms/step - loss: 2.3026 - accuracy: 0.0997 - val_loss: 2.3220 - val_accuracy: 0.0983\n",
            "Epoch 11/25\n",
            "2500/2500 [==============================] - 5s 2ms/step - loss: 2.3026 - accuracy: 0.0994 - val_loss: 2.3222 - val_accuracy: 0.0985\n",
            "Epoch 12/25\n",
            "2500/2500 [==============================] - 5s 2ms/step - loss: 2.3026 - accuracy: 0.0988 - val_loss: 2.3221 - val_accuracy: 0.0966\n",
            "Epoch 13/25\n",
            "2500/2500 [==============================] - 5s 2ms/step - loss: 2.3026 - accuracy: 0.1001 - val_loss: 2.3222 - val_accuracy: 0.0985\n",
            "Epoch 14/25\n",
            "2500/2500 [==============================] - 5s 2ms/step - loss: 2.3026 - accuracy: 0.0990 - val_loss: 2.3220 - val_accuracy: 0.0983\n",
            "Epoch 15/25\n",
            "2500/2500 [==============================] - 5s 2ms/step - loss: 2.3026 - accuracy: 0.0986 - val_loss: 2.3221 - val_accuracy: 0.0984\n",
            "Epoch 16/25\n",
            "2500/2500 [==============================] - 5s 2ms/step - loss: 2.3026 - accuracy: 0.0993 - val_loss: 2.3220 - val_accuracy: 0.0985\n",
            "Epoch 17/25\n",
            "2500/2500 [==============================] - 5s 2ms/step - loss: 2.3026 - accuracy: 0.0993 - val_loss: 2.3220 - val_accuracy: 0.0983\n",
            "Epoch 18/25\n",
            "2500/2500 [==============================] - 5s 2ms/step - loss: 2.3026 - accuracy: 0.0991 - val_loss: 2.3220 - val_accuracy: 0.1009\n",
            "Epoch 19/25\n",
            "2500/2500 [==============================] - 5s 2ms/step - loss: 2.3026 - accuracy: 0.1002 - val_loss: 2.3221 - val_accuracy: 0.0984\n",
            "Epoch 20/25\n",
            "2500/2500 [==============================] - 5s 2ms/step - loss: 2.3026 - accuracy: 0.1001 - val_loss: 2.3221 - val_accuracy: 0.0966\n",
            "Epoch 21/25\n",
            "2500/2500 [==============================] - 5s 2ms/step - loss: 2.3026 - accuracy: 0.0987 - val_loss: 2.3221 - val_accuracy: 0.0966\n",
            "Epoch 22/25\n",
            "2500/2500 [==============================] - 5s 2ms/step - loss: 2.3026 - accuracy: 0.0989 - val_loss: 2.3220 - val_accuracy: 0.0985\n",
            "Epoch 23/25\n",
            "2500/2500 [==============================] - 5s 2ms/step - loss: 2.3026 - accuracy: 0.0989 - val_loss: 2.3219 - val_accuracy: 0.1000\n",
            "Epoch 24/25\n",
            "2500/2500 [==============================] - 5s 2ms/step - loss: 2.3026 - accuracy: 0.0983 - val_loss: 2.3220 - val_accuracy: 0.0966\n",
            "Epoch 25/25\n",
            "2500/2500 [==============================] - 5s 2ms/step - loss: 2.3026 - accuracy: 0.0986 - val_loss: 2.3221 - val_accuracy: 0.1000\n"
          ],
          "name": "stdout"
        }
      ]
    },
    {
      "cell_type": "code",
      "metadata": {
        "id": "y681NdgB2_QH",
        "colab_type": "code",
        "colab": {
          "base_uri": "https://localhost:8080/",
          "height": 867
        },
        "outputId": "9a611548-0ea4-437f-bbc0-fc17ae5f770d"
      },
      "source": [
        "quickdraw_model_8 = create_model()\n",
        "\n",
        "bt_8 = quickdraw_model_8.fit(X_train, y_train,\n",
        "                                epochs=25,\n",
        "                                batch_size=8,\n",
        "                                validation_data=(X_test, y_test))"
      ],
      "execution_count": null,
      "outputs": [
        {
          "output_type": "stream",
          "text": [
            "Epoch 1/25\n",
            "10000/10000 [==============================] - 20s 2ms/step - loss: 12.9347 - accuracy: 0.0979 - val_loss: 2.3265 - val_accuracy: 0.1001\n",
            "Epoch 2/25\n",
            "10000/10000 [==============================] - 21s 2ms/step - loss: 2.6564 - accuracy: 0.0987 - val_loss: 2.3269 - val_accuracy: 0.0983\n",
            "Epoch 3/25\n",
            "10000/10000 [==============================] - 22s 2ms/step - loss: 2.3029 - accuracy: 0.0996 - val_loss: 2.3266 - val_accuracy: 0.0966\n",
            "Epoch 4/25\n",
            "10000/10000 [==============================] - 20s 2ms/step - loss: 2.3029 - accuracy: 0.1002 - val_loss: 2.3267 - val_accuracy: 0.0984\n",
            "Epoch 5/25\n",
            "10000/10000 [==============================] - 20s 2ms/step - loss: 2.3028 - accuracy: 0.1011 - val_loss: 2.3265 - val_accuracy: 0.1000\n",
            "Epoch 6/25\n",
            "10000/10000 [==============================] - 21s 2ms/step - loss: 2.3029 - accuracy: 0.0988 - val_loss: 2.3265 - val_accuracy: 0.0984\n",
            "Epoch 7/25\n",
            "10000/10000 [==============================] - 20s 2ms/step - loss: 2.3028 - accuracy: 0.1011 - val_loss: 2.3266 - val_accuracy: 0.1008\n",
            "Epoch 8/25\n",
            "10000/10000 [==============================] - 20s 2ms/step - loss: 2.3029 - accuracy: 0.1001 - val_loss: 2.3267 - val_accuracy: 0.0983\n",
            "Epoch 9/25\n",
            "10000/10000 [==============================] - 20s 2ms/step - loss: 2.3029 - accuracy: 0.1000 - val_loss: 2.3266 - val_accuracy: 0.1000\n",
            "Epoch 10/25\n",
            "10000/10000 [==============================] - 21s 2ms/step - loss: 2.3029 - accuracy: 0.0988 - val_loss: 2.3263 - val_accuracy: 0.1015\n",
            "Epoch 11/25\n",
            "10000/10000 [==============================] - 20s 2ms/step - loss: 2.3029 - accuracy: 0.0992 - val_loss: 2.3270 - val_accuracy: 0.0966\n",
            "Epoch 12/25\n",
            "10000/10000 [==============================] - 21s 2ms/step - loss: 2.3029 - accuracy: 0.1003 - val_loss: 2.3266 - val_accuracy: 0.1008\n",
            "Epoch 13/25\n",
            "10000/10000 [==============================] - 21s 2ms/step - loss: 2.3029 - accuracy: 0.0987 - val_loss: 2.3263 - val_accuracy: 0.1001\n",
            "Epoch 14/25\n",
            "10000/10000 [==============================] - 20s 2ms/step - loss: 2.3028 - accuracy: 0.0980 - val_loss: 2.3264 - val_accuracy: 0.1000\n",
            "Epoch 15/25\n",
            "10000/10000 [==============================] - 20s 2ms/step - loss: 2.3029 - accuracy: 0.1002 - val_loss: 2.3266 - val_accuracy: 0.0984\n",
            "Epoch 16/25\n",
            "10000/10000 [==============================] - 20s 2ms/step - loss: 2.3029 - accuracy: 0.1004 - val_loss: 2.3263 - val_accuracy: 0.1008\n",
            "Epoch 17/25\n",
            "10000/10000 [==============================] - 20s 2ms/step - loss: 2.3029 - accuracy: 0.1003 - val_loss: 2.3266 - val_accuracy: 0.0966\n",
            "Epoch 18/25\n",
            "10000/10000 [==============================] - 22s 2ms/step - loss: 2.3029 - accuracy: 0.0987 - val_loss: 2.3264 - val_accuracy: 0.1015\n",
            "Epoch 19/25\n",
            "10000/10000 [==============================] - 20s 2ms/step - loss: 2.3029 - accuracy: 0.0983 - val_loss: 2.3266 - val_accuracy: 0.0983\n",
            "Epoch 20/25\n",
            "10000/10000 [==============================] - 21s 2ms/step - loss: 2.3029 - accuracy: 0.0989 - val_loss: 2.3266 - val_accuracy: 0.0966\n",
            "Epoch 21/25\n",
            "10000/10000 [==============================] - 21s 2ms/step - loss: 2.3029 - accuracy: 0.1006 - val_loss: 2.3265 - val_accuracy: 0.0984\n",
            "Epoch 22/25\n",
            "10000/10000 [==============================] - 21s 2ms/step - loss: 2.3029 - accuracy: 0.1001 - val_loss: 2.3267 - val_accuracy: 0.0984\n",
            "Epoch 23/25\n",
            "10000/10000 [==============================] - 20s 2ms/step - loss: 2.3028 - accuracy: 0.1020 - val_loss: 2.3263 - val_accuracy: 0.1001\n",
            "Epoch 24/25\n",
            "10000/10000 [==============================] - 20s 2ms/step - loss: 2.3029 - accuracy: 0.0981 - val_loss: 2.3268 - val_accuracy: 0.0966\n",
            "Epoch 25/25\n",
            "10000/10000 [==============================] - 20s 2ms/step - loss: 2.3028 - accuracy: 0.1003 - val_loss: 2.3266 - val_accuracy: 0.1015\n"
          ],
          "name": "stdout"
        }
      ]
    },
    {
      "cell_type": "code",
      "metadata": {
        "id": "UIcYnOyH2_zv",
        "colab_type": "code",
        "colab": {
          "base_uri": "https://localhost:8080/",
          "height": 867
        },
        "outputId": "6be64c1a-af8e-4a87-b8cb-9f4d27e3ae27"
      },
      "source": [
        "quickdraw_model_16 = create_model()\n",
        "\n",
        "bt_16 = quickdraw_model_16.fit(X_train, y_train,\n",
        "                                epochs=25,\n",
        "                                batch_size=16,\n",
        "                                validation_data=(X_test, y_test))"
      ],
      "execution_count": null,
      "outputs": [
        {
          "output_type": "stream",
          "text": [
            "Epoch 1/25\n",
            "5000/5000 [==============================] - 11s 2ms/step - loss: 3.0887 - accuracy: 0.0975 - val_loss: 2.3065 - val_accuracy: 0.0983\n",
            "Epoch 2/25\n",
            "5000/5000 [==============================] - 10s 2ms/step - loss: 2.3042 - accuracy: 0.0994 - val_loss: 2.3053 - val_accuracy: 0.0984\n",
            "Epoch 3/25\n",
            "5000/5000 [==============================] - 10s 2ms/step - loss: 2.3027 - accuracy: 0.0979 - val_loss: 2.3054 - val_accuracy: 0.0966\n",
            "Epoch 4/25\n",
            "5000/5000 [==============================] - 11s 2ms/step - loss: 2.3027 - accuracy: 0.0986 - val_loss: 2.3054 - val_accuracy: 0.0984\n",
            "Epoch 5/25\n",
            "5000/5000 [==============================] - 10s 2ms/step - loss: 2.3027 - accuracy: 0.0998 - val_loss: 2.3050 - val_accuracy: 0.1015\n",
            "Epoch 6/25\n",
            "5000/5000 [==============================] - 10s 2ms/step - loss: 2.3027 - accuracy: 0.0997 - val_loss: 2.3051 - val_accuracy: 0.1001\n",
            "Epoch 7/25\n",
            "5000/5000 [==============================] - 10s 2ms/step - loss: 2.3026 - accuracy: 0.0997 - val_loss: 2.3050 - val_accuracy: 0.0985\n",
            "Epoch 8/25\n",
            "5000/5000 [==============================] - 10s 2ms/step - loss: 2.3026 - accuracy: 0.0991 - val_loss: 2.3051 - val_accuracy: 0.1001\n",
            "Epoch 9/25\n",
            "5000/5000 [==============================] - 10s 2ms/step - loss: 2.3026 - accuracy: 0.0991 - val_loss: 2.3051 - val_accuracy: 0.0984\n",
            "Epoch 10/25\n",
            "5000/5000 [==============================] - 10s 2ms/step - loss: 2.3026 - accuracy: 0.1017 - val_loss: 2.3052 - val_accuracy: 0.1001\n",
            "Epoch 11/25\n",
            "5000/5000 [==============================] - 11s 2ms/step - loss: 2.3027 - accuracy: 0.0971 - val_loss: 2.3052 - val_accuracy: 0.1009\n",
            "Epoch 12/25\n",
            "5000/5000 [==============================] - 11s 2ms/step - loss: 2.3026 - accuracy: 0.0996 - val_loss: 2.3055 - val_accuracy: 0.0966\n",
            "Epoch 13/25\n",
            "5000/5000 [==============================] - 11s 2ms/step - loss: 2.3026 - accuracy: 0.0997 - val_loss: 2.3051 - val_accuracy: 0.0984\n",
            "Epoch 14/25\n",
            "5000/5000 [==============================] - 10s 2ms/step - loss: 2.3027 - accuracy: 0.1008 - val_loss: 2.3052 - val_accuracy: 0.0984\n",
            "Epoch 15/25\n",
            "5000/5000 [==============================] - 11s 2ms/step - loss: 2.3026 - accuracy: 0.0999 - val_loss: 2.3052 - val_accuracy: 0.1001\n",
            "Epoch 16/25\n",
            "5000/5000 [==============================] - 12s 2ms/step - loss: 2.3026 - accuracy: 0.1001 - val_loss: 2.3052 - val_accuracy: 0.1009\n",
            "Epoch 17/25\n",
            "5000/5000 [==============================] - 11s 2ms/step - loss: 2.3026 - accuracy: 0.0992 - val_loss: 2.3052 - val_accuracy: 0.1001\n",
            "Epoch 18/25\n",
            "5000/5000 [==============================] - 10s 2ms/step - loss: 2.3026 - accuracy: 0.0983 - val_loss: 2.3054 - val_accuracy: 0.0984\n",
            "Epoch 19/25\n",
            "5000/5000 [==============================] - 10s 2ms/step - loss: 2.3026 - accuracy: 0.0991 - val_loss: 2.3049 - val_accuracy: 0.1044\n",
            "Epoch 20/25\n",
            "5000/5000 [==============================] - 10s 2ms/step - loss: 2.3026 - accuracy: 0.0984 - val_loss: 2.3053 - val_accuracy: 0.1001\n",
            "Epoch 21/25\n",
            "5000/5000 [==============================] - 10s 2ms/step - loss: 2.3027 - accuracy: 0.0992 - val_loss: 2.3052 - val_accuracy: 0.0984\n",
            "Epoch 22/25\n",
            "5000/5000 [==============================] - 10s 2ms/step - loss: 2.3026 - accuracy: 0.0995 - val_loss: 2.3052 - val_accuracy: 0.0966\n",
            "Epoch 23/25\n",
            "5000/5000 [==============================] - 11s 2ms/step - loss: 2.3026 - accuracy: 0.0991 - val_loss: 2.3053 - val_accuracy: 0.0966\n",
            "Epoch 24/25\n",
            "5000/5000 [==============================] - 10s 2ms/step - loss: 2.3026 - accuracy: 0.1003 - val_loss: 2.3055 - val_accuracy: 0.0966\n",
            "Epoch 25/25\n",
            "5000/5000 [==============================] - 10s 2ms/step - loss: 2.3027 - accuracy: 0.0987 - val_loss: 2.3053 - val_accuracy: 0.0985\n"
          ],
          "name": "stdout"
        }
      ]
    },
    {
      "cell_type": "code",
      "metadata": {
        "id": "oQqDGMUe2_7y",
        "colab_type": "code",
        "colab": {
          "base_uri": "https://localhost:8080/",
          "height": 867
        },
        "outputId": "2010412a-1fd7-49d5-c5bd-377555392779"
      },
      "source": [
        "quickdraw_model_512 = create_model()\n",
        "\n",
        "bt_512 = quickdraw_model_512.fit(X_train, y_train,\n",
        "                                epochs=25,\n",
        "                                batch_size=512,\n",
        "                                validation_data=(X_test, y_test))"
      ],
      "execution_count": null,
      "outputs": [
        {
          "output_type": "stream",
          "text": [
            "Epoch 1/25\n",
            "157/157 [==============================] - 1s 4ms/step - loss: 45.4643 - accuracy: 0.1001 - val_loss: 2.3053 - val_accuracy: 0.0966\n",
            "Epoch 2/25\n",
            "157/157 [==============================] - 0s 3ms/step - loss: 2.3045 - accuracy: 0.1009 - val_loss: 2.3053 - val_accuracy: 0.0966\n",
            "Epoch 3/25\n",
            "157/157 [==============================] - 0s 3ms/step - loss: 2.3032 - accuracy: 0.1009 - val_loss: 2.3053 - val_accuracy: 0.0966\n",
            "Epoch 4/25\n",
            "157/157 [==============================] - 0s 3ms/step - loss: 2.3034 - accuracy: 0.1009 - val_loss: 2.3053 - val_accuracy: 0.0966\n",
            "Epoch 5/25\n",
            "157/157 [==============================] - 0s 3ms/step - loss: 2.3033 - accuracy: 0.1009 - val_loss: 2.3053 - val_accuracy: 0.0966\n",
            "Epoch 6/25\n",
            "157/157 [==============================] - 0s 3ms/step - loss: 2.3031 - accuracy: 0.1009 - val_loss: 2.3054 - val_accuracy: 0.0966\n",
            "Epoch 7/25\n",
            "157/157 [==============================] - 0s 3ms/step - loss: 2.3029 - accuracy: 0.1009 - val_loss: 2.3054 - val_accuracy: 0.0966\n",
            "Epoch 8/25\n",
            "157/157 [==============================] - 0s 3ms/step - loss: 2.3029 - accuracy: 0.1009 - val_loss: 2.3054 - val_accuracy: 0.0966\n",
            "Epoch 9/25\n",
            "157/157 [==============================] - 0s 3ms/step - loss: 2.3028 - accuracy: 0.1009 - val_loss: 2.3054 - val_accuracy: 0.0966\n",
            "Epoch 10/25\n",
            "157/157 [==============================] - 0s 3ms/step - loss: 2.3027 - accuracy: 0.1009 - val_loss: 2.3054 - val_accuracy: 0.0966\n",
            "Epoch 11/25\n",
            "157/157 [==============================] - 0s 3ms/step - loss: 2.3028 - accuracy: 0.1009 - val_loss: 2.3054 - val_accuracy: 0.0966\n",
            "Epoch 12/25\n",
            "157/157 [==============================] - 0s 3ms/step - loss: 2.3027 - accuracy: 0.1009 - val_loss: 2.3054 - val_accuracy: 0.0966\n",
            "Epoch 13/25\n",
            "157/157 [==============================] - 0s 3ms/step - loss: 2.3027 - accuracy: 0.1009 - val_loss: 2.3054 - val_accuracy: 0.0966\n",
            "Epoch 14/25\n",
            "157/157 [==============================] - 0s 3ms/step - loss: 2.3027 - accuracy: 0.1009 - val_loss: 2.3054 - val_accuracy: 0.0966\n",
            "Epoch 15/25\n",
            "157/157 [==============================] - 0s 3ms/step - loss: 2.3027 - accuracy: 0.1009 - val_loss: 2.3054 - val_accuracy: 0.0966\n",
            "Epoch 16/25\n",
            "157/157 [==============================] - 0s 3ms/step - loss: 2.3027 - accuracy: 0.1009 - val_loss: 2.3054 - val_accuracy: 0.0966\n",
            "Epoch 17/25\n",
            "157/157 [==============================] - 0s 3ms/step - loss: 2.3027 - accuracy: 0.1009 - val_loss: 2.3054 - val_accuracy: 0.0966\n",
            "Epoch 18/25\n",
            "157/157 [==============================] - 0s 3ms/step - loss: 2.3027 - accuracy: 0.1009 - val_loss: 2.3054 - val_accuracy: 0.0966\n",
            "Epoch 19/25\n",
            "157/157 [==============================] - 0s 3ms/step - loss: 2.3026 - accuracy: 0.1009 - val_loss: 2.3054 - val_accuracy: 0.0966\n",
            "Epoch 20/25\n",
            "157/157 [==============================] - 1s 3ms/step - loss: 2.3026 - accuracy: 0.1009 - val_loss: 2.3054 - val_accuracy: 0.0966\n",
            "Epoch 21/25\n",
            "157/157 [==============================] - 0s 3ms/step - loss: 2.3026 - accuracy: 0.1009 - val_loss: 2.3054 - val_accuracy: 0.0966\n",
            "Epoch 22/25\n",
            "157/157 [==============================] - 1s 3ms/step - loss: 2.3026 - accuracy: 0.1004 - val_loss: 2.3054 - val_accuracy: 0.0966\n",
            "Epoch 23/25\n",
            "157/157 [==============================] - 0s 3ms/step - loss: 2.3026 - accuracy: 0.1009 - val_loss: 2.3054 - val_accuracy: 0.0966\n",
            "Epoch 24/25\n",
            "157/157 [==============================] - 0s 3ms/step - loss: 2.3026 - accuracy: 0.1009 - val_loss: 2.3054 - val_accuracy: 0.0966\n",
            "Epoch 25/25\n",
            "157/157 [==============================] - 0s 3ms/step - loss: 2.3026 - accuracy: 0.1000 - val_loss: 2.3054 - val_accuracy: 0.0966\n"
          ],
          "name": "stdout"
        }
      ]
    },
    {
      "cell_type": "code",
      "metadata": {
        "id": "JGh-sj3k3A7N",
        "colab_type": "code",
        "colab": {
          "base_uri": "https://localhost:8080/",
          "height": 867
        },
        "outputId": "02057d8d-1671-44f9-8847-ece3902f5388"
      },
      "source": [
        "quickdraw_model_64 = create_model()\n",
        "\n",
        "bt_64 = quickdraw_model_64.fit(X_train, y_train,\n",
        "                                epochs=25,\n",
        "                                batch_size=32,\n",
        "                                validation_data=(X_test, y_test))"
      ],
      "execution_count": null,
      "outputs": [
        {
          "output_type": "stream",
          "text": [
            "Epoch 1/25\n",
            "2500/2500 [==============================] - 5s 2ms/step - loss: 14.9168 - accuracy: 0.1013 - val_loss: 2.3410 - val_accuracy: 0.1009\n",
            "Epoch 2/25\n",
            "2500/2500 [==============================] - 5s 2ms/step - loss: 2.3028 - accuracy: 0.0969 - val_loss: 2.3441 - val_accuracy: 0.0984\n",
            "Epoch 3/25\n",
            "2500/2500 [==============================] - 5s 2ms/step - loss: 2.3027 - accuracy: 0.0995 - val_loss: 2.3449 - val_accuracy: 0.1001\n",
            "Epoch 4/25\n",
            "2500/2500 [==============================] - 5s 2ms/step - loss: 2.3026 - accuracy: 0.0989 - val_loss: 2.3471 - val_accuracy: 0.0983\n",
            "Epoch 5/25\n",
            "2500/2500 [==============================] - 5s 2ms/step - loss: 2.3026 - accuracy: 0.0986 - val_loss: 2.3474 - val_accuracy: 0.0984\n",
            "Epoch 6/25\n",
            "2500/2500 [==============================] - 5s 2ms/step - loss: 2.3026 - accuracy: 0.0989 - val_loss: 2.3475 - val_accuracy: 0.0985\n",
            "Epoch 7/25\n",
            "2500/2500 [==============================] - 5s 2ms/step - loss: 2.3026 - accuracy: 0.1008 - val_loss: 2.3477 - val_accuracy: 0.0966\n",
            "Epoch 8/25\n",
            "2500/2500 [==============================] - 5s 2ms/step - loss: 2.3026 - accuracy: 0.1008 - val_loss: 2.3476 - val_accuracy: 0.1001\n",
            "Epoch 9/25\n",
            "2500/2500 [==============================] - 5s 2ms/step - loss: 2.3026 - accuracy: 0.1000 - val_loss: 2.3478 - val_accuracy: 0.0983\n",
            "Epoch 10/25\n",
            "2500/2500 [==============================] - 5s 2ms/step - loss: 2.3026 - accuracy: 0.1008 - val_loss: 2.3478 - val_accuracy: 0.0966\n",
            "Epoch 11/25\n",
            "2500/2500 [==============================] - 5s 2ms/step - loss: 2.3026 - accuracy: 0.0993 - val_loss: 2.3479 - val_accuracy: 0.1015\n",
            "Epoch 12/25\n",
            "2500/2500 [==============================] - 5s 2ms/step - loss: 2.3026 - accuracy: 0.1003 - val_loss: 2.3480 - val_accuracy: 0.0985\n",
            "Epoch 13/25\n",
            "2500/2500 [==============================] - 5s 2ms/step - loss: 2.3026 - accuracy: 0.0998 - val_loss: 2.3480 - val_accuracy: 0.0985\n",
            "Epoch 14/25\n",
            "2500/2500 [==============================] - 5s 2ms/step - loss: 2.3026 - accuracy: 0.1000 - val_loss: 2.3480 - val_accuracy: 0.0983\n",
            "Epoch 15/25\n",
            "2500/2500 [==============================] - 5s 2ms/step - loss: 2.3026 - accuracy: 0.0998 - val_loss: 2.3481 - val_accuracy: 0.0984\n",
            "Epoch 16/25\n",
            "2500/2500 [==============================] - 5s 2ms/step - loss: 2.3026 - accuracy: 0.0979 - val_loss: 2.3481 - val_accuracy: 0.0985\n",
            "Epoch 17/25\n",
            "2500/2500 [==============================] - 5s 2ms/step - loss: 2.3026 - accuracy: 0.1002 - val_loss: 2.3483 - val_accuracy: 0.0966\n",
            "Epoch 18/25\n",
            "2500/2500 [==============================] - 5s 2ms/step - loss: 2.3026 - accuracy: 0.1008 - val_loss: 2.3483 - val_accuracy: 0.0966\n",
            "Epoch 19/25\n",
            "2500/2500 [==============================] - 5s 2ms/step - loss: 2.3026 - accuracy: 0.0994 - val_loss: 2.3484 - val_accuracy: 0.0966\n",
            "Epoch 20/25\n",
            "2500/2500 [==============================] - 5s 2ms/step - loss: 2.3026 - accuracy: 0.1016 - val_loss: 2.3483 - val_accuracy: 0.0984\n",
            "Epoch 21/25\n",
            "2500/2500 [==============================] - 5s 2ms/step - loss: 2.3026 - accuracy: 0.0998 - val_loss: 2.3484 - val_accuracy: 0.0966\n",
            "Epoch 22/25\n",
            "2500/2500 [==============================] - 5s 2ms/step - loss: 2.3026 - accuracy: 0.0998 - val_loss: 2.3484 - val_accuracy: 0.1015\n",
            "Epoch 23/25\n",
            "2500/2500 [==============================] - 5s 2ms/step - loss: 2.3026 - accuracy: 0.0977 - val_loss: 2.3485 - val_accuracy: 0.0984\n",
            "Epoch 24/25\n",
            "2500/2500 [==============================] - 5s 2ms/step - loss: 2.3026 - accuracy: 0.0996 - val_loss: 2.3484 - val_accuracy: 0.0966\n",
            "Epoch 25/25\n",
            "2500/2500 [==============================] - 5s 2ms/step - loss: 2.3026 - accuracy: 0.1004 - val_loss: 2.3484 - val_accuracy: 0.1001\n"
          ],
          "name": "stdout"
        }
      ]
    },
    {
      "cell_type": "code",
      "metadata": {
        "id": "fiCcFy0sMv4L",
        "colab_type": "code",
        "colab": {
          "base_uri": "https://localhost:8080/",
          "height": 204
        },
        "outputId": "bd3269ca-fcda-494e-85e6-d258b88b2037"
      },
      "source": [
        "import seaborn as sns\n",
        "import pandas as pd\n",
        "\n",
        "batch_sizes = []\n",
        "\n",
        "for exp, result in zip([bt_default, bt_8, bt_512, bt_64, bt_16], [\"32_\", \"8_\", \"512_\", \"64_\", \"16_\"]):\n",
        "\n",
        "  df = pd.DataFrame.from_dict(exp.history)\n",
        "  df['epoch'] = df.index.values\n",
        "  df['Batch Size'] = result\n",
        "\n",
        "  batch_sizes.append(df)\n",
        "\n",
        "df = pd.concat(batch_sizes)\n",
        "df['Batch Size'] = df['Batch Size'].astype('str')\n",
        "df.head()"
      ],
      "execution_count": null,
      "outputs": [
        {
          "output_type": "execute_result",
          "data": {
            "text/html": [
              "<div>\n",
              "<style scoped>\n",
              "    .dataframe tbody tr th:only-of-type {\n",
              "        vertical-align: middle;\n",
              "    }\n",
              "\n",
              "    .dataframe tbody tr th {\n",
              "        vertical-align: top;\n",
              "    }\n",
              "\n",
              "    .dataframe thead th {\n",
              "        text-align: right;\n",
              "    }\n",
              "</style>\n",
              "<table border=\"1\" class=\"dataframe\">\n",
              "  <thead>\n",
              "    <tr style=\"text-align: right;\">\n",
              "      <th></th>\n",
              "      <th>loss</th>\n",
              "      <th>accuracy</th>\n",
              "      <th>val_loss</th>\n",
              "      <th>val_accuracy</th>\n",
              "      <th>epoch</th>\n",
              "      <th>Batch Size</th>\n",
              "    </tr>\n",
              "  </thead>\n",
              "  <tbody>\n",
              "    <tr>\n",
              "      <th>0</th>\n",
              "      <td>11.698858</td>\n",
              "      <td>0.100600</td>\n",
              "      <td>2.306777</td>\n",
              "      <td>0.09835</td>\n",
              "      <td>0</td>\n",
              "      <td>32_</td>\n",
              "    </tr>\n",
              "    <tr>\n",
              "      <th>1</th>\n",
              "      <td>2.346596</td>\n",
              "      <td>0.100150</td>\n",
              "      <td>2.306756</td>\n",
              "      <td>0.09835</td>\n",
              "      <td>1</td>\n",
              "      <td>32_</td>\n",
              "    </tr>\n",
              "    <tr>\n",
              "      <th>2</th>\n",
              "      <td>2.302738</td>\n",
              "      <td>0.100000</td>\n",
              "      <td>2.306798</td>\n",
              "      <td>0.10000</td>\n",
              "      <td>2</td>\n",
              "      <td>32_</td>\n",
              "    </tr>\n",
              "    <tr>\n",
              "      <th>3</th>\n",
              "      <td>2.302564</td>\n",
              "      <td>0.100138</td>\n",
              "      <td>2.306722</td>\n",
              "      <td>0.09660</td>\n",
              "      <td>3</td>\n",
              "      <td>32_</td>\n",
              "    </tr>\n",
              "    <tr>\n",
              "      <th>4</th>\n",
              "      <td>2.302556</td>\n",
              "      <td>0.098937</td>\n",
              "      <td>2.306662</td>\n",
              "      <td>0.09660</td>\n",
              "      <td>4</td>\n",
              "      <td>32_</td>\n",
              "    </tr>\n",
              "  </tbody>\n",
              "</table>\n",
              "</div>"
            ],
            "text/plain": [
              "        loss  accuracy  val_loss  val_accuracy  epoch Batch Size\n",
              "0  11.698858  0.100600  2.306777       0.09835      0        32_\n",
              "1   2.346596  0.100150  2.306756       0.09835      1        32_\n",
              "2   2.302738  0.100000  2.306798       0.10000      2        32_\n",
              "3   2.302564  0.100138  2.306722       0.09660      3        32_\n",
              "4   2.302556  0.098937  2.306662       0.09660      4        32_"
            ]
          },
          "metadata": {
            "tags": []
          },
          "execution_count": 27
        }
      ]
    },
    {
      "cell_type": "code",
      "metadata": {
        "id": "wrOSrlknMwH-",
        "colab_type": "code",
        "colab": {
          "base_uri": "https://localhost:8080/",
          "height": 279
        },
        "outputId": "5006f115-8111-464e-8d13-c12ed0f4f4cf"
      },
      "source": [
        "sns.lineplot(x='epoch', y='val_accuracy', hue='Batch Size', data=df);"
      ],
      "execution_count": null,
      "outputs": [
        {
          "output_type": "display_data",
          "data": {
            "image/png": "[encoded data removed]",
            "text/plain": [
              "<Figure size 432x288 with 1 Axes>"
            ]
          },
          "metadata": {
            "tags": [],
            "needs_background": "light"
          }
        }
      ]
    },
    {
      "cell_type": "code",
      "metadata": {
        "id": "H3Vj0Lm3S2lh",
        "colab_type": "code",
        "colab": {
          "base_uri": "https://localhost:8080/",
          "height": 280
        },
        "outputId": "1061240a-d011-4c03-a224-1a35dcaba690"
      },
      "source": [
        "sns.lineplot(x='epoch', y='val_loss', hue='Batch Size', data=df);"
      ],
      "execution_count": null,
      "outputs": [
        {
          "output_type": "display_data",
          "data": {
            "image/png": "[encoded data removed]",
            "text/plain": [
              "<Figure size 432x288 with 1 Axes>"
            ]
          },
          "metadata": {
            "tags": [],
            "needs_background": "light"
          }
        }
      ]
    },
    {
      "cell_type": "markdown",
      "metadata": {
        "colab_type": "text",
        "id": "8b-r70o8p2Dm"
      },
      "source": [
        "### Experiment with Learning Rate\n",
        "* Run 5 experiments with various learning rate magnitudes: 1, .1, .01, .001, .0001.\n",
        "* Use the \"best\" batch size from the previous experiment\n",
        "* Visualize the results\n",
        "* Write up an analysis of the experiments and select the \"best\" performing model among your experiments. Make sure to compare against the previous experiments and your model's performance yesterday. "
      ]
    },
    {
      "cell_type": "code",
      "metadata": {
        "id": "_SA144xx8Luf",
        "colab_type": "code",
        "colab": {
          "base_uri": "https://localhost:8080/",
          "height": 867
        },
        "outputId": "c06f9393-41c6-41c2-d68d-381f56ae6f33"
      },
      "source": [
        "lr_default = create_model().fit(X_train, y_train,\n",
        "                                epochs=25,\n",
        "                                validation_data=(X_test,y_test)\n",
        ")"
      ],
      "execution_count": null,
      "outputs": [
        {
          "output_type": "stream",
          "text": [
            "Epoch 1/25\n",
            "2500/2500 [==============================] - 5s 2ms/step - loss: 3.4600 - accuracy: 0.0993 - val_loss: 2.3101 - val_accuracy: 0.0984\n",
            "Epoch 2/25\n",
            "2500/2500 [==============================] - 5s 2ms/step - loss: 2.3043 - accuracy: 0.0999 - val_loss: 2.3100 - val_accuracy: 0.1015\n",
            "Epoch 3/25\n",
            "2500/2500 [==============================] - 5s 2ms/step - loss: 2.3028 - accuracy: 0.0995 - val_loss: 2.3101 - val_accuracy: 0.1001\n",
            "Epoch 4/25\n",
            "2500/2500 [==============================] - 5s 2ms/step - loss: 2.3028 - accuracy: 0.0986 - val_loss: 2.3100 - val_accuracy: 0.0984\n",
            "Epoch 5/25\n",
            "2500/2500 [==============================] - 5s 2ms/step - loss: 2.3029 - accuracy: 0.1007 - val_loss: 2.3100 - val_accuracy: 0.0966\n",
            "Epoch 6/25\n",
            "2500/2500 [==============================] - 6s 2ms/step - loss: 2.3026 - accuracy: 0.0993 - val_loss: 2.3100 - val_accuracy: 0.1015\n",
            "Epoch 7/25\n",
            "2500/2500 [==============================] - 6s 2ms/step - loss: 2.3026 - accuracy: 0.1013 - val_loss: 2.3102 - val_accuracy: 0.0984\n",
            "Epoch 8/25\n",
            "2500/2500 [==============================] - 5s 2ms/step - loss: 2.3027 - accuracy: 0.0984 - val_loss: 2.3101 - val_accuracy: 0.0984\n",
            "Epoch 9/25\n",
            "2500/2500 [==============================] - 5s 2ms/step - loss: 2.3026 - accuracy: 0.0979 - val_loss: 2.3100 - val_accuracy: 0.1015\n",
            "Epoch 10/25\n",
            "2500/2500 [==============================] - 5s 2ms/step - loss: 2.3026 - accuracy: 0.0993 - val_loss: 2.3101 - val_accuracy: 0.0985\n",
            "Epoch 11/25\n",
            "2500/2500 [==============================] - 5s 2ms/step - loss: 2.3026 - accuracy: 0.0997 - val_loss: 2.3101 - val_accuracy: 0.0985\n",
            "Epoch 12/25\n",
            "2500/2500 [==============================] - 5s 2ms/step - loss: 2.3026 - accuracy: 0.0979 - val_loss: 2.3100 - val_accuracy: 0.0966\n",
            "Epoch 13/25\n",
            "2500/2500 [==============================] - 5s 2ms/step - loss: 2.3026 - accuracy: 0.1004 - val_loss: 2.3101 - val_accuracy: 0.0985\n",
            "Epoch 14/25\n",
            "2500/2500 [==============================] - 5s 2ms/step - loss: 2.3026 - accuracy: 0.0994 - val_loss: 2.3100 - val_accuracy: 0.0984\n",
            "Epoch 15/25\n",
            "2500/2500 [==============================] - 5s 2ms/step - loss: 2.3026 - accuracy: 0.0994 - val_loss: 2.3102 - val_accuracy: 0.0985\n",
            "Epoch 16/25\n",
            "2500/2500 [==============================] - 5s 2ms/step - loss: 2.3026 - accuracy: 0.0989 - val_loss: 2.3101 - val_accuracy: 0.0984\n",
            "Epoch 17/25\n",
            "2500/2500 [==============================] - 5s 2ms/step - loss: 2.3026 - accuracy: 0.1001 - val_loss: 2.3101 - val_accuracy: 0.0985\n",
            "Epoch 18/25\n",
            "2500/2500 [==============================] - 5s 2ms/step - loss: 2.3026 - accuracy: 0.1006 - val_loss: 2.3101 - val_accuracy: 0.0985\n",
            "Epoch 19/25\n",
            "2500/2500 [==============================] - 5s 2ms/step - loss: 2.3026 - accuracy: 0.0992 - val_loss: 2.3101 - val_accuracy: 0.0984\n",
            "Epoch 20/25\n",
            "2500/2500 [==============================] - 5s 2ms/step - loss: 2.3026 - accuracy: 0.0991 - val_loss: 2.3100 - val_accuracy: 0.1001\n",
            "Epoch 21/25\n",
            "2500/2500 [==============================] - 5s 2ms/step - loss: 2.3026 - accuracy: 0.0994 - val_loss: 2.3102 - val_accuracy: 0.0966\n",
            "Epoch 22/25\n",
            "2500/2500 [==============================] - 6s 2ms/step - loss: 2.3026 - accuracy: 0.0987 - val_loss: 2.3101 - val_accuracy: 0.0984\n",
            "Epoch 23/25\n",
            "2500/2500 [==============================] - 5s 2ms/step - loss: 2.3026 - accuracy: 0.0988 - val_loss: 2.3101 - val_accuracy: 0.0966\n",
            "Epoch 24/25\n",
            "2500/2500 [==============================] - 5s 2ms/step - loss: 2.3026 - accuracy: 0.0985 - val_loss: 2.3100 - val_accuracy: 0.0984\n",
            "Epoch 25/25\n",
            "2500/2500 [==============================] - 5s 2ms/step - loss: 2.3026 - accuracy: 0.0974 - val_loss: 2.3101 - val_accuracy: 0.0966\n"
          ],
          "name": "stdout"
        }
      ]
    },
    {
      "cell_type": "code",
      "metadata": {
        "id": "_nObF402TBsI",
        "colab_type": "code",
        "colab": {
          "base_uri": "https://localhost:8080/",
          "height": 867
        },
        "outputId": "4d3fe5f0-e517-477c-aace-7a73a7693b37"
      },
      "source": [
        "lr_75 = create_model(lr=.75).fit(X_train, y_train,\n",
        "                                epochs=25,\n",
        "                                validation_data=(X_test,y_test)\n",
        ")"
      ],
      "execution_count": null,
      "outputs": [
        {
          "output_type": "stream",
          "text": [
            "Epoch 1/25\n",
            "2500/2500 [==============================] - 5s 2ms/step - loss: nan - accuracy: 0.0986 - val_loss: nan - val_accuracy: 0.1008\n",
            "Epoch 2/25\n",
            "2500/2500 [==============================] - 5s 2ms/step - loss: nan - accuracy: 0.0998 - val_loss: nan - val_accuracy: 0.1008\n",
            "Epoch 3/25\n",
            "2500/2500 [==============================] - 5s 2ms/step - loss: nan - accuracy: 0.0998 - val_loss: nan - val_accuracy: 0.1008\n",
            "Epoch 4/25\n",
            "2500/2500 [==============================] - 5s 2ms/step - loss: nan - accuracy: 0.0998 - val_loss: nan - val_accuracy: 0.1008\n",
            "Epoch 5/25\n",
            "2500/2500 [==============================] - 5s 2ms/step - loss: nan - accuracy: 0.0998 - val_loss: nan - val_accuracy: 0.1008\n",
            "Epoch 6/25\n",
            "2500/2500 [==============================] - 6s 2ms/step - loss: nan - accuracy: 0.0998 - val_loss: nan - val_accuracy: 0.1008\n",
            "Epoch 7/25\n",
            "2500/2500 [==============================] - 5s 2ms/step - loss: nan - accuracy: 0.0998 - val_loss: nan - val_accuracy: 0.1008\n",
            "Epoch 8/25\n",
            "2500/2500 [==============================] - 5s 2ms/step - loss: nan - accuracy: 0.0998 - val_loss: nan - val_accuracy: 0.1008\n",
            "Epoch 9/25\n",
            "2500/2500 [==============================] - 5s 2ms/step - loss: nan - accuracy: 0.0998 - val_loss: nan - val_accuracy: 0.1008\n",
            "Epoch 10/25\n",
            "2500/2500 [==============================] - 5s 2ms/step - loss: nan - accuracy: 0.0998 - val_loss: nan - val_accuracy: 0.1008\n",
            "Epoch 11/25\n",
            "2500/2500 [==============================] - 5s 2ms/step - loss: nan - accuracy: 0.0998 - val_loss: nan - val_accuracy: 0.1008\n",
            "Epoch 12/25\n",
            "2500/2500 [==============================] - 5s 2ms/step - loss: nan - accuracy: 0.0998 - val_loss: nan - val_accuracy: 0.1008\n",
            "Epoch 13/25\n",
            "2500/2500 [==============================] - 5s 2ms/step - loss: nan - accuracy: 0.0998 - val_loss: nan - val_accuracy: 0.1008\n",
            "Epoch 14/25\n",
            "2500/2500 [==============================] - 5s 2ms/step - loss: nan - accuracy: 0.0998 - val_loss: nan - val_accuracy: 0.1008\n",
            "Epoch 15/25\n",
            "2500/2500 [==============================] - 5s 2ms/step - loss: nan - accuracy: 0.0998 - val_loss: nan - val_accuracy: 0.1008\n",
            "Epoch 16/25\n",
            "2500/2500 [==============================] - 5s 2ms/step - loss: nan - accuracy: 0.0998 - val_loss: nan - val_accuracy: 0.1008\n",
            "Epoch 17/25\n",
            "2500/2500 [==============================] - 5s 2ms/step - loss: nan - accuracy: 0.0998 - val_loss: nan - val_accuracy: 0.1008\n",
            "Epoch 18/25\n",
            "2500/2500 [==============================] - 5s 2ms/step - loss: nan - accuracy: 0.0998 - val_loss: nan - val_accuracy: 0.1008\n",
            "Epoch 19/25\n",
            "2500/2500 [==============================] - 5s 2ms/step - loss: nan - accuracy: 0.0998 - val_loss: nan - val_accuracy: 0.1008\n",
            "Epoch 20/25\n",
            "2500/2500 [==============================] - 5s 2ms/step - loss: nan - accuracy: 0.0998 - val_loss: nan - val_accuracy: 0.1008\n",
            "Epoch 21/25\n",
            "2500/2500 [==============================] - 5s 2ms/step - loss: nan - accuracy: 0.0998 - val_loss: nan - val_accuracy: 0.1008\n",
            "Epoch 22/25\n",
            "2500/2500 [==============================] - 5s 2ms/step - loss: nan - accuracy: 0.0998 - val_loss: nan - val_accuracy: 0.1008\n",
            "Epoch 23/25\n",
            "2500/2500 [==============================] - 5s 2ms/step - loss: nan - accuracy: 0.0998 - val_loss: nan - val_accuracy: 0.1008\n",
            "Epoch 24/25\n",
            "2500/2500 [==============================] - 5s 2ms/step - loss: nan - accuracy: 0.0998 - val_loss: nan - val_accuracy: 0.1008\n",
            "Epoch 25/25\n",
            "2500/2500 [==============================] - 5s 2ms/step - loss: nan - accuracy: 0.0998 - val_loss: nan - val_accuracy: 0.1008\n"
          ],
          "name": "stdout"
        }
      ]
    },
    {
      "cell_type": "code",
      "metadata": {
        "id": "GhCy-zisTB0s",
        "colab_type": "code",
        "colab": {
          "base_uri": "https://localhost:8080/",
          "height": 867
        },
        "outputId": "e1c2ef21-60c9-45df-d6bd-56571935a4b1"
      },
      "source": [
        "lr_0001 = create_model(lr=.0001).fit(X_train, y_train,\n",
        "                                epochs=25,\n",
        "                                validation_data=(X_test,y_test)\n",
        ")"
      ],
      "execution_count": null,
      "outputs": [
        {
          "output_type": "stream",
          "text": [
            "Epoch 1/25\n",
            "2500/2500 [==============================] - 5s 2ms/step - loss: 4.1385 - accuracy: 0.2909 - val_loss: 1.9757 - val_accuracy: 0.3233\n",
            "Epoch 2/25\n",
            "2500/2500 [==============================] - 5s 2ms/step - loss: 1.8812 - accuracy: 0.3488 - val_loss: 1.8221 - val_accuracy: 0.3950\n",
            "Epoch 3/25\n",
            "2500/2500 [==============================] - 5s 2ms/step - loss: 1.7377 - accuracy: 0.4183 - val_loss: 1.7142 - val_accuracy: 0.4295\n",
            "Epoch 4/25\n",
            "2500/2500 [==============================] - 5s 2ms/step - loss: 1.6216 - accuracy: 0.4567 - val_loss: 1.6326 - val_accuracy: 0.4448\n",
            "Epoch 5/25\n",
            "2500/2500 [==============================] - 5s 2ms/step - loss: 1.5157 - accuracy: 0.4741 - val_loss: 1.4736 - val_accuracy: 0.4868\n",
            "Epoch 6/25\n",
            "2500/2500 [==============================] - 5s 2ms/step - loss: 1.4361 - accuracy: 0.4938 - val_loss: 1.4259 - val_accuracy: 0.5002\n",
            "Epoch 7/25\n",
            "2500/2500 [==============================] - 5s 2ms/step - loss: 1.3757 - accuracy: 0.5105 - val_loss: 1.3636 - val_accuracy: 0.5177\n",
            "Epoch 8/25\n",
            "2500/2500 [==============================] - 5s 2ms/step - loss: 1.3326 - accuracy: 0.5243 - val_loss: 1.3477 - val_accuracy: 0.5139\n",
            "Epoch 9/25\n",
            "2500/2500 [==============================] - 5s 2ms/step - loss: 1.2970 - accuracy: 0.5365 - val_loss: 1.2929 - val_accuracy: 0.5264\n",
            "Epoch 10/25\n",
            "2500/2500 [==============================] - 5s 2ms/step - loss: 1.2684 - accuracy: 0.5457 - val_loss: 1.2733 - val_accuracy: 0.5389\n",
            "Epoch 11/25\n",
            "2500/2500 [==============================] - 5s 2ms/step - loss: 1.2417 - accuracy: 0.5560 - val_loss: 1.2523 - val_accuracy: 0.5429\n",
            "Epoch 12/25\n",
            "2500/2500 [==============================] - 5s 2ms/step - loss: 1.2194 - accuracy: 0.5648 - val_loss: 1.2527 - val_accuracy: 0.5461\n",
            "Epoch 13/25\n",
            "2500/2500 [==============================] - 5s 2ms/step - loss: 1.2007 - accuracy: 0.5716 - val_loss: 1.2267 - val_accuracy: 0.5646\n",
            "Epoch 14/25\n",
            "2500/2500 [==============================] - 5s 2ms/step - loss: 1.1823 - accuracy: 0.5799 - val_loss: 1.1862 - val_accuracy: 0.5868\n",
            "Epoch 15/25\n",
            "2500/2500 [==============================] - 5s 2ms/step - loss: 1.1630 - accuracy: 0.5895 - val_loss: 1.1750 - val_accuracy: 0.5914\n",
            "Epoch 16/25\n",
            "2500/2500 [==============================] - 6s 2ms/step - loss: 1.1465 - accuracy: 0.5969 - val_loss: 1.1695 - val_accuracy: 0.6026\n",
            "Epoch 17/25\n",
            "2500/2500 [==============================] - 6s 2ms/step - loss: 1.1288 - accuracy: 0.6070 - val_loss: 1.1448 - val_accuracy: 0.6061\n",
            "Epoch 18/25\n",
            "2500/2500 [==============================] - 5s 2ms/step - loss: 1.1116 - accuracy: 0.6141 - val_loss: 1.1396 - val_accuracy: 0.6151\n",
            "Epoch 19/25\n",
            "2500/2500 [==============================] - 5s 2ms/step - loss: 1.0955 - accuracy: 0.6213 - val_loss: 1.1201 - val_accuracy: 0.6206\n",
            "Epoch 20/25\n",
            "2500/2500 [==============================] - 5s 2ms/step - loss: 1.0811 - accuracy: 0.6286 - val_loss: 1.1069 - val_accuracy: 0.6234\n",
            "Epoch 21/25\n",
            "2500/2500 [==============================] - 6s 2ms/step - loss: 1.0665 - accuracy: 0.6357 - val_loss: 1.0953 - val_accuracy: 0.6323\n",
            "Epoch 22/25\n",
            "2500/2500 [==============================] - 5s 2ms/step - loss: 1.0555 - accuracy: 0.6418 - val_loss: 1.0767 - val_accuracy: 0.6377\n",
            "Epoch 23/25\n",
            "2500/2500 [==============================] - 5s 2ms/step - loss: 1.0436 - accuracy: 0.6481 - val_loss: 1.0674 - val_accuracy: 0.6435\n",
            "Epoch 24/25\n",
            "2500/2500 [==============================] - 5s 2ms/step - loss: 1.0326 - accuracy: 0.6531 - val_loss: 1.0767 - val_accuracy: 0.6384\n",
            "Epoch 25/25\n",
            "2500/2500 [==============================] - 5s 2ms/step - loss: 1.0236 - accuracy: 0.6557 - val_loss: 1.0558 - val_accuracy: 0.6470\n"
          ],
          "name": "stdout"
        }
      ]
    },
    {
      "cell_type": "code",
      "metadata": {
        "id": "GqfZBp2QTB7-",
        "colab_type": "code",
        "colab": {
          "base_uri": "https://localhost:8080/",
          "height": 867
        },
        "outputId": "619f5060-0438-4d80-8c15-d8b84c4abfb1"
      },
      "source": [
        "lr_1 = create_model(lr=1.0).fit(X_train, y_train,\n",
        "                                epochs=25,\n",
        "                                validation_data=(X_test,y_test)\n",
        ")"
      ],
      "execution_count": null,
      "outputs": [
        {
          "output_type": "stream",
          "text": [
            "Epoch 1/25\n",
            "2500/2500 [==============================] - 5s 2ms/step - loss: 6728986918912.0000 - accuracy: 0.0986 - val_loss: 2.3112 - val_accuracy: 0.0984\n",
            "Epoch 2/25\n",
            "2500/2500 [==============================] - 5s 2ms/step - loss: 2.3105 - accuracy: 0.0989 - val_loss: 2.3120 - val_accuracy: 0.1000\n",
            "Epoch 3/25\n",
            "2500/2500 [==============================] - 5s 2ms/step - loss: 2.3106 - accuracy: 0.1001 - val_loss: 2.3099 - val_accuracy: 0.0983\n",
            "Epoch 4/25\n",
            "2500/2500 [==============================] - 5s 2ms/step - loss: 2.3103 - accuracy: 0.0979 - val_loss: 2.3087 - val_accuracy: 0.1018\n",
            "Epoch 5/25\n",
            "2500/2500 [==============================] - 5s 2ms/step - loss: 2.3101 - accuracy: 0.1002 - val_loss: 2.3101 - val_accuracy: 0.0984\n",
            "Epoch 6/25\n",
            "2500/2500 [==============================] - 5s 2ms/step - loss: 2.3099 - accuracy: 0.1011 - val_loss: 2.3089 - val_accuracy: 0.1018\n",
            "Epoch 7/25\n",
            "2500/2500 [==============================] - 5s 2ms/step - loss: 2.3103 - accuracy: 0.0974 - val_loss: 2.3096 - val_accuracy: 0.1008\n",
            "Epoch 8/25\n",
            "2500/2500 [==============================] - 5s 2ms/step - loss: 2.3095 - accuracy: 0.1010 - val_loss: 2.3107 - val_accuracy: 0.0983\n",
            "Epoch 9/25\n",
            "2500/2500 [==============================] - 5s 2ms/step - loss: 2.3102 - accuracy: 0.0997 - val_loss: 2.3073 - val_accuracy: 0.1001\n",
            "Epoch 10/25\n",
            "2500/2500 [==============================] - 5s 2ms/step - loss: 2.3097 - accuracy: 0.0997 - val_loss: 2.3096 - val_accuracy: 0.1008\n",
            "Epoch 11/25\n",
            "2500/2500 [==============================] - 5s 2ms/step - loss: 2.3105 - accuracy: 0.0981 - val_loss: 2.3072 - val_accuracy: 0.1018\n",
            "Epoch 12/25\n",
            "2500/2500 [==============================] - 5s 2ms/step - loss: 2.3101 - accuracy: 0.0997 - val_loss: 2.3114 - val_accuracy: 0.0984\n",
            "Epoch 13/25\n",
            "2500/2500 [==============================] - 5s 2ms/step - loss: 2.3100 - accuracy: 0.1011 - val_loss: 2.3055 - val_accuracy: 0.1044\n",
            "Epoch 14/25\n",
            "2500/2500 [==============================] - 5s 2ms/step - loss: 2.3101 - accuracy: 0.1001 - val_loss: 2.3104 - val_accuracy: 0.0966\n",
            "Epoch 15/25\n",
            "2500/2500 [==============================] - 5s 2ms/step - loss: 2.3101 - accuracy: 0.1005 - val_loss: 2.3044 - val_accuracy: 0.1008\n",
            "Epoch 16/25\n",
            "2500/2500 [==============================] - 5s 2ms/step - loss: 2.3100 - accuracy: 0.0992 - val_loss: 2.3074 - val_accuracy: 0.0983\n",
            "Epoch 17/25\n",
            "2500/2500 [==============================] - 5s 2ms/step - loss: 2.3102 - accuracy: 0.1006 - val_loss: 2.3066 - val_accuracy: 0.0984\n",
            "Epoch 18/25\n",
            "2500/2500 [==============================] - 5s 2ms/step - loss: 2.3099 - accuracy: 0.1001 - val_loss: 2.3096 - val_accuracy: 0.1001\n",
            "Epoch 19/25\n",
            "2500/2500 [==============================] - 5s 2ms/step - loss: 2.3105 - accuracy: 0.1005 - val_loss: 2.3113 - val_accuracy: 0.1000\n",
            "Epoch 20/25\n",
            "2500/2500 [==============================] - 5s 2ms/step - loss: 2.3100 - accuracy: 0.1001 - val_loss: 2.3090 - val_accuracy: 0.0984\n",
            "Epoch 21/25\n",
            "2500/2500 [==============================] - 5s 2ms/step - loss: 2.3099 - accuracy: 0.1001 - val_loss: 2.3090 - val_accuracy: 0.0984\n",
            "Epoch 22/25\n",
            "2500/2500 [==============================] - 5s 2ms/step - loss: 2.3094 - accuracy: 0.1008 - val_loss: 2.3077 - val_accuracy: 0.1000\n",
            "Epoch 23/25\n",
            "2500/2500 [==============================] - 5s 2ms/step - loss: 2.3100 - accuracy: 0.1009 - val_loss: 2.3107 - val_accuracy: 0.1001\n",
            "Epoch 24/25\n",
            "2500/2500 [==============================] - 5s 2ms/step - loss: 2.3098 - accuracy: 0.0999 - val_loss: 2.3106 - val_accuracy: 0.0984\n",
            "Epoch 25/25\n",
            "2500/2500 [==============================] - 5s 2ms/step - loss: 2.3099 - accuracy: 0.1002 - val_loss: 2.3105 - val_accuracy: 0.1001\n"
          ],
          "name": "stdout"
        }
      ]
    },
    {
      "cell_type": "code",
      "metadata": {
        "id": "hnFtX49WTCE3",
        "colab_type": "code",
        "colab": {
          "base_uri": "https://localhost:8080/",
          "height": 867
        },
        "outputId": "18f4793a-5af9-435b-b594-a9f0ed1ac927"
      },
      "source": [
        "lr_001 = create_model(lr=.001).fit(X_train, y_train,\n",
        "                                epochs=25,\n",
        "                                validation_data=(X_test,y_test)\n",
        ")"
      ],
      "execution_count": null,
      "outputs": [
        {
          "output_type": "stream",
          "text": [
            "Epoch 1/25\n",
            "2500/2500 [==============================] - 5s 2ms/step - loss: 2.0661 - accuracy: 0.3480 - val_loss: 1.6031 - val_accuracy: 0.3611\n",
            "Epoch 2/25\n",
            "2500/2500 [==============================] - 5s 2ms/step - loss: 1.4298 - accuracy: 0.5217 - val_loss: 1.3086 - val_accuracy: 0.5822\n",
            "Epoch 3/25\n",
            "2500/2500 [==============================] - 5s 2ms/step - loss: 1.2579 - accuracy: 0.6047 - val_loss: 1.2148 - val_accuracy: 0.6367\n",
            "Epoch 4/25\n",
            "2500/2500 [==============================] - 5s 2ms/step - loss: 1.1604 - accuracy: 0.6445 - val_loss: 1.1755 - val_accuracy: 0.6526\n",
            "Epoch 5/25\n",
            "2500/2500 [==============================] - 5s 2ms/step - loss: 1.1055 - accuracy: 0.6604 - val_loss: 1.1144 - val_accuracy: 0.6649\n",
            "Epoch 6/25\n",
            "2500/2500 [==============================] - 5s 2ms/step - loss: 1.0609 - accuracy: 0.6777 - val_loss: 1.0749 - val_accuracy: 0.6781\n",
            "Epoch 7/25\n",
            "2500/2500 [==============================] - 5s 2ms/step - loss: 1.0244 - accuracy: 0.6892 - val_loss: 1.0396 - val_accuracy: 0.6898\n",
            "Epoch 8/25\n",
            "2500/2500 [==============================] - 5s 2ms/step - loss: 0.9941 - accuracy: 0.6989 - val_loss: 1.0229 - val_accuracy: 0.6952\n",
            "Epoch 9/25\n",
            "2500/2500 [==============================] - 5s 2ms/step - loss: 0.9700 - accuracy: 0.7075 - val_loss: 0.9919 - val_accuracy: 0.7046\n",
            "Epoch 10/25\n",
            "2500/2500 [==============================] - 5s 2ms/step - loss: 0.9483 - accuracy: 0.7110 - val_loss: 0.9857 - val_accuracy: 0.7103\n",
            "Epoch 11/25\n",
            "2500/2500 [==============================] - 5s 2ms/step - loss: 0.9295 - accuracy: 0.7182 - val_loss: 0.9672 - val_accuracy: 0.7085\n",
            "Epoch 12/25\n",
            "2500/2500 [==============================] - 5s 2ms/step - loss: 0.9105 - accuracy: 0.7230 - val_loss: 0.9488 - val_accuracy: 0.7177\n",
            "Epoch 13/25\n",
            "2500/2500 [==============================] - 5s 2ms/step - loss: 0.8927 - accuracy: 0.7276 - val_loss: 0.9476 - val_accuracy: 0.7171\n",
            "Epoch 14/25\n",
            "2500/2500 [==============================] - 5s 2ms/step - loss: 0.8764 - accuracy: 0.7320 - val_loss: 0.9190 - val_accuracy: 0.7254\n",
            "Epoch 15/25\n",
            "2500/2500 [==============================] - 5s 2ms/step - loss: 0.8624 - accuracy: 0.7367 - val_loss: 0.8980 - val_accuracy: 0.7312\n",
            "Epoch 16/25\n",
            "2500/2500 [==============================] - 5s 2ms/step - loss: 0.8472 - accuracy: 0.7421 - val_loss: 0.8942 - val_accuracy: 0.7336\n",
            "Epoch 17/25\n",
            "2500/2500 [==============================] - 5s 2ms/step - loss: 0.8351 - accuracy: 0.7462 - val_loss: 0.8892 - val_accuracy: 0.7383\n",
            "Epoch 18/25\n",
            "2500/2500 [==============================] - 5s 2ms/step - loss: 0.8247 - accuracy: 0.7492 - val_loss: 0.8851 - val_accuracy: 0.7332\n",
            "Epoch 19/25\n",
            "2500/2500 [==============================] - 5s 2ms/step - loss: 0.8161 - accuracy: 0.7521 - val_loss: 0.8725 - val_accuracy: 0.7361\n",
            "Epoch 20/25\n",
            "2500/2500 [==============================] - 5s 2ms/step - loss: 0.8077 - accuracy: 0.7548 - val_loss: 0.8668 - val_accuracy: 0.7469\n",
            "Epoch 21/25\n",
            "2500/2500 [==============================] - 5s 2ms/step - loss: 0.8014 - accuracy: 0.7553 - val_loss: 0.8735 - val_accuracy: 0.7456\n",
            "Epoch 22/25\n",
            "2500/2500 [==============================] - 5s 2ms/step - loss: 0.7935 - accuracy: 0.7592 - val_loss: 0.8610 - val_accuracy: 0.7454\n",
            "Epoch 23/25\n",
            "2500/2500 [==============================] - 5s 2ms/step - loss: 0.7869 - accuracy: 0.7615 - val_loss: 0.8569 - val_accuracy: 0.7402\n",
            "Epoch 24/25\n",
            "2500/2500 [==============================] - 5s 2ms/step - loss: 0.7816 - accuracy: 0.7626 - val_loss: 0.8518 - val_accuracy: 0.7465\n",
            "Epoch 25/25\n",
            "2500/2500 [==============================] - 6s 2ms/step - loss: 0.7761 - accuracy: 0.7631 - val_loss: 0.8375 - val_accuracy: 0.7491\n"
          ],
          "name": "stdout"
        }
      ]
    },
    {
      "cell_type": "code",
      "metadata": {
        "id": "I05h9JMfXhc8",
        "colab_type": "code",
        "colab": {
          "base_uri": "https://localhost:8080/",
          "height": 204
        },
        "outputId": "bc376280-7eb4-4791-c0d0-6aa772994afa"
      },
      "source": [
        "import seaborn as sns\n",
        "import pandas as pd\n",
        "\n",
        "batch_sizes = []\n",
        "\n",
        "for exp, result in zip([lr_default, lr_0001, lr_75, lr_1, lr_001], [\".01_\", \".0001_\", \".75_\", \"1.0_\", \".001_\"]):\n",
        "\n",
        "  df = pd.DataFrame.from_dict(exp.history)\n",
        "  df['epoch'] = df.index.values\n",
        "  df['Learning Rate'] = result\n",
        "\n",
        "  batch_sizes.append(df)\n",
        "\n",
        "df = pd.concat(batch_sizes)\n",
        "df['Learning Rate'] = df['Learning Rate'].astype('str')\n",
        "df.head()"
      ],
      "execution_count": null,
      "outputs": [
        {
          "output_type": "execute_result",
          "data": {
            "text/html": [
              "<div>\n",
              "<style scoped>\n",
              "    .dataframe tbody tr th:only-of-type {\n",
              "        vertical-align: middle;\n",
              "    }\n",
              "\n",
              "    .dataframe tbody tr th {\n",
              "        vertical-align: top;\n",
              "    }\n",
              "\n",
              "    .dataframe thead th {\n",
              "        text-align: right;\n",
              "    }\n",
              "</style>\n",
              "<table border=\"1\" class=\"dataframe\">\n",
              "  <thead>\n",
              "    <tr style=\"text-align: right;\">\n",
              "      <th></th>\n",
              "      <th>loss</th>\n",
              "      <th>accuracy</th>\n",
              "      <th>val_loss</th>\n",
              "      <th>val_accuracy</th>\n",
              "      <th>epoch</th>\n",
              "      <th>Learning Rate</th>\n",
              "    </tr>\n",
              "  </thead>\n",
              "  <tbody>\n",
              "    <tr>\n",
              "      <th>0</th>\n",
              "      <td>3.460026</td>\n",
              "      <td>0.099288</td>\n",
              "      <td>2.310094</td>\n",
              "      <td>0.09835</td>\n",
              "      <td>0</td>\n",
              "      <td>.01_</td>\n",
              "    </tr>\n",
              "    <tr>\n",
              "      <th>1</th>\n",
              "      <td>2.304301</td>\n",
              "      <td>0.099937</td>\n",
              "      <td>2.309996</td>\n",
              "      <td>0.10155</td>\n",
              "      <td>1</td>\n",
              "      <td>.01_</td>\n",
              "    </tr>\n",
              "    <tr>\n",
              "      <th>2</th>\n",
              "      <td>2.302819</td>\n",
              "      <td>0.099500</td>\n",
              "      <td>2.310123</td>\n",
              "      <td>0.10015</td>\n",
              "      <td>2</td>\n",
              "      <td>.01_</td>\n",
              "    </tr>\n",
              "    <tr>\n",
              "      <th>3</th>\n",
              "      <td>2.302806</td>\n",
              "      <td>0.098575</td>\n",
              "      <td>2.310012</td>\n",
              "      <td>0.09835</td>\n",
              "      <td>3</td>\n",
              "      <td>.01_</td>\n",
              "    </tr>\n",
              "    <tr>\n",
              "      <th>4</th>\n",
              "      <td>2.302858</td>\n",
              "      <td>0.100725</td>\n",
              "      <td>2.310049</td>\n",
              "      <td>0.09665</td>\n",
              "      <td>4</td>\n",
              "      <td>.01_</td>\n",
              "    </tr>\n",
              "  </tbody>\n",
              "</table>\n",
              "</div>"
            ],
            "text/plain": [
              "       loss  accuracy  val_loss  val_accuracy  epoch Learning Rate\n",
              "0  3.460026  0.099288  2.310094       0.09835      0          .01_\n",
              "1  2.304301  0.099937  2.309996       0.10155      1          .01_\n",
              "2  2.302819  0.099500  2.310123       0.10015      2          .01_\n",
              "3  2.302806  0.098575  2.310012       0.09835      3          .01_\n",
              "4  2.302858  0.100725  2.310049       0.09665      4          .01_"
            ]
          },
          "metadata": {
            "tags": []
          },
          "execution_count": 49
        }
      ]
    },
    {
      "cell_type": "code",
      "metadata": {
        "id": "_UmPVvwsc9_Q",
        "colab_type": "code",
        "colab": {
          "base_uri": "https://localhost:8080/",
          "height": 279
        },
        "outputId": "9a32a809-7bc5-4b5e-89cb-5e18d05a3c6b"
      },
      "source": [
        "sns.lineplot(x='epoch', y='val_accuracy', hue='Learning Rate', data=df);"
      ],
      "execution_count": null,
      "outputs": [
        {
          "output_type": "display_data",
          "data": {
            "image/png": "[encoded data removed]",
            "text/plain": [
              "<Figure size 432x288 with 1 Axes>"
            ]
          },
          "metadata": {
            "tags": [],
            "needs_background": "light"
          }
        }
      ]
    },
    {
      "cell_type": "code",
      "metadata": {
        "id": "HVXHWTu-c-UB",
        "colab_type": "code",
        "colab": {
          "base_uri": "https://localhost:8080/",
          "height": 279
        },
        "outputId": "896e71aa-3f48-4dfa-d9c4-47fd73ba2922"
      },
      "source": [
        "sns.lineplot(x='epoch', y='val_loss', hue='Learning Rate', data=df);"
      ],
      "execution_count": null,
      "outputs": [
        {
          "output_type": "display_data",
          "data": {
            "image/png": "[encoded data removed]",
            "text/plain": [
              "<Figure size 432x288 with 1 Axes>"
            ]
          },
          "metadata": {
            "tags": [],
            "needs_background": "light"
          }
        }
      ]
    },
    {
      "cell_type": "markdown",
      "metadata": {
        "id": "gxMtSRhV9Q7I",
        "colab_type": "text"
      },
      "source": [
        "### Experiment with different Optimizers\n",
        "* Run 5 experiments with various optimizers available in TensorFlow. See list [here](https://www.tensorflow.org/api_docs/python/tf/keras/optimizers)\n",
        "* Visualize the results\n",
        "* Write up an analysis of the experiments and select the \"best\" performing model among your experiments. Make sure to compare against the previous experiments and your model's performance yesterday.\n",
        "* Repeat the experiment combining Learning Rate and different optimizers. Does the best performing model change? "
      ]
    },
    {
      "cell_type": "code",
      "metadata": {
        "id": "ujLuzdNA91ip",
        "colab_type": "code",
        "colab": {}
      },
      "source": [
        "def create_model(lr=.01, optimize='adam'):\n",
        "\n",
        "  model = Sequential(\n",
        "      [\n",
        "       Dense(32, activation='relu', input_dim=784),\n",
        "       Dense(32, activation='relu'),\n",
        "       Dense(10, activation='softmax')       \n",
        "      ]\n",
        ")\n",
        "  model.compile(optimizer=optimize, loss='sparse_categorical_crossentropy',\n",
        "                metrics=['accuracy'])\n",
        "  return model"
      ],
      "execution_count": null,
      "outputs": []
    },
    {
      "cell_type": "code",
      "metadata": {
        "id": "g0z-CRwKhlZh",
        "colab_type": "code",
        "colab": {
          "base_uri": "https://localhost:8080/",
          "height": 867
        },
        "outputId": "00ef9eed-6225-4ec2-a212-151d85ff8d67"
      },
      "source": [
        "opt_1 = create_model().fit(X_train, y_train,\n",
        "                                epochs=25,\n",
        "                                validation_data=(X_test,y_test)\n",
        ")"
      ],
      "execution_count": null,
      "outputs": [
        {
          "output_type": "stream",
          "text": [
            "Epoch 1/25\n",
            "2500/2500 [==============================] - 5s 2ms/step - loss: 2.1109 - accuracy: 0.3739 - val_loss: 1.3881 - val_accuracy: 0.5050\n",
            "Epoch 2/25\n",
            "2500/2500 [==============================] - 5s 2ms/step - loss: 1.1432 - accuracy: 0.6069 - val_loss: 0.9568 - val_accuracy: 0.6914\n",
            "Epoch 3/25\n",
            "2500/2500 [==============================] - 5s 2ms/step - loss: 0.8576 - accuracy: 0.7249 - val_loss: 0.8265 - val_accuracy: 0.7469\n",
            "Epoch 4/25\n",
            "2500/2500 [==============================] - 5s 2ms/step - loss: 0.7744 - accuracy: 0.7646 - val_loss: 0.7538 - val_accuracy: 0.7869\n",
            "Epoch 5/25\n",
            "2500/2500 [==============================] - 5s 2ms/step - loss: 0.7296 - accuracy: 0.7823 - val_loss: 0.7716 - val_accuracy: 0.7803\n",
            "Epoch 6/25\n",
            "2500/2500 [==============================] - 5s 2ms/step - loss: 0.6947 - accuracy: 0.7928 - val_loss: 0.7373 - val_accuracy: 0.7765\n",
            "Epoch 7/25\n",
            "2500/2500 [==============================] - 5s 2ms/step - loss: 0.6740 - accuracy: 0.7978 - val_loss: 0.7229 - val_accuracy: 0.7925\n",
            "Epoch 8/25\n",
            "2500/2500 [==============================] - 5s 2ms/step - loss: 0.6548 - accuracy: 0.8041 - val_loss: 0.7343 - val_accuracy: 0.7929\n",
            "Epoch 9/25\n",
            "2500/2500 [==============================] - 5s 2ms/step - loss: 0.6414 - accuracy: 0.8093 - val_loss: 0.7231 - val_accuracy: 0.7704\n",
            "Epoch 10/25\n",
            "2500/2500 [==============================] - 5s 2ms/step - loss: 0.6246 - accuracy: 0.8141 - val_loss: 0.7384 - val_accuracy: 0.7926\n",
            "Epoch 11/25\n",
            "2500/2500 [==============================] - 6s 2ms/step - loss: 0.6147 - accuracy: 0.8167 - val_loss: 0.7091 - val_accuracy: 0.8009\n",
            "Epoch 12/25\n",
            "2500/2500 [==============================] - 5s 2ms/step - loss: 0.6027 - accuracy: 0.8207 - val_loss: 0.6890 - val_accuracy: 0.8007\n",
            "Epoch 13/25\n",
            "2500/2500 [==============================] - 5s 2ms/step - loss: 0.5987 - accuracy: 0.8224 - val_loss: 0.6833 - val_accuracy: 0.8051\n",
            "Epoch 14/25\n",
            "2500/2500 [==============================] - 5s 2ms/step - loss: 0.5890 - accuracy: 0.8238 - val_loss: 0.7114 - val_accuracy: 0.7869\n",
            "Epoch 15/25\n",
            "2500/2500 [==============================] - 5s 2ms/step - loss: 0.5864 - accuracy: 0.8256 - val_loss: 0.7015 - val_accuracy: 0.7943\n",
            "Epoch 16/25\n",
            "2500/2500 [==============================] - 5s 2ms/step - loss: 0.5793 - accuracy: 0.8266 - val_loss: 0.7011 - val_accuracy: 0.7968\n",
            "Epoch 17/25\n",
            "2500/2500 [==============================] - 5s 2ms/step - loss: 0.5768 - accuracy: 0.8275 - val_loss: 0.6930 - val_accuracy: 0.8033\n",
            "Epoch 18/25\n",
            "2500/2500 [==============================] - 5s 2ms/step - loss: 0.5690 - accuracy: 0.8295 - val_loss: 0.7082 - val_accuracy: 0.7995\n",
            "Epoch 19/25\n",
            "2500/2500 [==============================] - 5s 2ms/step - loss: 0.5658 - accuracy: 0.8298 - val_loss: 0.7096 - val_accuracy: 0.8008\n",
            "Epoch 20/25\n",
            "2500/2500 [==============================] - 5s 2ms/step - loss: 0.5615 - accuracy: 0.8312 - val_loss: 0.7287 - val_accuracy: 0.8023\n",
            "Epoch 21/25\n",
            "2500/2500 [==============================] - 5s 2ms/step - loss: 0.5591 - accuracy: 0.8321 - val_loss: 0.6967 - val_accuracy: 0.8105\n",
            "Epoch 22/25\n",
            "2500/2500 [==============================] - 5s 2ms/step - loss: 0.5576 - accuracy: 0.8319 - val_loss: 0.7187 - val_accuracy: 0.8014\n",
            "Epoch 23/25\n",
            "2500/2500 [==============================] - 5s 2ms/step - loss: 0.5502 - accuracy: 0.8346 - val_loss: 0.7299 - val_accuracy: 0.8070\n",
            "Epoch 24/25\n",
            "2500/2500 [==============================] - 5s 2ms/step - loss: 0.5513 - accuracy: 0.8345 - val_loss: 0.7129 - val_accuracy: 0.8008\n",
            "Epoch 25/25\n",
            "2500/2500 [==============================] - 5s 2ms/step - loss: 0.5458 - accuracy: 0.8355 - val_loss: 0.7251 - val_accuracy: 0.8061\n"
          ],
          "name": "stdout"
        }
      ]
    },
    {
      "cell_type": "code",
      "metadata": {
        "id": "IpxriQpHhlha",
        "colab_type": "code",
        "colab": {
          "base_uri": "https://localhost:8080/",
          "height": 867
        },
        "outputId": "c2a3d870-2b92-4961-bf4a-c56b36d7fa92"
      },
      "source": [
        "opt_2 = create_model(optimize='sgd').fit(X_train, y_train,\n",
        "                                epochs=25,\n",
        "                                validation_data=(X_test,y_test)\n",
        ")"
      ],
      "execution_count": null,
      "outputs": [
        {
          "output_type": "stream",
          "text": [
            "Epoch 1/25\n",
            "2500/2500 [==============================] - 5s 2ms/step - loss: 3.8341 - accuracy: 0.0997 - val_loss: 2.3030 - val_accuracy: 0.0984\n",
            "Epoch 2/25\n",
            "2500/2500 [==============================] - 5s 2ms/step - loss: 2.3027 - accuracy: 0.0983 - val_loss: 2.3030 - val_accuracy: 0.0966\n",
            "Epoch 3/25\n",
            "2500/2500 [==============================] - 5s 2ms/step - loss: 2.3026 - accuracy: 0.0991 - val_loss: 2.3030 - val_accuracy: 0.0966\n",
            "Epoch 4/25\n",
            "2500/2500 [==============================] - 5s 2ms/step - loss: 2.3026 - accuracy: 0.0987 - val_loss: 2.3029 - val_accuracy: 0.1000\n",
            "Epoch 5/25\n",
            "2500/2500 [==============================] - 5s 2ms/step - loss: 2.3026 - accuracy: 0.1011 - val_loss: 2.3030 - val_accuracy: 0.0984\n",
            "Epoch 6/25\n",
            "2500/2500 [==============================] - 5s 2ms/step - loss: 2.3026 - accuracy: 0.0985 - val_loss: 2.3030 - val_accuracy: 0.0966\n",
            "Epoch 7/25\n",
            "2500/2500 [==============================] - 5s 2ms/step - loss: 2.3026 - accuracy: 0.0998 - val_loss: 2.3030 - val_accuracy: 0.0966\n",
            "Epoch 8/25\n",
            "2500/2500 [==============================] - 5s 2ms/step - loss: 2.3026 - accuracy: 0.1006 - val_loss: 2.3029 - val_accuracy: 0.0984\n",
            "Epoch 9/25\n",
            "2500/2500 [==============================] - 5s 2ms/step - loss: 2.3026 - accuracy: 0.1009 - val_loss: 2.3030 - val_accuracy: 0.1001\n",
            "Epoch 10/25\n",
            "2500/2500 [==============================] - 5s 2ms/step - loss: 2.3026 - accuracy: 0.0996 - val_loss: 2.3028 - val_accuracy: 0.1015\n",
            "Epoch 11/25\n",
            "2500/2500 [==============================] - 5s 2ms/step - loss: 2.3026 - accuracy: 0.1000 - val_loss: 2.3028 - val_accuracy: 0.1018\n",
            "Epoch 12/25\n",
            "2500/2500 [==============================] - 5s 2ms/step - loss: 2.3026 - accuracy: 0.0987 - val_loss: 2.3028 - val_accuracy: 0.0984\n",
            "Epoch 13/25\n",
            "2500/2500 [==============================] - 5s 2ms/step - loss: 2.3026 - accuracy: 0.0994 - val_loss: 2.3030 - val_accuracy: 0.0966\n",
            "Epoch 14/25\n",
            "2500/2500 [==============================] - 5s 2ms/step - loss: 2.3026 - accuracy: 0.1010 - val_loss: 2.3030 - val_accuracy: 0.0985\n",
            "Epoch 15/25\n",
            "2500/2500 [==============================] - 5s 2ms/step - loss: 2.3026 - accuracy: 0.0983 - val_loss: 2.3030 - val_accuracy: 0.0983\n",
            "Epoch 16/25\n",
            "2500/2500 [==============================] - 5s 2ms/step - loss: 2.3026 - accuracy: 0.0996 - val_loss: 2.3029 - val_accuracy: 0.0984\n",
            "Epoch 17/25\n",
            "2500/2500 [==============================] - 5s 2ms/step - loss: 2.3026 - accuracy: 0.0988 - val_loss: 2.3029 - val_accuracy: 0.0966\n",
            "Epoch 18/25\n",
            "2500/2500 [==============================] - 5s 2ms/step - loss: 2.3026 - accuracy: 0.0994 - val_loss: 2.3030 - val_accuracy: 0.0966\n",
            "Epoch 19/25\n",
            "2500/2500 [==============================] - 5s 2ms/step - loss: 2.3026 - accuracy: 0.1000 - val_loss: 2.3029 - val_accuracy: 0.0984\n",
            "Epoch 20/25\n",
            "2500/2500 [==============================] - 5s 2ms/step - loss: 2.3026 - accuracy: 0.0986 - val_loss: 2.3030 - val_accuracy: 0.0966\n",
            "Epoch 21/25\n",
            "2500/2500 [==============================] - 5s 2ms/step - loss: 2.3026 - accuracy: 0.0994 - val_loss: 2.3030 - val_accuracy: 0.0984\n",
            "Epoch 22/25\n",
            "2500/2500 [==============================] - 5s 2ms/step - loss: 2.3026 - accuracy: 0.0979 - val_loss: 2.3030 - val_accuracy: 0.1000\n",
            "Epoch 23/25\n",
            "2500/2500 [==============================] - 5s 2ms/step - loss: 2.3026 - accuracy: 0.0994 - val_loss: 2.3029 - val_accuracy: 0.0966\n",
            "Epoch 24/25\n",
            "2500/2500 [==============================] - 5s 2ms/step - loss: 2.3026 - accuracy: 0.0976 - val_loss: 2.3029 - val_accuracy: 0.0985\n",
            "Epoch 25/25\n",
            "2500/2500 [==============================] - 6s 2ms/step - loss: 2.3026 - accuracy: 0.0991 - val_loss: 2.3029 - val_accuracy: 0.0985\n"
          ],
          "name": "stdout"
        }
      ]
    },
    {
      "cell_type": "code",
      "metadata": {
        "id": "q2OijiXuhlqN",
        "colab_type": "code",
        "colab": {
          "base_uri": "https://localhost:8080/",
          "height": 867
        },
        "outputId": "79192f68-68d4-4f07-df3d-042c124af973"
      },
      "source": [
        "opt_3 = create_model(optimize='ftrl').fit(X_train, y_train,\n",
        "                                epochs=25,\n",
        "                                validation_data=(X_test,y_test)\n",
        ")"
      ],
      "execution_count": null,
      "outputs": [
        {
          "output_type": "stream",
          "text": [
            "Epoch 1/25\n",
            "2500/2500 [==============================] - 5s 2ms/step - loss: 3.5104 - accuracy: 0.3117 - val_loss: 1.9393 - val_accuracy: 0.3844\n",
            "Epoch 2/25\n",
            "2500/2500 [==============================] - 6s 2ms/step - loss: 1.8000 - accuracy: 0.4113 - val_loss: 1.7339 - val_accuracy: 0.4229\n",
            "Epoch 3/25\n",
            "2500/2500 [==============================] - 6s 2ms/step - loss: 1.6622 - accuracy: 0.4465 - val_loss: 1.6396 - val_accuracy: 0.4526\n",
            "Epoch 4/25\n",
            "2500/2500 [==============================] - 6s 3ms/step - loss: 1.5632 - accuracy: 0.4843 - val_loss: 1.5460 - val_accuracy: 0.4862\n",
            "Epoch 5/25\n",
            "2500/2500 [==============================] - 6s 2ms/step - loss: 1.4652 - accuracy: 0.5078 - val_loss: 1.4457 - val_accuracy: 0.5141\n",
            "Epoch 6/25\n",
            "2500/2500 [==============================] - 6s 2ms/step - loss: 1.3683 - accuracy: 0.5436 - val_loss: 1.3651 - val_accuracy: 0.5573\n",
            "Epoch 7/25\n",
            "2500/2500 [==============================] - 6s 2ms/step - loss: 1.3037 - accuracy: 0.5721 - val_loss: 1.3111 - val_accuracy: 0.5761\n",
            "Epoch 8/25\n",
            "2500/2500 [==============================] - 6s 2ms/step - loss: 1.2590 - accuracy: 0.5881 - val_loss: 1.2744 - val_accuracy: 0.5854\n",
            "Epoch 9/25\n",
            "2500/2500 [==============================] - 5s 2ms/step - loss: 1.2259 - accuracy: 0.5980 - val_loss: 1.2457 - val_accuracy: 0.5989\n",
            "Epoch 10/25\n",
            "2500/2500 [==============================] - 5s 2ms/step - loss: 1.1982 - accuracy: 0.6070 - val_loss: 1.2213 - val_accuracy: 0.6118\n",
            "Epoch 11/25\n",
            "2500/2500 [==============================] - 5s 2ms/step - loss: 1.1741 - accuracy: 0.6160 - val_loss: 1.2008 - val_accuracy: 0.6150\n",
            "Epoch 12/25\n",
            "2500/2500 [==============================] - 6s 2ms/step - loss: 1.1532 - accuracy: 0.6235 - val_loss: 1.1834 - val_accuracy: 0.6213\n",
            "Epoch 13/25\n",
            "2500/2500 [==============================] - 5s 2ms/step - loss: 1.1343 - accuracy: 0.6306 - val_loss: 1.1671 - val_accuracy: 0.6292\n",
            "Epoch 14/25\n",
            "2500/2500 [==============================] - 6s 2ms/step - loss: 1.1172 - accuracy: 0.6374 - val_loss: 1.1532 - val_accuracy: 0.6342\n",
            "Epoch 15/25\n",
            "2500/2500 [==============================] - 5s 2ms/step - loss: 1.1019 - accuracy: 0.6444 - val_loss: 1.1386 - val_accuracy: 0.6396\n",
            "Epoch 16/25\n",
            "2500/2500 [==============================] - 5s 2ms/step - loss: 1.0878 - accuracy: 0.6500 - val_loss: 1.1271 - val_accuracy: 0.6428\n",
            "Epoch 17/25\n",
            "2500/2500 [==============================] - 5s 2ms/step - loss: 1.0747 - accuracy: 0.6551 - val_loss: 1.1156 - val_accuracy: 0.6489\n",
            "Epoch 18/25\n",
            "2500/2500 [==============================] - 6s 2ms/step - loss: 1.0629 - accuracy: 0.6603 - val_loss: 1.1050 - val_accuracy: 0.6536\n",
            "Epoch 19/25\n",
            "2500/2500 [==============================] - 5s 2ms/step - loss: 1.0518 - accuracy: 0.6644 - val_loss: 1.0953 - val_accuracy: 0.6577\n",
            "Epoch 20/25\n",
            "2500/2500 [==============================] - 5s 2ms/step - loss: 1.0415 - accuracy: 0.6676 - val_loss: 1.0872 - val_accuracy: 0.6605\n",
            "Epoch 21/25\n",
            "2500/2500 [==============================] - 5s 2ms/step - loss: 1.0323 - accuracy: 0.6717 - val_loss: 1.0778 - val_accuracy: 0.6632\n",
            "Epoch 22/25\n",
            "2500/2500 [==============================] - 5s 2ms/step - loss: 1.0236 - accuracy: 0.6751 - val_loss: 1.0705 - val_accuracy: 0.6659\n",
            "Epoch 23/25\n",
            "2500/2500 [==============================] - 5s 2ms/step - loss: 1.0154 - accuracy: 0.6776 - val_loss: 1.0630 - val_accuracy: 0.6686\n",
            "Epoch 24/25\n",
            "2500/2500 [==============================] - 5s 2ms/step - loss: 1.0080 - accuracy: 0.6808 - val_loss: 1.0571 - val_accuracy: 0.6716\n",
            "Epoch 25/25\n",
            "2500/2500 [==============================] - 5s 2ms/step - loss: 1.0011 - accuracy: 0.6828 - val_loss: 1.0506 - val_accuracy: 0.6733\n"
          ],
          "name": "stdout"
        }
      ]
    },
    {
      "cell_type": "code",
      "metadata": {
        "id": "AsSTG786hl0T",
        "colab_type": "code",
        "colab": {
          "base_uri": "https://localhost:8080/",
          "height": 867
        },
        "outputId": "3a0dde44-121a-490f-894a-bc13915ea8cb"
      },
      "source": [
        "opt_4 = create_model(optimize='adamax').fit(X_train, y_train,\n",
        "                                epochs=25,\n",
        "                                validation_data=(X_test,y_test)\n",
        ")"
      ],
      "execution_count": null,
      "outputs": [
        {
          "output_type": "stream",
          "text": [
            "Epoch 1/25\n",
            "2500/2500 [==============================] - 6s 2ms/step - loss: 3.3211 - accuracy: 0.3213 - val_loss: 1.6209 - val_accuracy: 0.4277\n",
            "Epoch 2/25\n",
            "2500/2500 [==============================] - 6s 2ms/step - loss: 1.4858 - accuracy: 0.4900 - val_loss: 1.3896 - val_accuracy: 0.5184\n",
            "Epoch 3/25\n",
            "2500/2500 [==============================] - 5s 2ms/step - loss: 1.3033 - accuracy: 0.5522 - val_loss: 1.2711 - val_accuracy: 0.5709\n",
            "Epoch 4/25\n",
            "2500/2500 [==============================] - 5s 2ms/step - loss: 1.1995 - accuracy: 0.5949 - val_loss: 1.1828 - val_accuracy: 0.5992\n",
            "Epoch 5/25\n",
            "2500/2500 [==============================] - 5s 2ms/step - loss: 1.1105 - accuracy: 0.6346 - val_loss: 1.1102 - val_accuracy: 0.6494\n",
            "Epoch 6/25\n",
            "2500/2500 [==============================] - 5s 2ms/step - loss: 1.0309 - accuracy: 0.6738 - val_loss: 1.0440 - val_accuracy: 0.6798\n",
            "Epoch 7/25\n",
            "2500/2500 [==============================] - 6s 2ms/step - loss: 0.9736 - accuracy: 0.6997 - val_loss: 1.0073 - val_accuracy: 0.6974\n",
            "Epoch 8/25\n",
            "2500/2500 [==============================] - 5s 2ms/step - loss: 0.9318 - accuracy: 0.7159 - val_loss: 0.9641 - val_accuracy: 0.7146\n",
            "Epoch 9/25\n",
            "2500/2500 [==============================] - 6s 2ms/step - loss: 0.9001 - accuracy: 0.7281 - val_loss: 0.9625 - val_accuracy: 0.7152\n",
            "Epoch 10/25\n",
            "2500/2500 [==============================] - 5s 2ms/step - loss: 0.8734 - accuracy: 0.7361 - val_loss: 0.9336 - val_accuracy: 0.7304\n",
            "Epoch 11/25\n",
            "2500/2500 [==============================] - 5s 2ms/step - loss: 0.8507 - accuracy: 0.7437 - val_loss: 0.9050 - val_accuracy: 0.7339\n",
            "Epoch 12/25\n",
            "2500/2500 [==============================] - 5s 2ms/step - loss: 0.8315 - accuracy: 0.7530 - val_loss: 0.8932 - val_accuracy: 0.7466\n",
            "Epoch 13/25\n",
            "2500/2500 [==============================] - 5s 2ms/step - loss: 0.8159 - accuracy: 0.7559 - val_loss: 0.8858 - val_accuracy: 0.7485\n",
            "Epoch 14/25\n",
            "2500/2500 [==============================] - 6s 2ms/step - loss: 0.8027 - accuracy: 0.7609 - val_loss: 0.8701 - val_accuracy: 0.7548\n",
            "Epoch 15/25\n",
            "2500/2500 [==============================] - 5s 2ms/step - loss: 0.7896 - accuracy: 0.7663 - val_loss: 0.8957 - val_accuracy: 0.7431\n",
            "Epoch 16/25\n",
            "2500/2500 [==============================] - 5s 2ms/step - loss: 0.7787 - accuracy: 0.7693 - val_loss: 0.8605 - val_accuracy: 0.7592\n",
            "Epoch 17/25\n",
            "2500/2500 [==============================] - 6s 2ms/step - loss: 0.7681 - accuracy: 0.7726 - val_loss: 0.8503 - val_accuracy: 0.7617\n",
            "Epoch 18/25\n",
            "2500/2500 [==============================] - 6s 2ms/step - loss: 0.7564 - accuracy: 0.7768 - val_loss: 0.8601 - val_accuracy: 0.7653\n",
            "Epoch 19/25\n",
            "2500/2500 [==============================] - 6s 2ms/step - loss: 0.7454 - accuracy: 0.7788 - val_loss: 0.8440 - val_accuracy: 0.7624\n",
            "Epoch 20/25\n",
            "2500/2500 [==============================] - 5s 2ms/step - loss: 0.7365 - accuracy: 0.7835 - val_loss: 0.8393 - val_accuracy: 0.7689\n",
            "Epoch 21/25\n",
            "2500/2500 [==============================] - 5s 2ms/step - loss: 0.7307 - accuracy: 0.7843 - val_loss: 0.8327 - val_accuracy: 0.7666\n",
            "Epoch 22/25\n",
            "2500/2500 [==============================] - 5s 2ms/step - loss: 0.7186 - accuracy: 0.7880 - val_loss: 0.8243 - val_accuracy: 0.7714\n",
            "Epoch 23/25\n",
            "2500/2500 [==============================] - 5s 2ms/step - loss: 0.7145 - accuracy: 0.7879 - val_loss: 0.8403 - val_accuracy: 0.7619\n",
            "Epoch 24/25\n",
            "2500/2500 [==============================] - 5s 2ms/step - loss: 0.7074 - accuracy: 0.7909 - val_loss: 0.8292 - val_accuracy: 0.7757\n",
            "Epoch 25/25\n",
            "2500/2500 [==============================] - 5s 2ms/step - loss: 0.7002 - accuracy: 0.7930 - val_loss: 0.8148 - val_accuracy: 0.7753\n"
          ],
          "name": "stdout"
        }
      ]
    },
    {
      "cell_type": "code",
      "metadata": {
        "id": "6pbKo9cPhmSk",
        "colab_type": "code",
        "colab": {
          "base_uri": "https://localhost:8080/",
          "height": 867
        },
        "outputId": "122f6a47-4b71-4a7c-81d8-9b619034949b"
      },
      "source": [
        "opt_5 = create_model(optimize='adadelta').fit(X_train, y_train,\n",
        "                                epochs=25,\n",
        "                                validation_data=(X_test,y_test)\n",
        ")"
      ],
      "execution_count": null,
      "outputs": [
        {
          "output_type": "stream",
          "text": [
            "Epoch 1/25\n",
            "2500/2500 [==============================] - 5s 2ms/step - loss: 64.7429 - accuracy: 0.1081 - val_loss: 52.5120 - val_accuracy: 0.1206\n",
            "Epoch 2/25\n",
            "2500/2500 [==============================] - 5s 2ms/step - loss: 46.0200 - accuracy: 0.1364 - val_loss: 40.2147 - val_accuracy: 0.1497\n",
            "Epoch 3/25\n",
            "2500/2500 [==============================] - 5s 2ms/step - loss: 36.3496 - accuracy: 0.1680 - val_loss: 32.9951 - val_accuracy: 0.1772\n",
            "Epoch 4/25\n",
            "2500/2500 [==============================] - 5s 2ms/step - loss: 30.3181 - accuracy: 0.1950 - val_loss: 28.1358 - val_accuracy: 0.2035\n",
            "Epoch 5/25\n",
            "2500/2500 [==============================] - 5s 2ms/step - loss: 26.0911 - accuracy: 0.2152 - val_loss: 24.5435 - val_accuracy: 0.2217\n",
            "Epoch 6/25\n",
            "2500/2500 [==============================] - 5s 2ms/step - loss: 22.8906 - accuracy: 0.2319 - val_loss: 21.7410 - val_accuracy: 0.2353\n",
            "Epoch 7/25\n",
            "2500/2500 [==============================] - 5s 2ms/step - loss: 20.3666 - accuracy: 0.2441 - val_loss: 19.4865 - val_accuracy: 0.2482\n",
            "Epoch 8/25\n",
            "2500/2500 [==============================] - 5s 2ms/step - loss: 18.3332 - accuracy: 0.2535 - val_loss: 17.6348 - val_accuracy: 0.2566\n",
            "Epoch 9/25\n",
            "2500/2500 [==============================] - 5s 2ms/step - loss: 16.6557 - accuracy: 0.2616 - val_loss: 16.0907 - val_accuracy: 0.2613\n",
            "Epoch 10/25\n",
            "2500/2500 [==============================] - 5s 2ms/step - loss: 15.2194 - accuracy: 0.2675 - val_loss: 14.7293 - val_accuracy: 0.2666\n",
            "Epoch 11/25\n",
            "2500/2500 [==============================] - 5s 2ms/step - loss: 13.9344 - accuracy: 0.2714 - val_loss: 13.4917 - val_accuracy: 0.2706\n",
            "Epoch 12/25\n",
            "2500/2500 [==============================] - 5s 2ms/step - loss: 12.7431 - accuracy: 0.2745 - val_loss: 12.3378 - val_accuracy: 0.2711\n",
            "Epoch 13/25\n",
            "2500/2500 [==============================] - 5s 2ms/step - loss: 11.6122 - accuracy: 0.2762 - val_loss: 11.2158 - val_accuracy: 0.2719\n",
            "Epoch 14/25\n",
            "2500/2500 [==============================] - 5s 2ms/step - loss: 10.5141 - accuracy: 0.2776 - val_loss: 10.1323 - val_accuracy: 0.2745\n",
            "Epoch 15/25\n",
            "2500/2500 [==============================] - 5s 2ms/step - loss: 9.4531 - accuracy: 0.2768 - val_loss: 9.0601 - val_accuracy: 0.2750\n",
            "Epoch 16/25\n",
            "2500/2500 [==============================] - 5s 2ms/step - loss: 8.4300 - accuracy: 0.2758 - val_loss: 8.0275 - val_accuracy: 0.2738\n",
            "Epoch 17/25\n",
            "2500/2500 [==============================] - 6s 2ms/step - loss: 7.4666 - accuracy: 0.2742 - val_loss: 7.0723 - val_accuracy: 0.2738\n",
            "Epoch 18/25\n",
            "2500/2500 [==============================] - 5s 2ms/step - loss: 6.5926 - accuracy: 0.2722 - val_loss: 6.2327 - val_accuracy: 0.2712\n",
            "Epoch 19/25\n",
            "2500/2500 [==============================] - 5s 2ms/step - loss: 5.8379 - accuracy: 0.2706 - val_loss: 5.5124 - val_accuracy: 0.2668\n",
            "Epoch 20/25\n",
            "2500/2500 [==============================] - 5s 2ms/step - loss: 5.2035 - accuracy: 0.2670 - val_loss: 4.9277 - val_accuracy: 0.2654\n",
            "Epoch 21/25\n",
            "2500/2500 [==============================] - 5s 2ms/step - loss: 4.6890 - accuracy: 0.2644 - val_loss: 4.4611 - val_accuracy: 0.2644\n",
            "Epoch 22/25\n",
            "2500/2500 [==============================] - 5s 2ms/step - loss: 4.2776 - accuracy: 0.2622 - val_loss: 4.0909 - val_accuracy: 0.2618\n",
            "Epoch 23/25\n",
            "2500/2500 [==============================] - 5s 2ms/step - loss: 3.9431 - accuracy: 0.2604 - val_loss: 3.7951 - val_accuracy: 0.2587\n",
            "Epoch 24/25\n",
            "2500/2500 [==============================] - 5s 2ms/step - loss: 3.6766 - accuracy: 0.2601 - val_loss: 3.5582 - val_accuracy: 0.2566\n",
            "Epoch 25/25\n",
            "2500/2500 [==============================] - 5s 2ms/step - loss: 3.4635 - accuracy: 0.2586 - val_loss: 3.3661 - val_accuracy: 0.2576\n"
          ],
          "name": "stdout"
        }
      ]
    },
    {
      "cell_type": "code",
      "metadata": {
        "id": "Lb4fg_kjhmQM",
        "colab_type": "code",
        "colab": {
          "base_uri": "https://localhost:8080/",
          "height": 204
        },
        "outputId": "406e0d1b-8f6d-46e2-a3da-4efadcf6ede6"
      },
      "source": [
        "batch_sizes = []\n",
        "\n",
        "for exp, result in zip([opt_1, opt_2, opt_3, opt_4, opt_5], [\"opt_1_\", \"opt_2_\", \"opt_3_\", \"opt_4_\", \"opt_5_\"]):\n",
        "\n",
        "  df = pd.DataFrame.from_dict(exp.history)\n",
        "  df['epoch'] = df.index.values\n",
        "  df['Learning Rate'] = result\n",
        "\n",
        "  batch_sizes.append(df)\n",
        "\n",
        "df = pd.concat(batch_sizes)\n",
        "df['Learning Rate'] = df['Learning Rate'].astype('str')\n",
        "df.head()"
      ],
      "execution_count": null,
      "outputs": [
        {
          "output_type": "execute_result",
          "data": {
            "text/html": [
              "<div>\n",
              "<style scoped>\n",
              "    .dataframe tbody tr th:only-of-type {\n",
              "        vertical-align: middle;\n",
              "    }\n",
              "\n",
              "    .dataframe tbody tr th {\n",
              "        vertical-align: top;\n",
              "    }\n",
              "\n",
              "    .dataframe thead th {\n",
              "        text-align: right;\n",
              "    }\n",
              "</style>\n",
              "<table border=\"1\" class=\"dataframe\">\n",
              "  <thead>\n",
              "    <tr style=\"text-align: right;\">\n",
              "      <th></th>\n",
              "      <th>loss</th>\n",
              "      <th>accuracy</th>\n",
              "      <th>val_loss</th>\n",
              "      <th>val_accuracy</th>\n",
              "      <th>epoch</th>\n",
              "      <th>Learning Rate</th>\n",
              "    </tr>\n",
              "  </thead>\n",
              "  <tbody>\n",
              "    <tr>\n",
              "      <th>0</th>\n",
              "      <td>2.845714</td>\n",
              "      <td>0.354212</td>\n",
              "      <td>1.658255</td>\n",
              "      <td>0.45325</td>\n",
              "      <td>0</td>\n",
              "      <td>opt_1_</td>\n",
              "    </tr>\n",
              "    <tr>\n",
              "      <th>1</th>\n",
              "      <td>1.496648</td>\n",
              "      <td>0.497175</td>\n",
              "      <td>1.418720</td>\n",
              "      <td>0.52685</td>\n",
              "      <td>1</td>\n",
              "      <td>opt_1_</td>\n",
              "    </tr>\n",
              "    <tr>\n",
              "      <th>2</th>\n",
              "      <td>1.338157</td>\n",
              "      <td>0.550538</td>\n",
              "      <td>1.319266</td>\n",
              "      <td>0.56200</td>\n",
              "      <td>2</td>\n",
              "      <td>opt_1_</td>\n",
              "    </tr>\n",
              "    <tr>\n",
              "      <th>3</th>\n",
              "      <td>1.257787</td>\n",
              "      <td>0.581425</td>\n",
              "      <td>1.256916</td>\n",
              "      <td>0.59145</td>\n",
              "      <td>3</td>\n",
              "      <td>opt_1_</td>\n",
              "    </tr>\n",
              "    <tr>\n",
              "      <th>4</th>\n",
              "      <td>1.203848</td>\n",
              "      <td>0.604125</td>\n",
              "      <td>1.210847</td>\n",
              "      <td>0.61275</td>\n",
              "      <td>4</td>\n",
              "      <td>opt_1_</td>\n",
              "    </tr>\n",
              "  </tbody>\n",
              "</table>\n",
              "</div>"
            ],
            "text/plain": [
              "       loss  accuracy  val_loss  val_accuracy  epoch Learning Rate\n",
              "0  2.845714  0.354212  1.658255       0.45325      0        opt_1_\n",
              "1  1.496648  0.497175  1.418720       0.52685      1        opt_1_\n",
              "2  1.338157  0.550538  1.319266       0.56200      2        opt_1_\n",
              "3  1.257787  0.581425  1.256916       0.59145      3        opt_1_\n",
              "4  1.203848  0.604125  1.210847       0.61275      4        opt_1_"
            ]
          },
          "metadata": {
            "tags": []
          },
          "execution_count": 61
        }
      ]
    },
    {
      "cell_type": "code",
      "metadata": {
        "id": "HkDQ0L4smqaR",
        "colab_type": "code",
        "colab": {}
      },
      "source": [
        "sns.lineplot(x='epoch', y='val_accuracy', hue='Learning Rate', data=df);"
      ],
      "execution_count": null,
      "outputs": []
    },
    {
      "cell_type": "code",
      "metadata": {
        "id": "WVYxl2Kkmqdz",
        "colab_type": "code",
        "colab": {}
      },
      "source": [
        "sns.lineplot(x='epoch', y='val_loss', hue='Learning Rate', data=df);"
      ],
      "execution_count": null,
      "outputs": []
    },
    {
      "cell_type": "markdown",
      "metadata": {
        "id": "ydAqeY9S8uHA",
        "colab_type": "text"
      },
      "source": [
        "### Additional Written Tasks\n",
        "\n",
        "1. Describe the process of backpropagation in your own words: \n",
        "```\n",
        "BackPropagation is a way of calculating the loss of the model from the true values but it's also based on each individual weights giving a more acurate reading and making so that it gradually improves the loss at each iteration.\n",
        "```\n",
        "\n"
      ]
    },
    {
      "cell_type": "markdown",
      "metadata": {
        "colab_type": "text",
        "id": "FwlRJSfBlCvy"
      },
      "source": [
        "## Stretch Goals: \n",
        "\n",
        "- Implement GridSearch on anyone of the experiments\n",
        "- On the learning rate experiments, implement [EarlyStopping](https://www.tensorflow.org/api_docs/python/tf/keras/callbacks/EarlyStopping)\n",
        "- Review material on the math behind gradient descent: \n",
        "\n",
        "  - Gradient Descent\n",
        "    - Gradient Descent, Step-by-Step  by StatQuest w/ Josh Starmer. This will help you understand the gradient descent based optimization that happens underneath the hood of neural networks. It uses a non-neural network example, which I believe is a gentler introduction. You will hear me refer to this technique as \"vanilla\" gradient descent. \n",
        "    - Stochastic Gradient Descent, Clearly Explained!!! by StatQuest w/ Josh Starmer. This builds on the techniques in the previous video.  This technique is the one that is actually implemented inside modern 'nets. \n",
        "These are great resources to help you understand tomorrow's material at a deeper level. I highly recommend watching these ahead of tomorrow.\n",
        "\n",
        "  - Background Math\n",
        "    - Dot products and duality by 3Blue1Brown. Explains the core linear algebra operation happening in today's perceptron.\n",
        "The paradox of the derivative by 3Blue1Brown. Does a great job explaining a derivative. \n",
        "    - Visualizing the chain rule and product rule by 3Blue1Brown. Explains the black magic that happens within Stochastic Gradient Descent. \n",
        "These math resources are very much optional. They can be very heady, but I encourage you to explore. Your understanding of neural networks will greatly increase if you understand this math background.\n",
        "\n",
        "\n"
      ]
    }
  ]
}