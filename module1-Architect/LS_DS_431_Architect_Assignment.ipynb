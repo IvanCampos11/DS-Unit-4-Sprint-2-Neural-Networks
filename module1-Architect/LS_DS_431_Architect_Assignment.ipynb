{
  "nbformat": 4,
  "nbformat_minor": 0,
  "metadata": {
    "colab": {
      "name": "LS_DS_432_TensorFlow_Assignment",
      "provenance": [],
      "collapsed_sections": [],
      "include_colab_link": true
    },
    "kernelspec": {
      "name": "python3",
      "display_name": "Python 3"
    },
    "accelerator": "GPU"
  },
  "cells": [
    {
      "cell_type": "markdown",
      "metadata": {
        "id": "view-in-github",
        "colab_type": "text"
      },
      "source": [
        "<a href=\"https://colab.research.google.com/github/IvanCampos11/DS-Unit-4-Sprint-2-Neural-Networks/blob/main/module1-Architect/LS_DS_431_Architect_Assignment.ipynb\" target=\"_parent\"><img src=\"https://colab.research.google.com/assets/colab-badge.svg\" alt=\"Open In Colab\"/></a>"
      ]
    },
    {
      "cell_type": "markdown",
      "metadata": {
        "id": "ObyHCH8HvHSf",
        "colab_type": "text"
      },
      "source": [
        "<img align=\"left\" src=\"https://lever-client-logos.s3.amazonaws.com/864372b1-534c-480e-acd5-9711f850815c-1524247202159.png\" width=200>\n",
        "<br></br>\n",
        "<br></br>\n",
        "\n",
        "# *Data Science Unit 4 Sprint 2 Assignment 1*\n",
        "\n",
        "Use TensorFlow Keras & a sample of the [Quickdraw dataset](https://github.com/googlecreativelab/quickdraw-dataset) to build a sketch classification model. The dataset has been sampled to only 10 classes and 10000 observations per class. Please build a baseline classification model then run a few experiments with different optimizers and learning rates. \n",
        "\n",
        "*Don't forgot to switch to GPU on Colab!*"
      ]
    },
    {
      "cell_type": "markdown",
      "metadata": {
        "id": "s-Tc3ovEyQ9b",
        "colab_type": "text"
      },
      "source": [
        "## Load Your Data"
      ]
    },
    {
      "cell_type": "code",
      "metadata": {
        "id": "CkU0pAYCvU8o",
        "colab_type": "code",
        "colab": {
          "base_uri": "https://localhost:8080/",
          "height": 51
        },
        "outputId": "92099874-bfa7-40ce-94ab-7ec1005936df"
      },
      "source": [
        "import numpy as np\n",
        "import tensorflow as tf \n",
        "\n",
        "data = np.load('quickdraw10.npz')\n",
        "X = data['arr_0']\n",
        "y = data['arr_1']\n",
        "\n",
        "print(X.shape)\n",
        "print(y.shape)"
      ],
      "execution_count": 2,
      "outputs": [
        {
          "output_type": "stream",
          "text": [
            "(100000, 784)\n",
            "(100000,)\n"
          ],
          "name": "stdout"
        }
      ]
    },
    {
      "cell_type": "code",
      "metadata": {
        "id": "c8qsDqdqvHDd",
        "colab_type": "code",
        "colab": {}
      },
      "source": [
        "class_names = ['apple',\n",
        " 'anvil',\n",
        " 'airplane',\n",
        " 'banana',\n",
        " 'The Eiffel Tower',\n",
        " 'The Mona Lisa',\n",
        " 'The Great Wall of China',\n",
        " 'alarm clock',\n",
        " 'ant',\n",
        " 'asparagus']"
      ],
      "execution_count": 3,
      "outputs": []
    },
    {
      "cell_type": "code",
      "metadata": {
        "id": "Owbm1EbxvA5A",
        "colab_type": "code",
        "colab": {
          "base_uri": "https://localhost:8080/",
          "height": 289
        },
        "outputId": "e5105368-5249-4070-c843-0f1108daae4c"
      },
      "source": [
        "import matplotlib.pyplot as plt\n",
        "plt.figure(figsize=(10,5))\n",
        "start = 0\n",
        "\n",
        "for num, name in enumerate(class_names):\n",
        "    plt.subplot(2,5, num+1)\n",
        "    plt.xticks([])\n",
        "    plt.yticks([])\n",
        "    plt.grid(False)\n",
        "    plt.imshow(X[start].reshape(28,28), cmap=plt.cm.binary)\n",
        "    plt.xlabel(name)\n",
        "    start += 10000\n",
        "plt.show()"
      ],
      "execution_count": 4,
      "outputs": [
        {
          "output_type": "display_data",
          "data": {
            "image/png": "[encoded data removed]",
            "text/plain": [
              "<Figure size 720x360 with 10 Axes>"
            ]
          },
          "metadata": {
            "tags": []
          }
        }
      ]
    },
    {
      "cell_type": "code",
      "metadata": {
        "id": "c97_M1WNvTNY",
        "colab_type": "code",
        "colab": {}
      },
      "source": [
        "# Need this line to randomly shuffle both the X & y at the same time.\n",
        "\n",
        "from sklearn.utils import shuffle\n",
        "X, y = shuffle(X, y)"
      ],
      "execution_count": 5,
      "outputs": []
    },
    {
      "cell_type": "markdown",
      "metadata": {
        "id": "jb70CbLVyK65",
        "colab_type": "text"
      },
      "source": [
        "## Build Your Baseline Model\n",
        "Some Hints:\n",
        "\n",
        "\n",
        "*  Model should have 784 input values (like mnist)\n",
        "*  Use `sparse_categorical_crossentropy` as your loss function.\n",
        "* You need 10 neurons in your last layer for output\n",
        "* You can add as many hidden layers with as many neurons in them as you like. \n",
        "* Limit your model epochs to 30 each time you fit.\n",
        "* You can use the `validation_split` command to automatically create a training / validation dataset.  Specify a percentage such as .2 in your fit statement. \n",
        "\n"
      ]
    },
    {
      "cell_type": "code",
      "metadata": {
        "id": "zHWblzsMyNkU",
        "colab_type": "code",
        "colab": {}
      },
      "source": [
        "import tensorflow as tf\n",
        "from tensorflow.keras import Sequential\n",
        "from tensorflow.keras.layers import Dense\n",
        "from sklearn.model_selection import train_test_split"
      ],
      "execution_count": 6,
      "outputs": []
    },
    {
      "cell_type": "code",
      "metadata": {
        "id": "AeuMau-DU4bI",
        "colab_type": "code",
        "colab": {}
      },
      "source": [
        "model = Sequential()"
      ],
      "execution_count": 7,
      "outputs": []
    },
    {
      "cell_type": "code",
      "metadata": {
        "id": "yPhr4YG5U4xg",
        "colab_type": "code",
        "colab": {}
      },
      "source": [
        "model.add(\n",
        "    Dense(32, activation='relu', input_dim=784)\n",
        ")"
      ],
      "execution_count": 8,
      "outputs": []
    },
    {
      "cell_type": "code",
      "metadata": {
        "id": "EXezSowXWDO-",
        "colab_type": "code",
        "colab": {}
      },
      "source": [
        "model.add(\n",
        "    Dense(10, activation='softmax')\n",
        ")"
      ],
      "execution_count": 9,
      "outputs": []
    },
    {
      "cell_type": "code",
      "metadata": {
        "id": "VI3zgUPSWDaE",
        "colab_type": "code",
        "colab": {
          "base_uri": "https://localhost:8080/",
          "height": 221
        },
        "outputId": "23e04a31-4dbf-4790-ce1b-a6a541f8202c"
      },
      "source": [
        "model.summary()"
      ],
      "execution_count": 10,
      "outputs": [
        {
          "output_type": "stream",
          "text": [
            "Model: \"sequential\"\n",
            "_________________________________________________________________\n",
            "Layer (type)                 Output Shape              Param #   \n",
            "=================================================================\n",
            "dense (Dense)                (None, 32)                25120     \n",
            "_________________________________________________________________\n",
            "dense_1 (Dense)              (None, 10)                330       \n",
            "=================================================================\n",
            "Total params: 25,450\n",
            "Trainable params: 25,450\n",
            "Non-trainable params: 0\n",
            "_________________________________________________________________\n"
          ],
          "name": "stdout"
        }
      ]
    },
    {
      "cell_type": "code",
      "metadata": {
        "id": "03Ei2Ru0XAvJ",
        "colab_type": "code",
        "colab": {}
      },
      "source": [
        "model.compile(optimizer='sgd', loss='sparse_categorical_crossentropy', metrics=['accuracy'])"
      ],
      "execution_count": 11,
      "outputs": []
    },
    {
      "cell_type": "code",
      "metadata": {
        "id": "2YOSmL1WYhOb",
        "colab_type": "code",
        "colab": {}
      },
      "source": [
        "X_train, X_val, y_train, y_val = train_test_split(X, y, test_size= 0.2)"
      ],
      "execution_count": 12,
      "outputs": []
    },
    {
      "cell_type": "code",
      "metadata": {
        "id": "kbwo1GAXXg34",
        "colab_type": "code",
        "colab": {
          "base_uri": "https://localhost:8080/",
          "height": 1000
        },
        "outputId": "bceca615-2a61-441d-945e-b48221760bff"
      },
      "source": [
        "baseline = model.fit(X_train, y_train, epochs=30, validation_data=(X_val, y_val))"
      ],
      "execution_count": 13,
      "outputs": [
        {
          "output_type": "stream",
          "text": [
            "Epoch 1/30\n",
            "2500/2500 [==============================] - 5s 2ms/step - loss: 4.8300 - accuracy: 0.1007 - val_loss: 2.3026 - val_accuracy: 0.1023\n",
            "Epoch 2/30\n",
            "2500/2500 [==============================] - 5s 2ms/step - loss: 2.2759 - accuracy: 0.1181 - val_loss: 2.2599 - val_accuracy: 0.1219\n",
            "Epoch 3/30\n",
            "2500/2500 [==============================] - 5s 2ms/step - loss: 2.2546 - accuracy: 0.1253 - val_loss: 2.2645 - val_accuracy: 0.1220\n",
            "Epoch 4/30\n",
            "2500/2500 [==============================] - 5s 2ms/step - loss: 2.2652 - accuracy: 0.1215 - val_loss: 2.3353 - val_accuracy: 0.1212\n",
            "Epoch 5/30\n",
            "2500/2500 [==============================] - 5s 2ms/step - loss: 2.2663 - accuracy: 0.1220 - val_loss: 2.2845 - val_accuracy: 0.1275\n",
            "Epoch 6/30\n",
            "2500/2500 [==============================] - 5s 2ms/step - loss: 2.2721 - accuracy: 0.1203 - val_loss: 2.2894 - val_accuracy: 0.1216\n",
            "Epoch 7/30\n",
            "2500/2500 [==============================] - 5s 2ms/step - loss: 2.2647 - accuracy: 0.1167 - val_loss: 2.3021 - val_accuracy: 0.1017\n",
            "Epoch 8/30\n",
            "2500/2500 [==============================] - 5s 2ms/step - loss: 2.2775 - accuracy: 0.1118 - val_loss: 2.2986 - val_accuracy: 0.1162\n",
            "Epoch 9/30\n",
            "2500/2500 [==============================] - 5s 2ms/step - loss: 2.2710 - accuracy: 0.1180 - val_loss: 2.3371 - val_accuracy: 0.1208\n",
            "Epoch 10/30\n",
            "2500/2500 [==============================] - 5s 2ms/step - loss: 2.2559 - accuracy: 0.1230 - val_loss: 2.2929 - val_accuracy: 0.1285\n",
            "Epoch 11/30\n",
            "2500/2500 [==============================] - 5s 2ms/step - loss: 2.2514 - accuracy: 0.1224 - val_loss: 2.2757 - val_accuracy: 0.1190\n",
            "Epoch 12/30\n",
            "2500/2500 [==============================] - 5s 2ms/step - loss: 2.2525 - accuracy: 0.1242 - val_loss: 2.3038 - val_accuracy: 0.1125\n",
            "Epoch 13/30\n",
            "2500/2500 [==============================] - 5s 2ms/step - loss: 2.2555 - accuracy: 0.1204 - val_loss: 2.3025 - val_accuracy: 0.1254\n",
            "Epoch 14/30\n",
            "2500/2500 [==============================] - 5s 2ms/step - loss: 2.2485 - accuracy: 0.1251 - val_loss: 2.2825 - val_accuracy: 0.1260\n",
            "Epoch 15/30\n",
            "2500/2500 [==============================] - 5s 2ms/step - loss: 2.2720 - accuracy: 0.1184 - val_loss: 2.2942 - val_accuracy: 0.1175\n",
            "Epoch 16/30\n",
            "2500/2500 [==============================] - 5s 2ms/step - loss: 2.2459 - accuracy: 0.1259 - val_loss: 2.2882 - val_accuracy: 0.1258\n",
            "Epoch 17/30\n",
            "2500/2500 [==============================] - 5s 2ms/step - loss: 2.2468 - accuracy: 0.1262 - val_loss: 2.4137 - val_accuracy: 0.1199\n",
            "Epoch 18/30\n",
            "2500/2500 [==============================] - 5s 2ms/step - loss: 2.2703 - accuracy: 0.1159 - val_loss: 2.3205 - val_accuracy: 0.1142\n",
            "Epoch 19/30\n",
            "2500/2500 [==============================] - 5s 2ms/step - loss: 2.2516 - accuracy: 0.1242 - val_loss: 2.4260 - val_accuracy: 0.1292\n",
            "Epoch 20/30\n",
            "2500/2500 [==============================] - 5s 2ms/step - loss: 2.2564 - accuracy: 0.1246 - val_loss: 2.2833 - val_accuracy: 0.1196\n",
            "Epoch 21/30\n",
            "2500/2500 [==============================] - 4s 2ms/step - loss: 2.2423 - accuracy: 0.1264 - val_loss: 2.4557 - val_accuracy: 0.1243\n",
            "Epoch 22/30\n",
            "2500/2500 [==============================] - 5s 2ms/step - loss: 2.2432 - accuracy: 0.1251 - val_loss: 2.4186 - val_accuracy: 0.1199\n",
            "Epoch 23/30\n",
            "2500/2500 [==============================] - 5s 2ms/step - loss: 2.2497 - accuracy: 0.1270 - val_loss: 2.3836 - val_accuracy: 0.1280\n",
            "Epoch 24/30\n",
            "2500/2500 [==============================] - 5s 2ms/step - loss: 2.2713 - accuracy: 0.1172 - val_loss: 2.6872 - val_accuracy: 0.1243\n",
            "Epoch 25/30\n",
            "2500/2500 [==============================] - 6s 2ms/step - loss: 2.2655 - accuracy: 0.1160 - val_loss: 2.6070 - val_accuracy: 0.1235\n",
            "Epoch 26/30\n",
            "2500/2500 [==============================] - 5s 2ms/step - loss: 2.2665 - accuracy: 0.1173 - val_loss: 2.3732 - val_accuracy: 0.1120\n",
            "Epoch 27/30\n",
            "2500/2500 [==============================] - 5s 2ms/step - loss: 2.2524 - accuracy: 0.1237 - val_loss: 2.5909 - val_accuracy: 0.1191\n",
            "Epoch 28/30\n",
            "2500/2500 [==============================] - 5s 2ms/step - loss: 2.2644 - accuracy: 0.1159 - val_loss: 2.5230 - val_accuracy: 0.1179\n",
            "Epoch 29/30\n",
            "2500/2500 [==============================] - 5s 2ms/step - loss: 2.2645 - accuracy: 0.1179 - val_loss: 2.3958 - val_accuracy: 0.1145\n",
            "Epoch 30/30\n",
            "2500/2500 [==============================] - 5s 2ms/step - loss: 2.2549 - accuracy: 0.1205 - val_loss: 2.4822 - val_accuracy: 0.1220\n"
          ],
          "name": "stdout"
        }
      ]
    },
    {
      "cell_type": "code",
      "metadata": {
        "id": "GxrHKh1LXg6k",
        "colab_type": "code",
        "colab": {
          "base_uri": "https://localhost:8080/",
          "height": 51
        },
        "outputId": "a1f02efb-e3d8-4102-ccd6-8328eef38f12"
      },
      "source": [
        "model.evaluate(X_val, y_val)"
      ],
      "execution_count": 14,
      "outputs": [
        {
          "output_type": "stream",
          "text": [
            "625/625 [==============================] - 1s 1ms/step - loss: 2.4822 - accuracy: 0.1220\n"
          ],
          "name": "stdout"
        },
        {
          "output_type": "execute_result",
          "data": {
            "text/plain": [
              "[2.482179880142212, 0.12200000137090683]"
            ]
          },
          "metadata": {
            "tags": []
          },
          "execution_count": 14
        }
      ]
    },
    {
      "cell_type": "code",
      "metadata": {
        "id": "pU0fl1hVXhBK",
        "colab_type": "code",
        "colab": {}
      },
      "source": [
        ""
      ],
      "execution_count": 14,
      "outputs": []
    },
    {
      "cell_type": "markdown",
      "metadata": {
        "id": "b0QJURWh-9uv",
        "colab_type": "text"
      },
      "source": [
        "### Visualize the results\n",
        "\n",
        "Create charts for both loss and accuracy by epoch. Use line graphs for both charts. Analyze the results. \n",
        "\n",
        "At what point should we have stopped training the model and why? "
      ]
    },
    {
      "cell_type": "code",
      "metadata": {
        "id": "KONJtU5wqlXf",
        "colab_type": "code",
        "colab": {
          "base_uri": "https://localhost:8080/",
          "height": 1000
        },
        "outputId": "00c434a4-57ce-4983-bc1c-d68002273409"
      },
      "source": [
        "baseline.history"
      ],
      "execution_count": 15,
      "outputs": [
        {
          "output_type": "execute_result",
          "data": {
            "text/plain": [
              "{'accuracy': [0.10067500174045563,\n",
              "  0.1180500015616417,\n",
              "  0.12526249885559082,\n",
              "  0.12146250158548355,\n",
              "  0.12195000052452087,\n",
              "  0.12025000154972076,\n",
              "  0.1166749969124794,\n",
              "  0.11182499676942825,\n",
              "  0.11801250278949738,\n",
              "  0.12296249717473984,\n",
              "  0.12238749861717224,\n",
              "  0.12415000051259995,\n",
              "  0.12036249786615372,\n",
              "  0.12514999508857727,\n",
              "  0.11840000003576279,\n",
              "  0.12593750655651093,\n",
              "  0.1262124925851822,\n",
              "  0.11591249704360962,\n",
              "  0.12415000051259995,\n",
              "  0.12456250190734863,\n",
              "  0.12635000050067902,\n",
              "  0.12511250376701355,\n",
              "  0.12703749537467957,\n",
              "  0.11723750084638596,\n",
              "  0.11601249873638153,\n",
              "  0.11729999631643295,\n",
              "  0.12367500364780426,\n",
              "  0.11592499911785126,\n",
              "  0.11786250025033951,\n",
              "  0.1204875037074089],\n",
              " 'loss': [4.830036163330078,\n",
              "  2.2758915424346924,\n",
              "  2.2545571327209473,\n",
              "  2.2652482986450195,\n",
              "  2.2662763595581055,\n",
              "  2.2721457481384277,\n",
              "  2.264728546142578,\n",
              "  2.277506113052368,\n",
              "  2.270998477935791,\n",
              "  2.2558932304382324,\n",
              "  2.2513973712921143,\n",
              "  2.2525148391723633,\n",
              "  2.2555463314056396,\n",
              "  2.2485151290893555,\n",
              "  2.2719883918762207,\n",
              "  2.2459263801574707,\n",
              "  2.2468085289001465,\n",
              "  2.2702906131744385,\n",
              "  2.2515645027160645,\n",
              "  2.256378173828125,\n",
              "  2.2422690391540527,\n",
              "  2.243213176727295,\n",
              "  2.2496633529663086,\n",
              "  2.2713065147399902,\n",
              "  2.2655131816864014,\n",
              "  2.2664575576782227,\n",
              "  2.2523653507232666,\n",
              "  2.2643566131591797,\n",
              "  2.2645320892333984,\n",
              "  2.254880905151367],\n",
              " 'val_accuracy': [0.10225000232458115,\n",
              "  0.12189999967813492,\n",
              "  0.12200000137090683,\n",
              "  0.12120000272989273,\n",
              "  0.12745000422000885,\n",
              "  0.12155000120401382,\n",
              "  0.10170000046491623,\n",
              "  0.11620000004768372,\n",
              "  0.12075000256299973,\n",
              "  0.1285499930381775,\n",
              "  0.11900000274181366,\n",
              "  0.1124500036239624,\n",
              "  0.12540000677108765,\n",
              "  0.12604999542236328,\n",
              "  0.11749999970197678,\n",
              "  0.1257999986410141,\n",
              "  0.11985000222921371,\n",
              "  0.11424999684095383,\n",
              "  0.12919999659061432,\n",
              "  0.11959999799728394,\n",
              "  0.12425000220537186,\n",
              "  0.11994999647140503,\n",
              "  0.12804999947547913,\n",
              "  0.12425000220537186,\n",
              "  0.12349999696016312,\n",
              "  0.11204999685287476,\n",
              "  0.11914999783039093,\n",
              "  0.11794999986886978,\n",
              "  0.11445000022649765,\n",
              "  0.12200000137090683],\n",
              " 'val_loss': [2.302602767944336,\n",
              "  2.259894609451294,\n",
              "  2.2645316123962402,\n",
              "  2.335313081741333,\n",
              "  2.284477472305298,\n",
              "  2.2893919944763184,\n",
              "  2.302145004272461,\n",
              "  2.2986202239990234,\n",
              "  2.3370888233184814,\n",
              "  2.2929155826568604,\n",
              "  2.275656223297119,\n",
              "  2.30376935005188,\n",
              "  2.302457571029663,\n",
              "  2.282459259033203,\n",
              "  2.2942097187042236,\n",
              "  2.2881858348846436,\n",
              "  2.413673162460327,\n",
              "  2.3205292224884033,\n",
              "  2.426016092300415,\n",
              "  2.283268451690674,\n",
              "  2.455731153488159,\n",
              "  2.4185969829559326,\n",
              "  2.383603811264038,\n",
              "  2.6872329711914062,\n",
              "  2.6069581508636475,\n",
              "  2.3732495307922363,\n",
              "  2.590916872024536,\n",
              "  2.523012638092041,\n",
              "  2.39578914642334,\n",
              "  2.482179880142212]}"
            ]
          },
          "metadata": {
            "tags": []
          },
          "execution_count": 15
        }
      ]
    },
    {
      "cell_type": "code",
      "metadata": {
        "id": "ijAlzfYKAFaY",
        "colab_type": "code",
        "colab": {
          "base_uri": "https://localhost:8080/",
          "height": 313
        },
        "outputId": "0644a2ef-2100-464d-de52-2fb625669323"
      },
      "source": [
        "import seaborn as sns\n",
        "import pandas as pd\n",
        "\n",
        "df = pd.DataFrame.from_records(baseline.history)\n",
        "df['epoch'] = [i for i in range(df.shape[0])]\n",
        "\n",
        "ax = sns.lineplot(x='epoch', y='val_loss', data=df)\n",
        "ax = sns.lineplot(x='epoch', y='loss', data=df);"
      ],
      "execution_count": 16,
      "outputs": [
        {
          "output_type": "stream",
          "text": [
            "/usr/local/lib/python3.6/dist-packages/statsmodels/tools/_testing.py:19: FutureWarning: pandas.util.testing is deprecated. Use the functions in the public API at pandas.testing instead.\n",
            "  import pandas.util.testing as tm\n"
          ],
          "name": "stderr"
        },
        {
          "output_type": "display_data",
          "data": {
            "image/png": "[encoded data removed]",
            "text/plain": [
              "<Figure size 432x288 with 1 Axes>"
            ]
          },
          "metadata": {
            "tags": [],
            "needs_background": "light"
          }
        }
      ]
    },
    {
      "cell_type": "markdown",
      "metadata": {
        "id": "MAhBrcE4yOZe",
        "colab_type": "text"
      },
      "source": [
        "## Change Optimizers\n",
        "Try using the keras `adam` optimizer instead of `sgd` in your model. Visualize the difference in validation loss between the models with different optimizers. "
      ]
    },
    {
      "cell_type": "code",
      "metadata": {
        "id": "jIW_spOZ0cxy",
        "colab_type": "code",
        "colab": {
          "base_uri": "https://localhost:8080/",
          "height": 1000
        },
        "outputId": "49f3a4a4-509a-458b-a77c-bb54784564b2"
      },
      "source": [
        "from tensorflow.keras.optimizers import Adam\n",
        "\n",
        "adam = Adam()\n",
        "\n",
        "model = Sequential()\n",
        "model.add(\n",
        "    Dense(32, activation='relu', input_dim=784)\n",
        ")\n",
        "model.add(\n",
        "    Dense(10, activation='softmax')\n",
        ")\n",
        "\n",
        "model.compile(optimizer='adam', loss='sparse_categorical_crossentropy', metrics=['accuracy'])\n",
        "\n",
        "baseline = model.fit(X_train, y_train, epochs=30, validation_data=(X_val, y_val))"
      ],
      "execution_count": 18,
      "outputs": [
        {
          "output_type": "stream",
          "text": [
            "Epoch 1/30\n",
            "2500/2500 [==============================] - 5s 2ms/step - loss: 2.5579 - accuracy: 0.3229 - val_loss: 1.5960 - val_accuracy: 0.4248\n",
            "Epoch 2/30\n",
            "2500/2500 [==============================] - 5s 2ms/step - loss: 1.5006 - accuracy: 0.4553 - val_loss: 1.4068 - val_accuracy: 0.4990\n",
            "Epoch 3/30\n",
            "2500/2500 [==============================] - 5s 2ms/step - loss: 1.3302 - accuracy: 0.5250 - val_loss: 1.2823 - val_accuracy: 0.5509\n",
            "Epoch 4/30\n",
            "2500/2500 [==============================] - 5s 2ms/step - loss: 1.1849 - accuracy: 0.5797 - val_loss: 1.2041 - val_accuracy: 0.5921\n",
            "Epoch 5/30\n",
            "2500/2500 [==============================] - 5s 2ms/step - loss: 1.0965 - accuracy: 0.6214 - val_loss: 1.1341 - val_accuracy: 0.6571\n",
            "Epoch 6/30\n",
            "2500/2500 [==============================] - 5s 2ms/step - loss: 1.0392 - accuracy: 0.6607 - val_loss: 1.0340 - val_accuracy: 0.6706\n",
            "Epoch 7/30\n",
            "2500/2500 [==============================] - 5s 2ms/step - loss: 1.0236 - accuracy: 0.6685 - val_loss: 1.0322 - val_accuracy: 0.6744\n",
            "Epoch 8/30\n",
            "2500/2500 [==============================] - 5s 2ms/step - loss: 1.0081 - accuracy: 0.6746 - val_loss: 1.0379 - val_accuracy: 0.6663\n",
            "Epoch 9/30\n",
            "2500/2500 [==============================] - 5s 2ms/step - loss: 0.9987 - accuracy: 0.6794 - val_loss: 1.0321 - val_accuracy: 0.6804\n",
            "Epoch 10/30\n",
            "2500/2500 [==============================] - 5s 2ms/step - loss: 0.9886 - accuracy: 0.6807 - val_loss: 1.0097 - val_accuracy: 0.6888\n",
            "Epoch 11/30\n",
            "2500/2500 [==============================] - 5s 2ms/step - loss: 0.9788 - accuracy: 0.6849 - val_loss: 1.0248 - val_accuracy: 0.6888\n",
            "Epoch 12/30\n",
            "2500/2500 [==============================] - 5s 2ms/step - loss: 0.9629 - accuracy: 0.6881 - val_loss: 1.0628 - val_accuracy: 0.6635\n",
            "Epoch 13/30\n",
            "2500/2500 [==============================] - 5s 2ms/step - loss: 0.9414 - accuracy: 0.6929 - val_loss: 0.9841 - val_accuracy: 0.6857\n",
            "Epoch 14/30\n",
            "2500/2500 [==============================] - 5s 2ms/step - loss: 0.9173 - accuracy: 0.7025 - val_loss: 0.9438 - val_accuracy: 0.7132\n",
            "Epoch 15/30\n",
            "2500/2500 [==============================] - 5s 2ms/step - loss: 0.8933 - accuracy: 0.7169 - val_loss: 0.9704 - val_accuracy: 0.7100\n",
            "Epoch 16/30\n",
            "2500/2500 [==============================] - 5s 2ms/step - loss: 0.8916 - accuracy: 0.7200 - val_loss: 0.9765 - val_accuracy: 0.7128\n",
            "Epoch 17/30\n",
            "2500/2500 [==============================] - 5s 2ms/step - loss: 0.8880 - accuracy: 0.7214 - val_loss: 1.0117 - val_accuracy: 0.7030\n",
            "Epoch 18/30\n",
            "2500/2500 [==============================] - 6s 2ms/step - loss: 0.8856 - accuracy: 0.7214 - val_loss: 0.9421 - val_accuracy: 0.7103\n",
            "Epoch 19/30\n",
            "2500/2500 [==============================] - 5s 2ms/step - loss: 0.8794 - accuracy: 0.7266 - val_loss: 0.9583 - val_accuracy: 0.7039\n",
            "Epoch 20/30\n",
            "2500/2500 [==============================] - 5s 2ms/step - loss: 0.8771 - accuracy: 0.7230 - val_loss: 0.9552 - val_accuracy: 0.7221\n",
            "Epoch 21/30\n",
            "2500/2500 [==============================] - 5s 2ms/step - loss: 0.8764 - accuracy: 0.7258 - val_loss: 0.9590 - val_accuracy: 0.7149\n",
            "Epoch 22/30\n",
            "2500/2500 [==============================] - 5s 2ms/step - loss: 0.8731 - accuracy: 0.7255 - val_loss: 0.9608 - val_accuracy: 0.7174\n",
            "Epoch 23/30\n",
            "2500/2500 [==============================] - 5s 2ms/step - loss: 0.8713 - accuracy: 0.7257 - val_loss: 0.9630 - val_accuracy: 0.7230\n",
            "Epoch 24/30\n",
            "2500/2500 [==============================] - 5s 2ms/step - loss: 0.8722 - accuracy: 0.7259 - val_loss: 0.9855 - val_accuracy: 0.6868\n",
            "Epoch 25/30\n",
            "2500/2500 [==============================] - 5s 2ms/step - loss: 0.8709 - accuracy: 0.7264 - val_loss: 1.0341 - val_accuracy: 0.6778\n",
            "Epoch 26/30\n",
            "2500/2500 [==============================] - 5s 2ms/step - loss: 0.8697 - accuracy: 0.7256 - val_loss: 0.9839 - val_accuracy: 0.7079\n",
            "Epoch 27/30\n",
            "2500/2500 [==============================] - 5s 2ms/step - loss: 0.8669 - accuracy: 0.7276 - val_loss: 0.9638 - val_accuracy: 0.7264\n",
            "Epoch 28/30\n",
            "2500/2500 [==============================] - 5s 2ms/step - loss: 0.8665 - accuracy: 0.7281 - val_loss: 0.9573 - val_accuracy: 0.7293\n",
            "Epoch 29/30\n",
            "2500/2500 [==============================] - 5s 2ms/step - loss: 0.8679 - accuracy: 0.7289 - val_loss: 0.9701 - val_accuracy: 0.7063\n",
            "Epoch 30/30\n",
            "2500/2500 [==============================] - 5s 2ms/step - loss: 0.8663 - accuracy: 0.7300 - val_loss: 1.0440 - val_accuracy: 0.7138\n"
          ],
          "name": "stdout"
        }
      ]
    },
    {
      "cell_type": "code",
      "metadata": {
        "id": "artJoyO_cqBy",
        "colab_type": "code",
        "colab": {
          "base_uri": "https://localhost:8080/",
          "height": 279
        },
        "outputId": "47a208cc-d21d-42c7-c030-63ebc5abf419"
      },
      "source": [
        "df = pd.DataFrame.from_records(baseline.history)\n",
        "df['epoch'] = [i for i in range(df.shape[0])]\n",
        "\n",
        "ax = sns.lineplot(x='epoch', y='val_loss', data=df)\n",
        "ax = sns.lineplot(x='epoch', y='loss', data=df);"
      ],
      "execution_count": 19,
      "outputs": [
        {
          "output_type": "display_data",
          "data": {
            "image/png": "[encoded data removed]",
            "text/plain": [
              "<Figure size 432x288 with 1 Axes>"
            ]
          },
          "metadata": {
            "tags": [],
            "needs_background": "light"
          }
        }
      ]
    },
    {
      "cell_type": "markdown",
      "metadata": {
        "id": "EJrbh3qryi4w",
        "colab_type": "text"
      },
      "source": [
        "### Additional Written Tasks:\n",
        "In this section, you will need to search for resources: \n",
        "1. Investigate the various [loss functions](https://www.tensorflow.org/api_docs/python/tf/keras/losses). Which is best suited for the task at hand (predicting 1 / 0) and why? \n",
        "2. What is the difference between a loss function and a metric? Why might we need both in Keras? \n",
        "3. Investigate the various [optimizers](https://www.tensorflow.org/api_docs/python/tf/keras/optimizers). Stochastic Gradient Descent (`sgd`) is not the learning algorithm dejour anyone. Why is that? What do newer optimizers such as `adam` have to offer? "
      ]
    },
    {
      "cell_type": "markdown",
      "metadata": {
        "id": "Gzs4fd-RynDd",
        "colab_type": "text"
      },
      "source": [
        "## Stretch Goals: \n",
        "\n",
        "- Research convolutional neural networks and try including convolution layers in your network.\n",
        "- Pick two classes and make QuickDraw a binary classification problem, how does your model architecture change?\n",
        "- Implement Cross Validation model evaluation on your Quickdraw implementation \n",
        "\n",
        "Watch some more videos on Gradient Descent:\n",
        "- [Gradient Descent, Step-by-Step](https://www.youtube.com/watch?v=sDv4f4s2SB8)  by StatQuest w/ Josh Starmer. This will help you understand the gradient descent based optimization that happens underneath the hood of neural networks. It uses a non-neural network example, which I believe is a gentler introduction. You will hear me refer to this technique as \"vanilla\" gradient descent. \n",
        "- [Stochastic Gradient Descent, Clearly Explained!!!](https://www.youtube.com/watch?v=vMh0zPT0tLI) by StatQuest w/ Josh Starmer. This builds on the techniques in the previous video.  This technique is the one that is actually implemented inside modern 'nets. \n",
        "- [Siraj Raval the evolution of gradient descent](https://www.youtube.com/watch?v=nhqo0u1a6fw)"
      ]
    }
  ]
}