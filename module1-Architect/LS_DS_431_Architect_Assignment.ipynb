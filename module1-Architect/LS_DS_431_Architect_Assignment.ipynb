{
  "nbformat": 4,
  "nbformat_minor": 0,
  "metadata": {
    "colab": {
      "name": "LS_DS_432_TensorFlow_Assignment",
      "provenance": [],
      "collapsed_sections": [],
      "include_colab_link": true
    },
    "kernelspec": {
      "name": "python3",
      "display_name": "Python 3"
    },
    "accelerator": "GPU"
  },
  "cells": [
    {
      "cell_type": "markdown",
      "metadata": {
        "id": "view-in-github",
        "colab_type": "text"
      },
      "source": [
        "<a href=\"https://colab.research.google.com/github/IvanCampos11/DS-Unit-4-Sprint-2-Neural-Networks/blob/main/module1-Architect/LS_DS_431_Architect_Assignment.ipynb\" target=\"_parent\"><img src=\"https://colab.research.google.com/assets/colab-badge.svg\" alt=\"Open In Colab\"/></a>"
      ]
    },
    {
      "cell_type": "markdown",
      "metadata": {
        "id": "ObyHCH8HvHSf",
        "colab_type": "text"
      },
      "source": [
        "<img align=\"left\" src=\"https://lever-client-logos.s3.amazonaws.com/864372b1-534c-480e-acd5-9711f850815c-1524247202159.png\" width=200>\n",
        "<br></br>\n",
        "<br></br>\n",
        "\n",
        "# *Data Science Unit 4 Sprint 2 Assignment 1*\n",
        "\n",
        "Use TensorFlow Keras & a sample of the [Quickdraw dataset](https://github.com/googlecreativelab/quickdraw-dataset) to build a sketch classification model. The dataset has been sampled to only 10 classes and 10000 observations per class. Please build a baseline classification model then run a few experiments with different optimizers and learning rates. \n",
        "\n",
        "*Don't forgot to switch to GPU on Colab!*"
      ]
    },
    {
      "cell_type": "markdown",
      "metadata": {
        "id": "s-Tc3ovEyQ9b",
        "colab_type": "text"
      },
      "source": [
        "## Load Your Data"
      ]
    },
    {
      "cell_type": "code",
      "metadata": {
        "id": "CkU0pAYCvU8o",
        "colab_type": "code",
        "colab": {
          "base_uri": "https://localhost:8080/",
          "height": 51
        },
        "outputId": "01dacdbb-be75-42fc-e02f-45c84a5dda31"
      },
      "source": [
        "import numpy as np\n",
        "import tensorflow as tf \n",
        "\n",
        "data = np.load('quickdraw10.npz')\n",
        "X = data['arr_0']\n",
        "y = data['arr_1']\n",
        "\n",
        "print(X.shape)\n",
        "print(y.shape)"
      ],
      "execution_count": 65,
      "outputs": [
        {
          "output_type": "stream",
          "text": [
            "(100000, 784)\n",
            "(100000,)\n"
          ],
          "name": "stdout"
        }
      ]
    },
    {
      "cell_type": "code",
      "metadata": {
        "id": "c8qsDqdqvHDd",
        "colab_type": "code",
        "colab": {}
      },
      "source": [
        "class_names = ['apple',\n",
        " 'anvil',\n",
        " 'airplane',\n",
        " 'banana',\n",
        " 'The Eiffel Tower',\n",
        " 'The Mona Lisa',\n",
        " 'The Great Wall of China',\n",
        " 'alarm clock',\n",
        " 'ant',\n",
        " 'asparagus']"
      ],
      "execution_count": 66,
      "outputs": []
    },
    {
      "cell_type": "code",
      "metadata": {
        "id": "Owbm1EbxvA5A",
        "colab_type": "code",
        "colab": {
          "base_uri": "https://localhost:8080/",
          "height": 289
        },
        "outputId": "5a4a484a-74a5-419c-b361-8ee65d84e912"
      },
      "source": [
        "import matplotlib.pyplot as plt\n",
        "plt.figure(figsize=(10,5))\n",
        "start = 0\n",
        "\n",
        "for num, name in enumerate(class_names):\n",
        "    plt.subplot(2,5, num+1)\n",
        "    plt.xticks([])\n",
        "    plt.yticks([])\n",
        "    plt.grid(False)\n",
        "    plt.imshow(X[start].reshape(28,28), cmap=plt.cm.binary)\n",
        "    plt.xlabel(name)\n",
        "    start += 10000\n",
        "plt.show()"
      ],
      "execution_count": 67,
      "outputs": [
        {
          "output_type": "display_data",
          "data": {
            "image/png": "[encoded data removed]",
            "text/plain": [
              "<Figure size 720x360 with 10 Axes>"
            ]
          },
          "metadata": {
            "tags": []
          }
        }
      ]
    },
    {
      "cell_type": "code",
      "metadata": {
        "id": "c97_M1WNvTNY",
        "colab_type": "code",
        "colab": {}
      },
      "source": [
        "# Need this line to randomly shuffle both the X & y at the same time.\n",
        "\n",
        "from sklearn.utils import shuffle\n",
        "X, y = shuffle(X, y)"
      ],
      "execution_count": 68,
      "outputs": []
    },
    {
      "cell_type": "markdown",
      "metadata": {
        "id": "jb70CbLVyK65",
        "colab_type": "text"
      },
      "source": [
        "## Build Your Baseline Model\n",
        "Some Hints:\n",
        "\n",
        "\n",
        "*  Model should have 784 input values (like mnist)\n",
        "*  Use `sparse_categorical_crossentropy` as your loss function.\n",
        "* You need 10 neurons in your last layer for output\n",
        "* You can add as many hidden layers with as many neurons in them as you like. \n",
        "* Limit your model epochs to 30 each time you fit.\n",
        "* You can use the `validation_split` command to automatically create a training / validation dataset.  Specify a percentage such as .2 in your fit statement. \n",
        "\n"
      ]
    },
    {
      "cell_type": "code",
      "metadata": {
        "id": "zHWblzsMyNkU",
        "colab_type": "code",
        "colab": {}
      },
      "source": [
        "import tensorflow as tf\n",
        "from tensorflow.keras import Sequential\n",
        "from tensorflow.keras.layers import Dense\n",
        "from sklearn.model_selection import train_test_split"
      ],
      "execution_count": 69,
      "outputs": []
    },
    {
      "cell_type": "code",
      "metadata": {
        "id": "AeuMau-DU4bI",
        "colab_type": "code",
        "colab": {}
      },
      "source": [
        "model = Sequential()"
      ],
      "execution_count": 70,
      "outputs": []
    },
    {
      "cell_type": "code",
      "metadata": {
        "id": "yPhr4YG5U4xg",
        "colab_type": "code",
        "colab": {}
      },
      "source": [
        "model.add(\n",
        "    Dense(32, activation='relu', input_dim=784)\n",
        ")"
      ],
      "execution_count": 71,
      "outputs": []
    },
    {
      "cell_type": "code",
      "metadata": {
        "id": "EXezSowXWDO-",
        "colab_type": "code",
        "colab": {}
      },
      "source": [
        "model.add(\n",
        "    Dense(10, activation='softmax')\n",
        ")"
      ],
      "execution_count": 72,
      "outputs": []
    },
    {
      "cell_type": "code",
      "metadata": {
        "id": "VI3zgUPSWDaE",
        "colab_type": "code",
        "colab": {
          "base_uri": "https://localhost:8080/",
          "height": 221
        },
        "outputId": "24a821e4-35e7-45c5-bb13-8c29c533efa0"
      },
      "source": [
        "model.summary()"
      ],
      "execution_count": 73,
      "outputs": [
        {
          "output_type": "stream",
          "text": [
            "Model: \"sequential_4\"\n",
            "_________________________________________________________________\n",
            "Layer (type)                 Output Shape              Param #   \n",
            "=================================================================\n",
            "dense_12 (Dense)             (None, 32)                25120     \n",
            "_________________________________________________________________\n",
            "dense_13 (Dense)             (None, 10)                330       \n",
            "=================================================================\n",
            "Total params: 25,450\n",
            "Trainable params: 25,450\n",
            "Non-trainable params: 0\n",
            "_________________________________________________________________\n"
          ],
          "name": "stdout"
        }
      ]
    },
    {
      "cell_type": "code",
      "metadata": {
        "id": "03Ei2Ru0XAvJ",
        "colab_type": "code",
        "colab": {}
      },
      "source": [
        "model.compile(optimizer='adam', loss='sparse_categorical_crossentropy', metrics=['accuracy'])"
      ],
      "execution_count": 74,
      "outputs": []
    },
    {
      "cell_type": "code",
      "metadata": {
        "id": "2YOSmL1WYhOb",
        "colab_type": "code",
        "colab": {}
      },
      "source": [
        "X_train, X_val, y_train, y_val = train_test_split(X, y, test_size= 0.2)"
      ],
      "execution_count": 75,
      "outputs": []
    },
    {
      "cell_type": "code",
      "metadata": {
        "id": "kbwo1GAXXg34",
        "colab_type": "code",
        "colab": {
          "base_uri": "https://localhost:8080/",
          "height": 1000
        },
        "outputId": "bad1a7d1-2eb6-4094-b84d-f13a63493a48"
      },
      "source": [
        "baseline = model.fit(X_train, y_train, epochs=30, validation_data=(X_val, y_val))"
      ],
      "execution_count": 76,
      "outputs": [
        {
          "output_type": "stream",
          "text": [
            "Epoch 1/30\n",
            "2500/2500 [==============================] - 7s 3ms/step - loss: 2.4510 - accuracy: 0.3362 - val_loss: 1.6322 - val_accuracy: 0.4318\n",
            "Epoch 2/30\n",
            "2500/2500 [==============================] - 6s 3ms/step - loss: 1.4631 - accuracy: 0.4753 - val_loss: 1.3442 - val_accuracy: 0.5182\n",
            "Epoch 3/30\n",
            "2500/2500 [==============================] - 6s 3ms/step - loss: 1.2420 - accuracy: 0.5672 - val_loss: 1.1778 - val_accuracy: 0.6003\n",
            "Epoch 4/30\n",
            "2500/2500 [==============================] - 6s 3ms/step - loss: 1.0838 - accuracy: 0.6339 - val_loss: 1.0450 - val_accuracy: 0.6558\n",
            "Epoch 5/30\n",
            "2500/2500 [==============================] - 6s 3ms/step - loss: 1.0114 - accuracy: 0.6709 - val_loss: 1.0086 - val_accuracy: 0.6768\n",
            "Epoch 6/30\n",
            "2500/2500 [==============================] - 6s 3ms/step - loss: 0.9793 - accuracy: 0.6833 - val_loss: 0.9968 - val_accuracy: 0.6813\n",
            "Epoch 7/30\n",
            "2500/2500 [==============================] - 8s 3ms/step - loss: 0.9587 - accuracy: 0.6874 - val_loss: 0.9738 - val_accuracy: 0.6857\n",
            "Epoch 8/30\n",
            "2500/2500 [==============================] - 7s 3ms/step - loss: 0.9340 - accuracy: 0.6974 - val_loss: 0.9586 - val_accuracy: 0.6952\n",
            "Epoch 9/30\n",
            "2500/2500 [==============================] - 6s 3ms/step - loss: 0.9195 - accuracy: 0.7010 - val_loss: 0.9448 - val_accuracy: 0.6941\n",
            "Epoch 10/30\n",
            "2500/2500 [==============================] - 6s 3ms/step - loss: 0.9120 - accuracy: 0.7039 - val_loss: 0.9475 - val_accuracy: 0.6910\n",
            "Epoch 11/30\n",
            "2500/2500 [==============================] - 6s 3ms/step - loss: 0.9050 - accuracy: 0.7057 - val_loss: 0.9395 - val_accuracy: 0.6985\n",
            "Epoch 12/30\n",
            "2500/2500 [==============================] - 6s 3ms/step - loss: 0.9009 - accuracy: 0.7078 - val_loss: 0.9300 - val_accuracy: 0.7055\n",
            "Epoch 13/30\n",
            "2500/2500 [==============================] - 6s 3ms/step - loss: 0.8970 - accuracy: 0.7086 - val_loss: 0.9305 - val_accuracy: 0.7029\n",
            "Epoch 14/30\n",
            "2500/2500 [==============================] - 7s 3ms/step - loss: 0.8920 - accuracy: 0.7103 - val_loss: 0.9322 - val_accuracy: 0.7060\n",
            "Epoch 15/30\n",
            "2500/2500 [==============================] - 6s 3ms/step - loss: 0.8900 - accuracy: 0.7093 - val_loss: 0.9570 - val_accuracy: 0.7025\n",
            "Epoch 16/30\n",
            "2500/2500 [==============================] - 6s 3ms/step - loss: 0.8908 - accuracy: 0.7112 - val_loss: 0.9283 - val_accuracy: 0.7030\n",
            "Epoch 17/30\n",
            "2500/2500 [==============================] - 6s 3ms/step - loss: 0.8870 - accuracy: 0.7107 - val_loss: 0.9490 - val_accuracy: 0.7003\n",
            "Epoch 18/30\n",
            "2500/2500 [==============================] - 7s 3ms/step - loss: 0.8866 - accuracy: 0.7111 - val_loss: 0.9156 - val_accuracy: 0.7053\n",
            "Epoch 19/30\n",
            "2500/2500 [==============================] - 7s 3ms/step - loss: 0.8807 - accuracy: 0.7137 - val_loss: 0.9481 - val_accuracy: 0.6952\n",
            "Epoch 20/30\n",
            "2500/2500 [==============================] - 6s 3ms/step - loss: 0.8809 - accuracy: 0.7114 - val_loss: 0.9645 - val_accuracy: 0.6915\n",
            "Epoch 21/30\n",
            "2500/2500 [==============================] - 6s 3ms/step - loss: 0.8783 - accuracy: 0.7142 - val_loss: 0.9536 - val_accuracy: 0.7068\n",
            "Epoch 22/30\n",
            "2500/2500 [==============================] - 6s 3ms/step - loss: 0.8804 - accuracy: 0.7134 - val_loss: 0.9476 - val_accuracy: 0.7088\n",
            "Epoch 23/30\n",
            "2500/2500 [==============================] - 7s 3ms/step - loss: 0.8764 - accuracy: 0.7130 - val_loss: 0.9742 - val_accuracy: 0.6948\n",
            "Epoch 24/30\n",
            "2500/2500 [==============================] - 7s 3ms/step - loss: 0.8801 - accuracy: 0.7125 - val_loss: 0.9304 - val_accuracy: 0.7057\n",
            "Epoch 25/30\n",
            "2500/2500 [==============================] - 6s 3ms/step - loss: 0.8743 - accuracy: 0.7143 - val_loss: 0.9541 - val_accuracy: 0.7027\n",
            "Epoch 26/30\n",
            "2500/2500 [==============================] - 6s 3ms/step - loss: 0.8744 - accuracy: 0.7152 - val_loss: 0.9258 - val_accuracy: 0.7099\n",
            "Epoch 27/30\n",
            "2500/2500 [==============================] - 6s 3ms/step - loss: 0.8722 - accuracy: 0.7139 - val_loss: 0.9459 - val_accuracy: 0.7049\n",
            "Epoch 28/30\n",
            "2500/2500 [==============================] - 6s 3ms/step - loss: 0.8742 - accuracy: 0.7139 - val_loss: 0.9477 - val_accuracy: 0.7107\n",
            "Epoch 29/30\n",
            "2500/2500 [==============================] - 6s 3ms/step - loss: 0.8720 - accuracy: 0.7163 - val_loss: 0.9498 - val_accuracy: 0.7003\n",
            "Epoch 30/30\n",
            "2500/2500 [==============================] - 6s 3ms/step - loss: 0.8699 - accuracy: 0.7163 - val_loss: 0.9606 - val_accuracy: 0.7035\n"
          ],
          "name": "stdout"
        }
      ]
    },
    {
      "cell_type": "code",
      "metadata": {
        "id": "GxrHKh1LXg6k",
        "colab_type": "code",
        "colab": {
          "base_uri": "https://localhost:8080/",
          "height": 51
        },
        "outputId": "e66c9073-108d-4e28-b3ac-f859ae1b7f79"
      },
      "source": [
        "model.evaluate(X_val, y_val)"
      ],
      "execution_count": 77,
      "outputs": [
        {
          "output_type": "stream",
          "text": [
            "625/625 [==============================] - 1s 2ms/step - loss: 0.9606 - accuracy: 0.7035\n"
          ],
          "name": "stdout"
        },
        {
          "output_type": "execute_result",
          "data": {
            "text/plain": [
              "[0.9605551958084106, 0.7035499811172485]"
            ]
          },
          "metadata": {
            "tags": []
          },
          "execution_count": 77
        }
      ]
    },
    {
      "cell_type": "code",
      "metadata": {
        "id": "pU0fl1hVXhBK",
        "colab_type": "code",
        "colab": {}
      },
      "source": [
        ""
      ],
      "execution_count": null,
      "outputs": []
    },
    {
      "cell_type": "markdown",
      "metadata": {
        "id": "b0QJURWh-9uv",
        "colab_type": "text"
      },
      "source": [
        "### Visualize the results\n",
        "\n",
        "Create charts for both loss and accuracy by epoch. Use line graphs for both charts. Analyze the results. \n",
        "\n",
        "At what point should we have stopped training the model and why? "
      ]
    },
    {
      "cell_type": "code",
      "metadata": {
        "id": "KONJtU5wqlXf",
        "colab_type": "code",
        "colab": {
          "base_uri": "https://localhost:8080/",
          "height": 1000
        },
        "outputId": "b0efdaa2-60fa-484a-8ff0-642498a46323"
      },
      "source": [
        "baseline.history"
      ],
      "execution_count": 78,
      "outputs": [
        {
          "output_type": "execute_result",
          "data": {
            "text/plain": [
              "{'accuracy': [0.3361625075340271,\n",
              "  0.47532498836517334,\n",
              "  0.5671749711036682,\n",
              "  0.6339374780654907,\n",
              "  0.6708874702453613,\n",
              "  0.683287501335144,\n",
              "  0.687375009059906,\n",
              "  0.697350025177002,\n",
              "  0.700950026512146,\n",
              "  0.7039124965667725,\n",
              "  0.7057499885559082,\n",
              "  0.7077624797821045,\n",
              "  0.7085999846458435,\n",
              "  0.7103375196456909,\n",
              "  0.7093250155448914,\n",
              "  0.7111625075340271,\n",
              "  0.7106500267982483,\n",
              "  0.7111374735832214,\n",
              "  0.7136750221252441,\n",
              "  0.7114499807357788,\n",
              "  0.7141749858856201,\n",
              "  0.7133625149726868,\n",
              "  0.71298748254776,\n",
              "  0.7124500274658203,\n",
              "  0.714287519454956,\n",
              "  0.7152125239372253,\n",
              "  0.7139124870300293,\n",
              "  0.7139124870300293,\n",
              "  0.7162500023841858,\n",
              "  0.7162500023841858],\n",
              " 'loss': [2.4509520530700684,\n",
              "  1.4630653858184814,\n",
              "  1.242039680480957,\n",
              "  1.0838141441345215,\n",
              "  1.0113770961761475,\n",
              "  0.9793228507041931,\n",
              "  0.9586515426635742,\n",
              "  0.9340338110923767,\n",
              "  0.9194687604904175,\n",
              "  0.9120416045188904,\n",
              "  0.9050213694572449,\n",
              "  0.9009437561035156,\n",
              "  0.8970266580581665,\n",
              "  0.8920313715934753,\n",
              "  0.889961302280426,\n",
              "  0.8907856345176697,\n",
              "  0.8869991302490234,\n",
              "  0.8866470456123352,\n",
              "  0.8806862235069275,\n",
              "  0.8808960914611816,\n",
              "  0.878308117389679,\n",
              "  0.8804479241371155,\n",
              "  0.8763536214828491,\n",
              "  0.8801096677780151,\n",
              "  0.8743390440940857,\n",
              "  0.8744251132011414,\n",
              "  0.8721569180488586,\n",
              "  0.8741993308067322,\n",
              "  0.8719726800918579,\n",
              "  0.8699209690093994],\n",
              " 'val_accuracy': [0.4318000078201294,\n",
              "  0.5181999802589417,\n",
              "  0.6003000140190125,\n",
              "  0.6558499932289124,\n",
              "  0.676800012588501,\n",
              "  0.6812999844551086,\n",
              "  0.685699999332428,\n",
              "  0.6952499747276306,\n",
              "  0.6941499710083008,\n",
              "  0.6909999847412109,\n",
              "  0.6985499858856201,\n",
              "  0.7055000066757202,\n",
              "  0.7028999924659729,\n",
              "  0.7060499787330627,\n",
              "  0.7024999856948853,\n",
              "  0.703000009059906,\n",
              "  0.7003499865531921,\n",
              "  0.7053499817848206,\n",
              "  0.6952000260353088,\n",
              "  0.6915000081062317,\n",
              "  0.706849992275238,\n",
              "  0.7087500095367432,\n",
              "  0.6947500109672546,\n",
              "  0.7057499885559082,\n",
              "  0.7027000188827515,\n",
              "  0.7099499702453613,\n",
              "  0.7049499750137329,\n",
              "  0.7107499837875366,\n",
              "  0.7002500295639038,\n",
              "  0.7035499811172485],\n",
              " 'val_loss': [1.6322391033172607,\n",
              "  1.3442302942276,\n",
              "  1.1777983903884888,\n",
              "  1.0449647903442383,\n",
              "  1.0086297988891602,\n",
              "  0.9968065619468689,\n",
              "  0.9737842082977295,\n",
              "  0.9586374163627625,\n",
              "  0.9447781443595886,\n",
              "  0.9475120306015015,\n",
              "  0.9394749999046326,\n",
              "  0.9299536943435669,\n",
              "  0.9304771423339844,\n",
              "  0.9321693181991577,\n",
              "  0.9570279121398926,\n",
              "  0.9282813668251038,\n",
              "  0.9490114450454712,\n",
              "  0.9156114459037781,\n",
              "  0.9481154084205627,\n",
              "  0.9645219445228577,\n",
              "  0.9535515904426575,\n",
              "  0.9476261734962463,\n",
              "  0.9741815328598022,\n",
              "  0.9304046630859375,\n",
              "  0.9541411399841309,\n",
              "  0.9258370399475098,\n",
              "  0.9458592534065247,\n",
              "  0.9476727247238159,\n",
              "  0.9497542977333069,\n",
              "  0.9605551958084106]}"
            ]
          },
          "metadata": {
            "tags": []
          },
          "execution_count": 78
        }
      ]
    },
    {
      "cell_type": "code",
      "metadata": {
        "id": "ijAlzfYKAFaY",
        "colab_type": "code",
        "colab": {
          "base_uri": "https://localhost:8080/",
          "height": 279
        },
        "outputId": "460b67b2-b22b-48fe-d2b1-ff8f33f28a33"
      },
      "source": [
        "import seaborn as sns\n",
        "import pandas as pd\n",
        "\n",
        "df = pd.DataFrame.from_records(baseline.history)\n",
        "df['epoch'] = [i for i in range(df.shape[0])]\n",
        "\n",
        "ax = sns.lineplot(x='epoch', y='val_loss', data=df)\n",
        "ax = sns.lineplot(x='epoch', y='loss', data=df);"
      ],
      "execution_count": 79,
      "outputs": [
        {
          "output_type": "display_data",
          "data": {
            "image/png": "[encoded data removed]",
            "text/plain": [
              "<Figure size 432x288 with 1 Axes>"
            ]
          },
          "metadata": {
            "tags": [],
            "needs_background": "light"
          }
        }
      ]
    },
    {
      "cell_type": "markdown",
      "metadata": {
        "id": "MAhBrcE4yOZe",
        "colab_type": "text"
      },
      "source": [
        "## Change Optimizers\n",
        "Try using the keras `adam` optimizer instead of `sgd` in your model. Visualize the difference in validation loss between the models with different optimizers. "
      ]
    },
    {
      "cell_type": "code",
      "metadata": {
        "id": "jIW_spOZ0cxy",
        "colab_type": "code",
        "colab": {}
      },
      "source": [
        "from tf.keras.optimizers import Adam\n",
        "\n",
        "adam = Adam()"
      ],
      "execution_count": null,
      "outputs": []
    },
    {
      "cell_type": "markdown",
      "metadata": {
        "id": "EJrbh3qryi4w",
        "colab_type": "text"
      },
      "source": [
        "### Additional Written Tasks:\n",
        "In this section, you will need to search for resources: \n",
        "1. Investigate the various [loss functions](https://www.tensorflow.org/api_docs/python/tf/keras/losses). Which is best suited for the task at hand (predicting 1 / 0) and why? \n",
        "2. What is the difference between a loss function and a metric? Why might we need both in Keras? \n",
        "3. Investigate the various [optimizers](https://www.tensorflow.org/api_docs/python/tf/keras/optimizers). Stochastic Gradient Descent (`sgd`) is not the learning algorithm dejour anyone. Why is that? What do newer optimizers such as `adam` have to offer? "
      ]
    },
    {
      "cell_type": "markdown",
      "metadata": {
        "id": "Gzs4fd-RynDd",
        "colab_type": "text"
      },
      "source": [
        "## Stretch Goals: \n",
        "\n",
        "- Research convolutional neural networks and try including convolution layers in your network.\n",
        "- Pick two classes and make QuickDraw a binary classification problem, how does your model architecture change?\n",
        "- Implement Cross Validation model evaluation on your Quickdraw implementation \n",
        "\n",
        "Watch some more videos on Gradient Descent:\n",
        "- [Gradient Descent, Step-by-Step](https://www.youtube.com/watch?v=sDv4f4s2SB8)  by StatQuest w/ Josh Starmer. This will help you understand the gradient descent based optimization that happens underneath the hood of neural networks. It uses a non-neural network example, which I believe is a gentler introduction. You will hear me refer to this technique as \"vanilla\" gradient descent. \n",
        "- [Stochastic Gradient Descent, Clearly Explained!!!](https://www.youtube.com/watch?v=vMh0zPT0tLI) by StatQuest w/ Josh Starmer. This builds on the techniques in the previous video.  This technique is the one that is actually implemented inside modern 'nets. \n",
        "- [Siraj Raval the evolution of gradient descent](https://www.youtube.com/watch?v=nhqo0u1a6fw)"
      ]
    }
  ]
}